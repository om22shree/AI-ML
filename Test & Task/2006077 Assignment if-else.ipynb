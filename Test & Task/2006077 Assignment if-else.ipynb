{
 "cells": [
  {
   "cell_type": "markdown",
   "id": "a2c9c6c9",
   "metadata": {},
   "source": [
    "# If - Else task\n",
    "Write a python program to categorise animals according to their characteristic features, differentiate on the basis of height."
   ]
  },
  {
   "cell_type": "code",
   "execution_count": 23,
   "id": "6db30c9d",
   "metadata": {},
   "outputs": [
    {
     "name": "stdout",
     "output_type": "stream",
     "text": [
      "Tall: >= 1 ft or True \n",
      "Short: < 1 ft or False \n",
      "Is the animal tall or short: tall\n",
      "Animal is tall\n",
      "Animal's neck: short\n",
      "The animal is tall but has a short neck\n",
      "The animal's nose: short\n",
      "The animal is tall, short neck, short nose\n",
      "Is the animal terrestrial: sdgh\n",
      "Wrong input, program has been terminated\n"
     ]
    }
   ],
   "source": [
    "root = input(\"Tall: >= 1 ft or True \\nShort: < 1 ft or False \\nIs the animal tall or short: \")\n",
    "\n",
    "#level 1 : differentiate on the basis of height\n",
    "if root == 'tall':\n",
    "    print(\"Animal is tall\")\n",
    "    \n",
    "    #level 2 : differentiate on the basis of neck\n",
    "    neck = input(\"Animal's neck: \")\n",
    "    if neck == 'tall':\n",
    "        print(\"The animal is tall and has a tall neck, hence it might be a Giraffe\")\n",
    "    elif neck == 'short':\n",
    "        print(\"The animal is tall but has a short neck\")\n",
    "        \n",
    "        #level 3 : differentiate on the basis of nose\n",
    "        nose = input(\"The animal's nose: \")\n",
    "        if nose == 'tall':\n",
    "            print(\"The animal is tall, short neck with long nose, it might be an elephant\")\n",
    "        elif nose == 'short':\n",
    "            print(\"The animal is tall, short neck, short nose\")\n",
    "            \n",
    "            #level 4 : differentiate on the basis of terrestrial habitat\n",
    "            terrestrial = input(\"Is the animal terrestrial: \") \n",
    "            if terrestrial == 'tall':\n",
    "                print(\"Animal is tall, short neck, short nose, terrestrial, might be a rhino\")\n",
    "            elif terrestrial == 'short':\n",
    "                print(\"Animal is tall, short neck, short nose, not terrestrial, might be a hippo\")\n",
    "            \n",
    "            # termination conditions\n",
    "            else:\n",
    "                print(\"Wrong input, program has been terminated\")\n",
    "        else:\n",
    "            print(\"Wrong input, program has been terminated\")\n",
    "    else:\n",
    "        print(\"Wrong input, program has been terminated\")\n",
    "    \n",
    "elif root == 'short':\n",
    "    print(\"Animal is short\")\n",
    "    #level 5 : differentiate on the basis of squeak \n",
    "    squeak = input(\"Can the animal squeak: \")\n",
    "    \n",
    "    if squeak == 'tall':\n",
    "        print(\"Animal can squeak, hence the animal might be a rat\")\n",
    "    elif squeak == 'short':\n",
    "        print(\"Animal can't squeak, hence the animal might be a squirrel\")\n",
    "    \n",
    "    # termination conditions\n",
    "    else:\n",
    "        print(\"Wrong input, program has been terminated\")\n",
    "else:\n",
    "    print(\"Wrong input, program has been terminated\")"
   ]
  }
 ],
 "metadata": {
  "kernelspec": {
   "display_name": "Python 3 (ipykernel)",
   "language": "python",
   "name": "python3"
  },
  "language_info": {
   "codemirror_mode": {
    "name": "ipython",
    "version": 3
   },
   "file_extension": ".py",
   "mimetype": "text/x-python",
   "name": "python",
   "nbconvert_exporter": "python",
   "pygments_lexer": "ipython3",
   "version": "3.10.4"
  }
 },
 "nbformat": 4,
 "nbformat_minor": 5
}
