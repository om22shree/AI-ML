{
 "cells": [
  {
   "cell_type": "markdown",
   "metadata": {
    "slideshow": {
     "slide_type": "slide"
    }
   },
   "source": [
    "## Sequence Type of DataType"
   ]
  },
  {
   "cell_type": "markdown",
   "metadata": {
    "slideshow": {
     "slide_type": "fragment"
    }
   },
   "source": [
    "- In Python, sequence is the ordered collection of similar or different data types.\n",
    "- Sequences allows to store multiple values in an organized and efficient fashion.\n",
    "- There are several sequence types in Python\n",
    "    - String \n",
    "    - List\n",
    "    - Tuple"
   ]
  },
  {
   "cell_type": "markdown",
   "metadata": {
    "slideshow": {
     "slide_type": "slide"
    }
   },
   "source": [
    "## String DataType"
   ]
  },
  {
   "cell_type": "markdown",
   "metadata": {
    "slideshow": {
     "slide_type": "fragment"
    }
   },
   "source": [
    "- In Python, Strings are arrays of bytes representing Unicode characters.\n",
    "- A string is a collection of one or more characters put in a single quote, double-quote or triple quote. \n",
    "- In python there is no character data type, a character is a string of length one. It is represented by str class."
   ]
  },
  {
   "cell_type": "markdown",
   "metadata": {
    "slideshow": {
     "slide_type": "slide"
    }
   },
   "source": [
    "## Examples: "
   ]
  },
  {
   "cell_type": "code",
   "execution_count": 10,
   "metadata": {
    "slideshow": {
     "slide_type": "fragment"
    }
   },
   "outputs": [
    {
     "name": "stdout",
     "output_type": "stream",
     "text": [
      "String with the use of Single Quotes: \n",
      "Welcome to the Grass. \n",
      "Class : <class 'str'>\n"
     ]
    }
   ],
   "source": [
    "String1 = 'Welcome to the Grras.'\n",
    "print(\"String with the use of Single Quotes: \")\n",
    "print(String1,'\\nClass :',type(String1)) "
   ]
  },
  {
   "cell_type": "code",
   "execution_count": 19,
   "metadata": {
    "slideshow": {
     "slide_type": "slide"
    }
   },
   "outputs": [
    {
     "name": "stdout",
     "output_type": "stream",
     "text": [
      "All the method in String :  ['__repr__', '__hash__', '__str__', '__getattribute__', '__lt__', '__le__', '__eq__', '__ne__', '__gt__', '__ge__', '__iter__', '__mod__', '__rmod__', '__len__', '__getitem__', '__add__', '__mul__', '__rmul__', '__contains__', '__new__', 'encode', 'replace', 'split', 'rsplit', 'join', 'capitalize', 'casefold', 'title', 'center', 'count', 'expandtabs', 'find', 'partition', 'index', 'ljust', 'lower', 'lstrip', 'rfind', 'rindex', 'rjust', 'rstrip', 'rpartition', 'splitlines', 'strip', 'swapcase', 'translate', 'upper', 'startswith', 'endswith', 'isascii', 'islower', 'isupper', 'istitle', 'isspace', 'isdecimal', 'isdigit', 'isnumeric', 'isalpha', 'isalnum', 'isidentifier', 'isprintable', 'zfill', 'format', 'format_map', '__format__', 'maketrans', '__sizeof__', '__getnewargs__', '__doc__', '__setattr__', '__delattr__', '__init__', '__reduce_ex__', '__reduce__', '__subclasshook__', '__init_subclass__', '__dir__', '__class__']\n"
     ]
    }
   ],
   "source": [
    "print('All the method in String : ',String1.__dir__())"
   ]
  },
  {
   "cell_type": "markdown",
   "metadata": {
    "slideshow": {
     "slide_type": "slide"
    }
   },
   "source": [
    "## Two Important Method in String "
   ]
  },
  {
   "cell_type": "markdown",
   "metadata": {
    "slideshow": {
     "slide_type": "fragment"
    }
   },
   "source": [
    "- Split method\n",
    "- join method"
   ]
  },
  {
   "cell_type": "markdown",
   "metadata": {
    "slideshow": {
     "slide_type": "slide"
    }
   },
   "source": [
    "### 1. Split Method"
   ]
  },
  {
   "cell_type": "markdown",
   "metadata": {
    "slideshow": {
     "slide_type": "fragment"
    }
   },
   "source": [
    "* The **split()** method splits a string into a list.\n",
    "* You can specify the separator, default separator is whitespace."
   ]
  },
  {
   "cell_type": "code",
   "execution_count": 14,
   "metadata": {
    "slideshow": {
     "slide_type": "fragment"
    }
   },
   "outputs": [
    {
     "name": "stdout",
     "output_type": "stream",
     "text": [
      "['hello', 'my name is Peter', 'I am 26 years old']\n"
     ]
    }
   ],
   "source": [
    "# Example\n",
    "txt = \"hello, my name is Peter, I am 26 years old\"\n",
    "x = txt.split(\", \") ## Syntex : string.split(sep, maxsplit)\n",
    "print(x)"
   ]
  },
  {
   "cell_type": "markdown",
   "metadata": {
    "slideshow": {
     "slide_type": "slide"
    }
   },
   "source": [
    "### 2. Join Method"
   ]
  },
  {
   "cell_type": "markdown",
   "metadata": {
    "slideshow": {
     "slide_type": "fragment"
    }
   },
   "source": [
    "* The join() method takes all items in an iterable and joins them into one string.\n",
    "* A string must be specified as the separator."
   ]
  },
  {
   "cell_type": "code",
   "execution_count": 13,
   "metadata": {
    "slideshow": {
     "slide_type": "fragment"
    }
   },
   "outputs": [
    {
     "name": "stdout",
     "output_type": "stream",
     "text": [
      "We are study in Grass.\n"
     ]
    }
   ],
   "source": [
    "# Example\n",
    "myList = [\"We\",'are',\"\"\"study in Grass.\"\"\"]\n",
    "x = ' '.join(myList)  # Syntex  : string.join(iterable)\n",
    "\n",
    "print(x)"
   ]
  },
  {
   "cell_type": "markdown",
   "metadata": {
    "slideshow": {
     "slide_type": "slide"
    }
   },
   "source": [
    "### String Related Questions"
   ]
  },
  {
   "cell_type": "code",
   "execution_count": 1,
   "metadata": {},
   "outputs": [
    {
     "name": "stdout",
     "output_type": "stream",
     "text": [
      "eneicS\n"
     ]
    }
   ],
   "source": [
    "# Ques 1: write the output of the following code.\n",
    "string = 'DataSciene'\n",
    "print(string[-1:-7:-1])"
   ]
  },
  {
   "cell_type": "code",
   "execution_count": 3,
   "metadata": {},
   "outputs": [
    {
     "name": "stdout",
     "output_type": "stream",
     "text": [
      "hOWaREyOU123\n"
     ]
    }
   ],
   "source": [
    "# Ques 2: Write a code to print.\n",
    "string = 'HowAreYou123'\n",
    "# output : 'hOWaREyOU123'\n",
    "    \n",
    "print(string.swapcase())   ## try other method to slove lab questions."
   ]
  },
  {
   "cell_type": "code",
   "execution_count": 4,
   "metadata": {},
   "outputs": [
    {
     "name": "stdout",
     "output_type": "stream",
     "text": [
      "['python', 'java', 'c++', 'c']\n"
     ]
    }
   ],
   "source": [
    "# Ques 3: Write a code.\n",
    "word = 'python:java:c++:c'\n",
    "# output : ['python', 'java','c++','c'] \n",
    "print(word.split(':'))"
   ]
  },
  {
   "cell_type": "code",
   "execution_count": null,
   "metadata": {
    "slideshow": {
     "slide_type": "fragment"
    }
   },
   "outputs": [],
   "source": [
    "## Do it your self.\n",
    "Ques 4: Define DataType? How many type of datatype in python."
   ]
  },
  {
   "cell_type": "code",
   "execution_count": null,
   "metadata": {
    "slideshow": {
     "slide_type": "fragment"
    }
   },
   "outputs": [],
   "source": [
    "Ques 5: write the output of the following code.\n",
    "string = 'DataSciene'\n",
    "print(string[-1:-5])"
   ]
  },
  {
   "cell_type": "code",
   "execution_count": null,
   "metadata": {
    "slideshow": {
     "slide_type": "fragment"
    }
   },
   "outputs": [],
   "source": [
    "Ques 7: Write a code to print.\n",
    "string = 'DataScience'\n",
    "output : 'DtSin'"
   ]
  },
  {
   "cell_type": "code",
   "execution_count": null,
   "metadata": {
    "slideshow": {
     "slide_type": "slide"
    }
   },
   "outputs": [],
   "source": [
    "Ques 7: Write a code to print.\n",
    "string  = '    Talk Is Cheap! Show me the code.      '\n",
    "output1 : '    TALK IS CHEAP! SHOW ME THE CODE.      '\n",
    "output2 : '    Talk Is Cheap! Show Me The Code.      '\n",
    "output3 : '    TALK IS CHEAP! SHOW ME THE CODE.      '\n",
    "output4 : '    Talk Is Cheap! Show me the code.'\n",
    "output5 : 'Talk Is Cheap! Show me the code.      '\n",
    "output6 : 'Talk Is Cheap! Show me the code.'\n",
    "output7 : '    TALK IS CHEAP! SHOW ME THE CODE.      '\n",
    "output8 : '***************************    Talking Is Cheap! Show me the code.      ****************************'"
   ]
  },
  {
   "cell_type": "code",
   "execution_count": null,
   "metadata": {
    "slideshow": {
     "slide_type": "fragment"
    }
   },
   "outputs": [],
   "source": [
    "Ques 8: Write a code.\n",
    "word = 'Sunday;Monday;Tuesday;Wednesday'\n",
    "output : ['Sunday', 'Monday', 'Tuesday', 'Wednesday']"
   ]
  },
  {
   "cell_type": "code",
   "execution_count": null,
   "metadata": {
    "slideshow": {
     "slide_type": "slide"
    }
   },
   "outputs": [],
   "source": [
    "Ques 9: Write a code.\n",
    "lst = ['Work','for','it.','more','then','you','hope','for','it.']\n",
    "output : 'Work**for**it.**more**then**you**hope**for**it.'"
   ]
  },
  {
   "cell_type": "code",
   "execution_count": null,
   "metadata": {
    "slideshow": {
     "slide_type": "fragment"
    }
   },
   "outputs": [],
   "source": [
    "Ques 10: Find the index{'y', rightindex->'e', rightindex->'f'}.  \n",
    "string = \"Work for it. more then you hope for it.\""
   ]
  }
 ],
 "metadata": {
  "celltoolbar": "Slideshow",
  "kernelspec": {
   "display_name": "Python 3",
   "language": "python",
   "name": "python3"
  },
  "language_info": {
   "codemirror_mode": {
    "name": "ipython",
    "version": 3
   },
   "file_extension": ".py",
   "mimetype": "text/x-python",
   "name": "python",
   "nbconvert_exporter": "python",
   "pygments_lexer": "ipython3",
   "version": "3.8.3"
  }
 },
 "nbformat": 4,
 "nbformat_minor": 2
}
