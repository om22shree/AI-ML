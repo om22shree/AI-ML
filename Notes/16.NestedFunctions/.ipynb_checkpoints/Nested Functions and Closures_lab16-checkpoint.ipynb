{
 "cells": [
  {
   "cell_type": "markdown",
   "metadata": {
    "slideshow": {
     "slide_type": "slide"
    }
   },
   "source": [
    "## Nested functions in Python"
   ]
  },
  {
   "cell_type": "markdown",
   "metadata": {
    "slideshow": {
     "slide_type": "fragment"
    }
   },
   "source": [
    "- A function which is defined inside another function is known as nested function. Nested functions are able to access variables of the enclosing scope."
   ]
  },
  {
   "cell_type": "markdown",
   "metadata": {
    "slideshow": {
     "slide_type": "fragment"
    }
   },
   "source": [
    "- In Python, these non-local variables can be accessed only within their scope and not outside their scope. This can be illustrated by following example:"
   ]
  },
  {
   "cell_type": "markdown",
   "metadata": {
    "slideshow": {
     "slide_type": "slide"
    }
   },
   "source": [
    "<img src='https://drive.google.com/uc?id=1V35FTDmo-vgtr48-8ZSUzIQadELmXORT' height=400px width=500px> \n",
    "<img src='https://drive.google.com/uc?id=1Dz1iL8uBz-BqLUp1EvUWQgXRnEnrw6BQ' height=400px width=500px> "
   ]
  },
  {
   "cell_type": "markdown",
   "metadata": {
    "slideshow": {
     "slide_type": "slide"
    }
   },
   "source": [
    "#### Example\n",
    "##### These following examples program to illustrate that how the nested functions is work. First example show you a simple print statement using the nested function. Second example show you the idea about local and global variable."
   ]
  },
  {
   "cell_type": "code",
   "execution_count": 3,
   "metadata": {
    "slideshow": {
     "slide_type": "slide"
    }
   },
   "outputs": [
    {
     "name": "stdout",
     "output_type": "stream",
     "text": [
      "Hey!\n",
      "**********************************************************************\n",
      "\n",
      " The value of number in innerFunction function is :  20 Id :  140704713119136\n",
      "\n",
      " The value of number in outerFunction function is :  10 ID :  140704713118816\n",
      "\n",
      " The value of number globally is :  30 Id :  140704713119456\n"
     ]
    }
   ],
   "source": [
    "# Example 1\n",
    "# Python program to illustrate \n",
    "# nested functions \n",
    "def outerFunction(text): \n",
    "    text = text \n",
    "    \n",
    "    ## Inner function\n",
    "    def innerFunction(): \n",
    "        print(text) \n",
    "\n",
    "    innerFunction() \n",
    "\n",
    "if __name__ == '__main__': \n",
    "    outerFunction('Hey!') \n",
    "    print(\"*\"*70)\n",
    "    \n",
    "# Example2\n",
    "number = 30\n",
    "def outerFunction():\n",
    "    number = 10\n",
    "    def innerFunction():\n",
    "        number = 20\n",
    "        print(\"\\n The value of number in innerFunction function is : \",number,\"Id : \",id(number))\n",
    "    innerFunction()\n",
    "    print(\"\\n The value of number in outerFunction function is : \",number,\"ID : \",id(number))\n",
    "outerFunction()\n",
    "print(\"\\n The value of number globally is : \",number,\"Id : \",id(number))"
   ]
  },
  {
   "cell_type": "markdown",
   "metadata": {
    "slideshow": {
     "slide_type": "slide"
    }
   },
   "source": [
    "- As we can see innerFunction() can easily be accessed inside the outerFunction body but not outside of it’s body. \n",
    "- Hence, here, innerFunction() is treated as nested Function which uses text as non-local variable."
   ]
  },
  {
   "cell_type": "markdown",
   "metadata": {
    "slideshow": {
     "slide_type": "slide"
    }
   },
   "source": [
    "#### Example\n",
    "##### These following examples program to illustrate that local, nonlocal and global variables working. Check the value of num variable in the local, non-local and global scope."
   ]
  },
  {
   "cell_type": "code",
   "execution_count": 7,
   "metadata": {
    "slideshow": {
     "slide_type": "fragment"
    }
   },
   "outputs": [
    {
     "name": "stdout",
     "output_type": "stream",
     "text": [
      "\n",
      " The value of num is :  21\n",
      " The value of num is :  140704713119168\n",
      "\n",
      " The value of num is :  25\n",
      " The value of num is :  140704713119296\n",
      "\n",
      " The value of num is :  25\n",
      " The value of num is :  140704713119296\n",
      "\n",
      " The value of num is :  21\n",
      " The value of num is :  140704713119168\n"
     ]
    }
   ],
   "source": [
    "num = 20\n",
    "def outer():\n",
    "    global num\n",
    "    num += 1\n",
    "    print(\"\\n The value of num is : \",num)\n",
    "    print(\" The value of num is : \",id(num))\n",
    "\n",
    "    def inner():\n",
    "        num = 20\n",
    "        def inner1():\n",
    "            nonlocal num\n",
    "            num += 5\n",
    "            print(\"\\n The value of num is : \",num)\n",
    "            print(\" The value of num is : \",id(num))\n",
    "\n",
    "        inner1()\n",
    "        print(\"\\n The value of num is : \",num)\n",
    "        print(\" The value of num is : \",id(num))\n",
    "\n",
    "    inner()\n",
    "outer()\n",
    "print(\"\\n The value of num is : \",num)\n",
    "print(\" The value of num is : \",id(num))"
   ]
  },
  {
   "cell_type": "markdown",
   "metadata": {
    "slideshow": {
     "slide_type": "slide"
    }
   },
   "source": [
    "## Python Closures"
   ]
  },
  {
   "cell_type": "markdown",
   "metadata": {
    "slideshow": {
     "slide_type": "fragment"
    }
   },
   "source": [
    "- A Closure is a function object that remembers values in enclosing scopes even if they are not present in memory."
   ]
  },
  {
   "cell_type": "markdown",
   "metadata": {
    "slideshow": {
     "slide_type": "fragment"
    }
   },
   "source": [
    "- It is a record that stores a function together with an environment: a mapping associating each free variable of the function (variables that are used locally, but defined in an enclosing scope) with the value or reference to which the name was bound when the closure was created."
   ]
  },
  {
   "cell_type": "markdown",
   "metadata": {
    "slideshow": {
     "slide_type": "fragment"
    }
   },
   "source": [
    "- A closure—unlike a plain function—allows the function to access those captured variables through the closure’s copies of their values or references, even when the function is invoked outside their scope."
   ]
  },
  {
   "cell_type": "markdown",
   "metadata": {
    "slideshow": {
     "slide_type": "slide"
    }
   },
   "source": [
    "<img src='https://drive.google.com/uc?id=1_tUPf11_fejpvqyoEIgjGfzgdypxPwgU' height=500px width=500px> "
   ]
  },
  {
   "cell_type": "markdown",
   "metadata": {
    "slideshow": {
     "slide_type": "slide"
    }
   },
   "source": [
    "#### Example \n",
    "##### These following examples program to illustrate you that how the closures function work with print statment. The second example is show you how to pass use the different-2 function like add, mul, sub, square etc. The third Example show you that how to calculate Squares and cubs using closures."
   ]
  },
  {
   "cell_type": "code",
   "execution_count": 13,
   "metadata": {
    "slideshow": {
     "slide_type": "fragment"
    }
   },
   "outputs": [
    {
     "name": "stdout",
     "output_type": "stream",
     "text": [
      "Hey!\n",
      "************************************************************\n",
      "25\n",
      "-1\n",
      "156\n",
      "1728\n",
      "************************************************************\n",
      "4\n",
      "9\n",
      "16\n",
      "25\n",
      "\n",
      "8\n",
      "27\n",
      "64\n",
      "125\n"
     ]
    }
   ],
   "source": [
    "# Python program to illustrate \n",
    "# closures \n",
    "def outerFunction(text): \n",
    "    text = text \n",
    "\n",
    "    def innerFunction(): \n",
    "        print(text) \n",
    "\n",
    "    # Note we are returning function \n",
    "    # WITHOUT parenthesis \n",
    "    return innerFunction \n",
    "\n",
    "if __name__ == '__main__': \n",
    "    myFunction = outerFunction('Hey!') \n",
    "    myFunction() \n",
    "    print('*'*60)\n",
    "\n",
    "    \n",
    "# Example2\n",
    "def add(a,b):\n",
    "    return a+b\n",
    "\n",
    "def sub(a,b):\n",
    "    return a-b\n",
    "\n",
    "def mul(a,b):\n",
    "    return a*b\n",
    "\n",
    "def sq(a):\n",
    "    return a**2\n",
    "\n",
    "def cube(a):\n",
    "    return a**3\n",
    "\n",
    "def operation(func,*args):  #func = add, a = 12, b = 13\n",
    "    result = func(*args) #add(12,13)\n",
    "    return result\n",
    "\n",
    "print(operation(add,12,13))\n",
    "print(operation(sub,12,13))\n",
    "print(operation(mul,12,13))\n",
    "print(operation(cube,12))\n",
    "print('*'*60)\n",
    "\n",
    "\n",
    "## Example3\n",
    "def nth_power(exponent):\n",
    "    def pow_of(base):\n",
    "        return pow(base, exponent)\n",
    "    return pow_of\n",
    "\n",
    "square = nth_power(2)\n",
    "print(square(2))\n",
    "print(square(3))\n",
    "print(square(4))\n",
    "print(square(5))\n",
    "print()\n",
    "cube = nth_power(3)\n",
    "print(cube(2))\n",
    "print(cube(3))\n",
    "print(cube(4))\n",
    "print(cube(5))"
   ]
  },
  {
   "cell_type": "markdown",
   "metadata": {
    "slideshow": {
     "slide_type": "slide"
    }
   },
   "source": [
    "#### Note:\n",
    "1. As observed from above code, closures help to invoke function outside their scope.\n",
    "2. The function innerFunction has its scope only inside the outerFunction. But with the use of closures we can easily extend its scope to invoke a function outside its scope.\n"
   ]
  },
  {
   "cell_type": "markdown",
   "metadata": {
    "slideshow": {
     "slide_type": "slide"
    }
   },
   "source": [
    "## When do we have closures?"
   ]
  },
  {
   "cell_type": "markdown",
   "metadata": {
    "slideshow": {
     "slide_type": "fragment"
    }
   },
   "source": [
    "- As seen from the above example, we have a closure in Python when a nested function references a value in its enclosing scope."
   ]
  },
  {
   "cell_type": "markdown",
   "metadata": {
    "slideshow": {
     "slide_type": "fragment"
    }
   },
   "source": [
    "- The criteria that must be met to create closure in Python are summarized in the following points."
   ]
  },
  {
   "cell_type": "markdown",
   "metadata": {
    "slideshow": {
     "slide_type": "fragment"
    }
   },
   "source": [
    "- We must have a nested function (function inside a function)."
   ]
  },
  {
   "cell_type": "markdown",
   "metadata": {
    "slideshow": {
     "slide_type": "fragment"
    }
   },
   "source": [
    "- The nested function must refer to a value defined in the enclosing function."
   ]
  },
  {
   "cell_type": "markdown",
   "metadata": {
    "slideshow": {
     "slide_type": "fragment"
    }
   },
   "source": [
    "- The enclosing function must return the nested function."
   ]
  },
  {
   "cell_type": "markdown",
   "metadata": {
    "slideshow": {
     "slide_type": "slide"
    }
   },
   "source": [
    "## When to use closures?"
   ]
  },
  {
   "cell_type": "markdown",
   "metadata": {
    "slideshow": {
     "slide_type": "fragment"
    }
   },
   "source": [
    "- Closures can avoid the use of global values and provides some form of data hiding. It can also provide an object oriented solution to the problem."
   ]
  },
  {
   "cell_type": "markdown",
   "metadata": {
    "slideshow": {
     "slide_type": "fragment"
    }
   },
   "source": [
    "- When there are few methods (one method in most cases) to be implemented in a class, closures can provide an alternate and more elegant solution. But when the number of attributes and methods get larger, it's better to implement a class."
   ]
  },
  {
   "cell_type": "markdown",
   "metadata": {
    "slideshow": {
     "slide_type": "slide"
    }
   },
   "source": [
    "### Do It Yourself using nested function and Closures"
   ]
  },
  {
   "cell_type": "code",
   "execution_count": null,
   "metadata": {
    "slideshow": {
     "slide_type": "slide"
    }
   },
   "outputs": [],
   "source": [
    "# Ques:\n",
    "    Create an inner function to calculate the addition, subtraction, multiplecation and division in the following way\n",
    "        1. Create an outer function that will accept two parameters a and b\n",
    "        2. Create an inner function inside an outer function that will calculate the addition of a and b\n",
    "        3. Create an inner function inside an outer function that will calculate the subtraction of a and b\n",
    "        4. Create an inner function inside an outer function that will calculate the multiplecation of a and b\n",
    "        5. Create an inner function inside an outer function that will calculate the division of a and b\n",
    "        6. At last, an outer function will add 5 into addition, subtract 5 from subtraction and return it\n",
    "\n",
    "# Input Format:\n",
    "    First line contains a and b, the number of positive integers.\n",
    "\n",
    "# Output Format:\n",
    "    Print the all function calculations in the proper format.\n",
    "\n",
    "# Sample Input:\n",
    "    40 20\n",
    "    \n",
    "# Sample Output:\n",
    "    Addition: 65\n",
    "    subtraction: 15\n",
    "    multiplecation: 800\n",
    "    division: 2.0\n",
    "    \n",
    "    \n",
    "# Explanation:\n",
    "    Addition --> 40+20 => 60 + 5(outer function add 5)\n",
    "                       => 65\n",
    "    subtraction --> 40-20 => 20 - 5(outer function sub. 5)\n",
    "                       => 15\n",
    "    multiplecation --> 40 * 20 => 800\n",
    "    division => 40 / 20 => 2.0"
   ]
  },
  {
   "cell_type": "code",
   "execution_count": null,
   "metadata": {
    "slideshow": {
     "slide_type": "slide"
    }
   },
   "outputs": [],
   "source": [
    "# Ques:\n",
    "    Create a program which is used to calculate the total salary of employee by given the following data as input and using\n",
    "    the following scenario:\n",
    "    data = {\n",
    "            \"Rohan\" : { \"Base Pay\" : 15000,\n",
    "                     \"Overtime Pay\" : 2000,\n",
    "                     \"Other Pay\" : 15000,\n",
    "                     \"Profile\" : \"General Manager\" \n",
    "                   },\n",
    "            \"Albert\" : { \"Base Pay\" : 15000,\n",
    "                     \"Overtime Pay\" : 0,\n",
    "                     \"Other Pay\" : 15000,\n",
    "                     \"Profile\" : \"General Manager\" \n",
    "                   },\n",
    "        \n",
    "            \"Jhon\" : { \"Base Pay\" : 18000,\n",
    "                     \"Overtime Pay\" : 800,\n",
    "                     \"Other Pay\" : 10000,\n",
    "                     \"Profile\" : \"General Manager\" \n",
    "                   },\n",
    "            \"Nick\" : { \"Base Pay\" : 20000,\n",
    "                     \"Overtime Pay\" : 1000,\n",
    "                     \"Other Pay\" : 17000,\n",
    "                     \"Profile\" : \"General Manager\" \n",
    "                   },\n",
    "            \"Tim\" : { \"Base Pay\" : 13000,\n",
    "                     \"Overtime Pay\" : 0,\n",
    "                     \"Other Pay\" : 19000,\n",
    "                     \"Profile\" : \"General Manager\" \n",
    "                   },\n",
    "        }\n",
    "    1. Create an outer function that will accept the above data as parameter\n",
    "    2. Create an inner function which will use this data and return the total pay of each employee in a list\n",
    "       Total pay = Base Pay + Overtime Pay + Other Pay\n",
    "       and return the list\n",
    "    3. The outer function will use this list and return a dictionary which will contain name  of each employee as a key \n",
    "       and value as a total pay\n",
    "    Suppose the list return by inner function is [32000, 30000]\n",
    "    Then outer function will return \n",
    "        {\n",
    "            \"Rohan\" : 32000,\n",
    "            \"Albert\" : 30000,\n",
    "            \"Jhon\" : 28800,\n",
    "            \"Nick\" :38000,\n",
    "            \"Tim\" : 32000\n",
    "        }\n",
    "\n",
    "# Input Format:\n",
    "    The input of the program:\n",
    "        You Create a dictionary like above the mention. Then pass this dictionary to the function which you need to create.\n",
    "    and Calculate the total salary of the persons.\n",
    "    eg. function(data)\n",
    "\n",
    "# Output Format:\n",
    "    Print the function calculations in the proper format as a dictionary.\n",
    "    eg. Total Salary: {\"Rohan\" : 32000,\"Albert\" : 30000 ... }\n",
    "    \n",
    "# Sample Input:\n",
    "    Data pass in the function which is shown above.\n",
    "    \n",
    "# Sample Output:\n",
    "    Total Salary Output: {\"Rohan\" : 32000,\"Albert\" : 30000}\n",
    "\n"
   ]
  },
  {
   "cell_type": "code",
   "execution_count": null,
   "metadata": {
    "slideshow": {
     "slide_type": "slide"
    }
   },
   "outputs": [],
   "source": [
    "# Ques: \n",
    "    You have given a names list of 15 cricket players. Your task to selecte a team which have 11 players. The selection \n",
    "    processes is based on the ODI ranking and if suppose ranking is same the select based on the name alphabet ascending\n",
    "    order. Used the nested function or closures to select the palyers of team. \n",
    "    \n",
    "# Input Format:\n",
    "    Enter the 15 players Names and ranking in a list.\n",
    "\n",
    "# Output Format:\n",
    "    Print the top 11 playes based on ranking and name alphabet order.\n",
    "    \n",
    "# Sample Input:\n",
    "    Virat 1\n",
    "    Rohit 2\n",
    "    Dhoni 5\n",
    "    KL Rahul 5 \n",
    "    ....  ## Enter 15 players names and ranking\n",
    "    \n",
    "# Sample Output:\n",
    "    Top 11 Players: ['Virat', 'Rohit', 'Dhoni', 'KL Rahul'....]"
   ]
  },
  {
   "cell_type": "code",
   "execution_count": null,
   "metadata": {
    "slideshow": {
     "slide_type": "slide"
    }
   },
   "outputs": [],
   "source": [
    "# Ques:\n",
    "    You have a give a N number of list which is the salary of the employees. The problem is some of the employees are \n",
    "    quit the jobs and these employees start from the end of the list For Example:\n",
    "        list_salary = [22000, 23400, 25000, 10000,40000,30000,20000,11000,1200,2300,4500,5430]\n",
    "    So first quit the job which get the 5430 salary then 4500 then so on. Total K Employees are left.\n",
    "    Your task to calculate the total of money of these K employees using the nested function or closures\n",
    "    \n",
    "\n",
    "# Input Format:\n",
    "    Enter the total number of persons and the left person number\n",
    "    Enter the N person salaries, all the values are positive integers.\n",
    "\n",
    "# Output Format:\n",
    "    Print the Total amount of last K employees salaies.\n",
    "    \n",
    "# Sample Input:\n",
    "    n = 12\n",
    "    k = 6\n",
    "    22000\n",
    "    23400\n",
    "    25000\n",
    "    .... #(Add 12 person salary)\n",
    "    \n",
    "# Sample Output:\n",
    "    Total Salary = 44430 rupees  \n",
    "            # Note: According the above given the data the total salary..\n",
    "\n",
    "# Explanation:\n",
    "    Total Salary = 20000 + 11000 + 1200 + 2300 + 4500 + 5430\n",
    "                 = 44430\n"
   ]
  }
 ],
 "metadata": {
  "celltoolbar": "Slideshow",
  "kernelspec": {
   "display_name": "Python 3",
   "language": "python",
   "name": "python3"
  },
  "language_info": {
   "codemirror_mode": {
    "name": "ipython",
    "version": 3
   },
   "file_extension": ".py",
   "mimetype": "text/x-python",
   "name": "python",
   "nbconvert_exporter": "python",
   "pygments_lexer": "ipython3",
   "version": "3.7.3"
  }
 },
 "nbformat": 4,
 "nbformat_minor": 2
}
