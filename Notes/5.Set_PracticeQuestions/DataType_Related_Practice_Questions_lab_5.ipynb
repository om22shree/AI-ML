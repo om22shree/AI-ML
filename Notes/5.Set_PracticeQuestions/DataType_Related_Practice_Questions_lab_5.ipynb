{
 "cells": [
  {
   "cell_type": "markdown",
   "metadata": {
    "slideshow": {
     "slide_type": "slide"
    }
   },
   "source": [
    "## Important Questions On DataTypes"
   ]
  },
  {
   "cell_type": "code",
   "execution_count": null,
   "metadata": {
    "slideshow": {
     "slide_type": "fragment"
    }
   },
   "outputs": [],
   "source": [
    "Ques 1: Given a string of odd length greater 7, return a string made of the middle three chars of a given String.\n",
    "\n",
    "Case 1:\n",
    "str1 = \"NhonDipGood\"\n",
    "Expected Output: Dip\n",
    "\n",
    "Case 2:\n",
    "str2 = \"HiSonOk\"\n",
    "Expected Output: Son"
   ]
  },
  {
   "cell_type": "code",
   "execution_count": null,
   "metadata": {
    "slideshow": {
     "slide_type": "fragment"
    }
   },
   "outputs": [],
   "source": [
    "Ques 2: Arrange string characters such that lowercase letters should come first.Given an input string with the combination\n",
    "of the lower and upper case arrange characters in such a way that all lowercase letters should come first.\n",
    "\n",
    "Given:\n",
    "str1 = \"PyNaTive\"\n",
    "Expected Output: yaivePNT"
   ]
  },
  {
   "cell_type": "code",
   "execution_count": null,
   "metadata": {
    "slideshow": {
     "slide_type": "slide"
    }
   },
   "outputs": [],
   "source": [
    "Ques 3: Given a two list. Create a third list by picking an odd-index element from the first list and even index elements \n",
    "    from second.\n",
    "\n",
    "For Example: \n",
    "    listOne = [3, 6, 9, 12, 15, 18, 21]\n",
    "    listTwo = [4, 8, 12, 16, 20, 24, 28]\n",
    "\n",
    "Expected Output:\n",
    "    Element at odd-index positions from list one : [6, 12, 18]\n",
    "    Element at even-index positions from list two : [4, 12, 20, 28]\n",
    "    Printing Final third list : [6, 12, 18, 4, 12, 20, 28]"
   ]
  },
  {
   "cell_type": "code",
   "execution_count": null,
   "metadata": {
    "slideshow": {
     "slide_type": "fragment"
    }
   },
   "outputs": [],
   "source": [
    "Ques 4: Given a two list of equal size create a list such that it shows the element from both lists in the \n",
    "    pair.\n",
    "\n",
    "First List  [2, 3, 4, 5, 6, 7, 8]\n",
    "Second List  [4, 9, 16, 25, 36, 49, 64]\n",
    "\n",
    "Expected Output:\n",
    "Result is  [(2, 4), (3, 9), (4, 16), (5, 25), (6, 36), (7, 49), (8, 64)]"
   ]
  },
  {
   "cell_type": "code",
   "execution_count": null,
   "metadata": {
    "slideshow": {
     "slide_type": "slide"
    }
   },
   "outputs": [],
   "source": [
    "Ques 5: Concatenate two lists index-wise.\n",
    "list1 = [\"M\", \"na\", \"i\", \"Ar\"] \n",
    "list2 = [\"y\", \"me\", \"s\", \"jun\"]\n",
    "\n",
    "Expected output:\n",
    "['My', 'name', 'is', 'Arjun']"
   ]
  },
  {
   "cell_type": "code",
   "execution_count": null,
   "metadata": {
    "slideshow": {
     "slide_type": "fragment"
    }
   },
   "outputs": [],
   "source": [
    "Ques 6: Concatenate two lists in the following order\n",
    "list1 = [\"Hello \", \"take \"]\n",
    "list2 = [\"Dear\", \"Sir\"]\n",
    "\n",
    "Expected output:\n",
    "['Hello Dear', 'Hello Sir', 'take Dear', 'take Sir']"
   ]
  },
  {
   "cell_type": "code",
   "execution_count": null,
   "metadata": {
    "slideshow": {
     "slide_type": "fragment"
    }
   },
   "outputs": [],
   "source": [
    "Ques 7: Initialize dictionary with default values. ## If we access any keys of employees give the default values. \n",
    "\n",
    "employees = ['Kelly', 'Emma', 'John']\n",
    "defaults = {\"designation\": 'Application Developer', \"salary\": 8000}"
   ]
  },
  {
   "cell_type": "code",
   "execution_count": 6,
   "metadata": {},
   "outputs": [
    {
     "data": {
      "text/plain": [
       "{'Kelly': {'designation': 'Application Developer', 'salary': 8000},\n",
       " 'Emma': {'designation': 'Application Developer', 'salary': 8000},\n",
       " 'John': {'designation': 'Application Developer', 'salary': 8000}}"
      ]
     },
     "execution_count": 6,
     "metadata": {},
     "output_type": "execute_result"
    }
   ],
   "source": [
    "dict(zip(employees, [defaults]*len(employees)))"
   ]
  },
  {
   "cell_type": "code",
   "execution_count": 5,
   "metadata": {},
   "outputs": [
    {
     "name": "stdout",
     "output_type": "stream",
     "text": [
      "{'Emma': {'designation': 'Application Developer', 'salary': 8000},\n",
      " 'John': {'designation': 'Application Developer', 'salary': 8000},\n",
      " 'Kelly': {'designation': 'Application Developer', 'salary': 8000}}\n"
     ]
    }
   ],
   "source": [
    "data = {}\n",
    "for key in employees:\n",
    "    data[key] = defaults\n",
    "    \n",
    "pprint(data)"
   ]
  },
  {
   "cell_type": "code",
   "execution_count": 3,
   "metadata": {},
   "outputs": [
    {
     "name": "stdout",
     "output_type": "stream",
     "text": [
      "{'Emma': {'designation': 'Application Developer', 'salary': 8000},\n",
      " 'John': {'designation': 'Application Developer', 'salary': 8000},\n",
      " 'Kelly': {'designation': 'Application Developer', 'salary': 8000}}\n"
     ]
    }
   ],
   "source": [
    "from pprint import pprint\n",
    "employees = ['Kelly', 'Emma', 'John']\n",
    "defaults = {\"designation\": 'Application Developer', \"salary\": 8000}\n",
    "\n",
    "d = dict.fromkeys(employees, defaults)\n",
    "pprint(d)"
   ]
  },
  {
   "cell_type": "code",
   "execution_count": null,
   "metadata": {},
   "outputs": [],
   "source": []
  },
  {
   "cell_type": "code",
   "execution_count": null,
   "metadata": {
    "slideshow": {
     "slide_type": "slide"
    }
   },
   "outputs": [],
   "source": [
    "Ques 8: Given a Python dictionary, Change Brad’s salary to 8500.\n",
    "    \n",
    "sampleDict = {\n",
    "     'emp1': {'name': 'Jhon', 'salary': 7500},\n",
    "     'emp2': {'name': 'Emma', 'salary': 8000},\n",
    "     'emp3': {'name': 'Brad', 'salary': 6500}\n",
    "}\n",
    "\n",
    "Expected output:\n",
    "sampleDict = {\n",
    "     'emp1': {'name': 'Jhon', 'salary': 7500},\n",
    "     'emp2': {'name': 'Emma', 'salary': 8000},\n",
    "     'emp3': {'name': 'Brad', 'salary': 8500}  ## Value salary = 8500.\n",
    "}"
   ]
  },
  {
   "cell_type": "code",
   "execution_count": null,
   "metadata": {
    "slideshow": {
     "slide_type": "fragment"
    }
   },
   "outputs": [],
   "source": [
    "Ques 9: Exercise Question 5: Given a two Python list. Iterate both lists simultaneously such that list1 should display \n",
    "        item in original order and list2 in reverse order.\n",
    "list1 = [10, 20, 30, 40]\n",
    "list2 = [100, 200, 300, 400]\n",
    "\n",
    "Expected output:\n",
    "    10 400\n",
    "    20 300\n",
    "    30 200\n",
    "    40 100"
   ]
  },
  {
   "cell_type": "code",
   "execution_count": null,
   "metadata": {
    "slideshow": {
     "slide_type": "fragment"
    }
   },
   "outputs": [],
   "source": [
    "Ques 10: Given a Python list. Turn every item of a list into its square.\n",
    "aList = [1, 2, 3, 4, 5, 6, 7]\n",
    "\n",
    "Expected output: [1, 8, 27, 64, 125, 216, 343]"
   ]
  }
 ],
 "metadata": {
  "celltoolbar": "Slideshow",
  "kernelspec": {
   "display_name": "Python 3",
   "language": "python",
   "name": "python3"
  },
  "language_info": {
   "codemirror_mode": {
    "name": "ipython",
    "version": 3
   },
   "file_extension": ".py",
   "mimetype": "text/x-python",
   "name": "python",
   "nbconvert_exporter": "python",
   "pygments_lexer": "ipython3",
   "version": "3.8.8"
  }
 },
 "nbformat": 4,
 "nbformat_minor": 2
}
