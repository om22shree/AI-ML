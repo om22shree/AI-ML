{
 "cells": [
  {
   "cell_type": "markdown",
   "metadata": {
    "slideshow": {
     "slide_type": "slide"
    }
   },
   "source": [
    "## Files"
   ]
  },
  {
   "cell_type": "markdown",
   "metadata": {
    "slideshow": {
     "slide_type": "fragment"
    }
   },
   "source": [
    "- Files are named locations on disk to store related information. They are used to permanently store data in a non-volatile memory (e.g. hard disk)."
   ]
  },
  {
   "cell_type": "markdown",
   "metadata": {
    "slideshow": {
     "slide_type": "fragment"
    }
   },
   "source": [
    "- Since Random Access Memory (RAM) is volatile (which loses its data when the computer is turned off), we use files for future use of the data by permanently storing them."
   ]
  },
  {
   "cell_type": "markdown",
   "metadata": {
    "slideshow": {
     "slide_type": "fragment"
    }
   },
   "source": [
    "- When we want to read from or write to a file, we need to open it first. When we are done, it needs to be closed so that the resources that are tied with the file are freed."
   ]
  },
  {
   "cell_type": "markdown",
   "metadata": {
    "slideshow": {
     "slide_type": "slide"
    }
   },
   "source": [
    "- Hence, in Python, a file operation takes place in the following order:"
   ]
  },
  {
   "cell_type": "markdown",
   "metadata": {
    "slideshow": {
     "slide_type": "fragment"
    }
   },
   "source": [
    "1. Open a file"
   ]
  },
  {
   "cell_type": "markdown",
   "metadata": {
    "slideshow": {
     "slide_type": "fragment"
    }
   },
   "source": [
    "2. Read or write (perform operation)"
   ]
  },
  {
   "cell_type": "markdown",
   "metadata": {
    "slideshow": {
     "slide_type": "fragment"
    }
   },
   "source": [
    "3. Close the file"
   ]
  },
  {
   "cell_type": "markdown",
   "metadata": {
    "slideshow": {
     "slide_type": "slide"
    }
   },
   "source": [
    "<img src='https://drive.google.com/uc?id=1yGA1Lxl7_jfKLh-AJv6uPykm_YdO4NKp' height=400px width=500px> "
   ]
  },
  {
   "cell_type": "markdown",
   "metadata": {
    "slideshow": {
     "slide_type": "slide"
    }
   },
   "source": [
    "## Opening Files in Python"
   ]
  },
  {
   "cell_type": "markdown",
   "metadata": {
    "slideshow": {
     "slide_type": "fragment"
    }
   },
   "source": [
    "- Python has a built-in open() function to open a file. "
   ]
  },
  {
   "cell_type": "markdown",
   "metadata": {
    "slideshow": {
     "slide_type": "fragment"
    }
   },
   "source": [
    "- This function returns a file object, also called a handle, as it is used to read or modify the file accordingly."
   ]
  },
  {
   "cell_type": "code",
   "execution_count": null,
   "metadata": {
    "slideshow": {
     "slide_type": "fragment"
    }
   },
   "outputs": [],
   "source": [
    "file = open(\"test.txt\")    # open file in current directory\n",
    "file = open(\"C:/Python38/README.txt\")  # specifying full path"
   ]
  },
  {
   "cell_type": "markdown",
   "metadata": {
    "slideshow": {
     "slide_type": "slide"
    }
   },
   "source": [
    "- We can specify the mode while opening a file. In mode, we specify whether we want to read r, write w or append a to the file."
   ]
  },
  {
   "cell_type": "markdown",
   "metadata": {
    "slideshow": {
     "slide_type": "fragment"
    }
   },
   "source": [
    "- We can also specify if we want to open the file in text mode or binary mode."
   ]
  },
  {
   "cell_type": "markdown",
   "metadata": {
    "slideshow": {
     "slide_type": "fragment"
    }
   },
   "source": [
    "- The default is reading in text mode. In this mode, we get strings when reading from the file."
   ]
  },
  {
   "cell_type": "markdown",
   "metadata": {
    "slideshow": {
     "slide_type": "fragment"
    }
   },
   "source": [
    "- On the other hand, binary mode returns bytes and this is the mode to be used when dealing with non-text files like images or executable files."
   ]
  },
  {
   "cell_type": "markdown",
   "metadata": {
    "slideshow": {
     "slide_type": "slide"
    }
   },
   "source": [
    "## File Modes"
   ]
  },
  {
   "cell_type": "code",
   "execution_count": null,
   "metadata": {
    "slideshow": {
     "slide_type": "fragment"
    }
   },
   "outputs": [],
   "source": [
    "Mode      Description\n",
    "r   :   Opens a file for reading. (default)\n",
    "w   :   Opens a file for writing. Creates a new file if it does not exist or truncates the file if it exists.\n",
    "x   :   Opens a file for exclusive creation. If the file already exists, the operation fails.\n",
    "a   :   Opens a file for appending at the end of the file without truncating it. Creates a new file if it does not exist.\n",
    "t   :   Opens in text mode. (default)\n",
    "b   :   Opens in binary mode.\n",
    "+   :   Opens a file for updating (reading and writing)"
   ]
  },
  {
   "cell_type": "markdown",
   "metadata": {
    "slideshow": {
     "slide_type": "slide"
    }
   },
   "source": [
    "<img src='https://drive.google.com/uc?id=11Y15UaQq0Q7FDbGlDHSfLQ3exs2L1Q-k' height=400px width=500px> "
   ]
  },
  {
   "cell_type": "code",
   "execution_count": null,
   "metadata": {
    "slideshow": {
     "slide_type": "fragment"
    }
   },
   "outputs": [],
   "source": [
    "# Examples\n",
    "file = open(\"test.txt\")      # equivalent to 'r' or 'rt'\n",
    "file = open(\"test.txt\",'w')  # write in text mode\n",
    "file = open(\"img.bmp\",'r+b') # read and write in binary mode"
   ]
  },
  {
   "cell_type": "markdown",
   "metadata": {
    "slideshow": {
     "slide_type": "slide"
    }
   },
   "source": [
    "##### Note:\n",
    "- Unlike other languages, the character a does not imply the number 97 until it is encoded using ASCII (or other equivalent encodings).\n",
    "- Moreover, the default encoding is platform dependent. In windows, it is cp1252 but utf-8 in Linux.\n",
    "- So, we must not also rely on the default encoding or else our code will behave differently in different platforms.\n",
    "- Hence, when working with files in text mode, it is highly recommended to specify the encoding type.\n",
    "### file = open(\"test.txt\", mode='r', encoding='utf-8')"
   ]
  },
  {
   "cell_type": "markdown",
   "metadata": {
    "slideshow": {
     "slide_type": "slide"
    }
   },
   "source": [
    "## Closing Files in Python"
   ]
  },
  {
   "cell_type": "markdown",
   "metadata": {
    "slideshow": {
     "slide_type": "fragment"
    }
   },
   "source": [
    "- When we are done with performing operations on the file, we need to properly close the file."
   ]
  },
  {
   "cell_type": "markdown",
   "metadata": {
    "slideshow": {
     "slide_type": "fragment"
    }
   },
   "source": [
    "- Closing a file will free up the resources that were tied with the file. It is done using the close() method available in Python."
   ]
  },
  {
   "cell_type": "markdown",
   "metadata": {
    "slideshow": {
     "slide_type": "fragment"
    }
   },
   "source": [
    "- Python has a garbage collector to clean up unreferenced objects but we must not rely on it to close the file."
   ]
  },
  {
   "cell_type": "code",
   "execution_count": null,
   "metadata": {
    "slideshow": {
     "slide_type": "slide"
    }
   },
   "outputs": [],
   "source": [
    "file = open(\"test.txt\", encoding = 'utf-8')\n",
    "# perform file operations\n",
    "file.close()"
   ]
  },
  {
   "cell_type": "markdown",
   "metadata": {
    "slideshow": {
     "slide_type": "fragment"
    }
   },
   "source": [
    "#### Note:\n",
    "- This method is not entirely safe. \n",
    "- If an exception occurs when we are performing some operation with the file, the code exits without closing the file.\n",
    "- A safer way is to use a try...finally block."
   ]
  },
  {
   "cell_type": "code",
   "execution_count": null,
   "metadata": {
    "slideshow": {
     "slide_type": "slide"
    }
   },
   "outputs": [],
   "source": [
    "try:\n",
    "    file = open(\"test.txt\", encoding = 'utf-8')\n",
    "   # perform file operations after complete operations finally executed\n",
    "finally: \n",
    "    file.close()"
   ]
  },
  {
   "cell_type": "markdown",
   "metadata": {
    "slideshow": {
     "slide_type": "fragment"
    }
   },
   "source": [
    "### Note:\n",
    "- This way, we are guaranteeing that the file is properly closed even if an exception is raised that causes program flow to stop.\n",
    "\n",
    "- The best way to close a file is by using the with statement. This ensures that the file is closed when the block inside the with statement is exited.\n",
    "\n",
    "- We don't need to explicitly call the close() method. It is done internally."
   ]
  },
  {
   "cell_type": "markdown",
   "metadata": {
    "slideshow": {
     "slide_type": "slide"
    }
   },
   "source": [
    "## File using by with example"
   ]
  },
  {
   "cell_type": "code",
   "execution_count": null,
   "metadata": {
    "slideshow": {
     "slide_type": "fragment"
    }
   },
   "outputs": [],
   "source": [
    "with open(\"test.txt\", encoding = 'utf-8') as file:\n",
    "   # perform file operations"
   ]
  },
  {
   "cell_type": "markdown",
   "metadata": {
    "slideshow": {
     "slide_type": "slide"
    }
   },
   "source": [
    "## Writing to Files in Python"
   ]
  },
  {
   "cell_type": "markdown",
   "metadata": {
    "slideshow": {
     "slide_type": "fragment"
    }
   },
   "source": [
    "- In order to write into a file in Python, we need to open it in write w, append a or exclusive creation x mode."
   ]
  },
  {
   "cell_type": "markdown",
   "metadata": {
    "slideshow": {
     "slide_type": "fragment"
    }
   },
   "source": [
    "- We need to be careful with the w mode, as it will overwrite into the file if it already exists. Due to this, all the previous data are erased."
   ]
  },
  {
   "cell_type": "markdown",
   "metadata": {
    "slideshow": {
     "slide_type": "fragment"
    }
   },
   "source": [
    "- Writing a string or sequence of bytes (for binary files) is done using the write() method. This method returns the number of characters written to the file."
   ]
  },
  {
   "cell_type": "code",
   "execution_count": 1,
   "metadata": {
    "slideshow": {
     "slide_type": "slide"
    }
   },
   "outputs": [],
   "source": [
    "with open(\"test.txt\",'w',encoding = 'utf-8') as file:\n",
    "    file.write(\"my first file\\n\")\n",
    "    file.write(\"This file\\n\\n\")\n",
    "    file.write(\"contains three lines\\n\")"
   ]
  },
  {
   "cell_type": "markdown",
   "metadata": {
    "slideshow": {
     "slide_type": "fragment"
    }
   },
   "source": [
    "- This program will create a new file named test.txt in the current directory if it does not exist. If it does exist, it is overwritten."
   ]
  },
  {
   "cell_type": "markdown",
   "metadata": {
    "slideshow": {
     "slide_type": "fragment"
    }
   },
   "source": [
    "- We must include the newline characters ourselves to distinguish the different lines."
   ]
  },
  {
   "cell_type": "markdown",
   "metadata": {
    "slideshow": {
     "slide_type": "slide"
    }
   },
   "source": [
    "## Reading Files in Python"
   ]
  },
  {
   "cell_type": "markdown",
   "metadata": {
    "slideshow": {
     "slide_type": "fragment"
    }
   },
   "source": [
    "- To read a file in Python, we must open the file in reading r mode.\n",
    "- There are various methods available for this purpose. \n",
    "- We can use the read(size) method to read in the size number of data.\n",
    "- If the size parameter is not specified, it reads and returns up to the end of the file."
   ]
  },
  {
   "cell_type": "markdown",
   "metadata": {
    "slideshow": {
     "slide_type": "slide"
    }
   },
   "source": [
    "**We can read the text.txt file we wrote in the above section in the following way:**"
   ]
  },
  {
   "cell_type": "code",
   "execution_count": 6,
   "metadata": {
    "slideshow": {
     "slide_type": "fragment"
    }
   },
   "outputs": [
    {
     "name": "stdout",
     "output_type": "stream",
     "text": [
      "my \n",
      "first\n",
      " file\n",
      "This file\n",
      "\n",
      "contains three lines\n",
      "\n",
      "\n"
     ]
    }
   ],
   "source": [
    "file = open(\"test.txt\",'r',encoding = 'utf-8')\n",
    "print(file.read(3))    # read the first 4 data\n",
    "# 'my'\n",
    "\n",
    "print(file.read(5))   # read the next 4 data\n",
    "# ' first '\n",
    "\n",
    "print(file.read())     # read in the rest till end of file\n",
    "# ' file\\nThis file\\ncontains three lines\\n'\n",
    "\n",
    "print(file.read())  # further reading returns empty sting\n",
    "# ''"
   ]
  },
  {
   "cell_type": "markdown",
   "metadata": {
    "slideshow": {
     "slide_type": "slide"
    }
   },
   "source": [
    "- We can see that the read() method returns a newline as '\\n'. Once the end of the file is reached, we get an empty string on further reading.\n",
    "- We can change our current file cursor (position) using the seek() method. Similarly, the tell() method returns our current position (in number of bytes)."
   ]
  },
  {
   "cell_type": "code",
   "execution_count": 13,
   "metadata": {
    "slideshow": {
     "slide_type": "fragment"
    }
   },
   "outputs": [
    {
     "name": "stdout",
     "output_type": "stream",
     "text": [
      "my first file\n",
      "This file\n",
      "\n",
      "contains three lines\n",
      "\n"
     ]
    }
   ],
   "source": [
    "file.tell()    # get the current file position\n",
    "# 56\n",
    "\n",
    "file.seek(0)   # bring file cursor to initial position\n",
    "# 0\n",
    "\n",
    "print(file.read())  # read the entire file\n",
    "# This is my first file\n",
    "# This file\n",
    "# contains three lines"
   ]
  },
  {
   "cell_type": "markdown",
   "metadata": {
    "slideshow": {
     "slide_type": "slide"
    }
   },
   "source": [
    "**We can read a file line-by-line using a for loop. This is both efficient and fast.**"
   ]
  },
  {
   "cell_type": "code",
   "execution_count": 15,
   "metadata": {
    "slideshow": {
     "slide_type": "fragment"
    }
   },
   "outputs": [
    {
     "name": "stdout",
     "output_type": "stream",
     "text": [
      "my first file\n",
      "This file\n",
      "\n",
      "contains three lines\n"
     ]
    }
   ],
   "source": [
    "for line in file:\n",
    "    print(line, end = '')\n",
    "\n",
    "# This is my first file\n",
    "# This file\n",
    "# contains three lines"
   ]
  },
  {
   "cell_type": "markdown",
   "metadata": {
    "slideshow": {
     "slide_type": "slide"
    }
   },
   "source": [
    "- In this program, the lines in the file itself include a newline character \\n. So, we use the end parameter of the print() function to avoid two newlines when printing."
   ]
  },
  {
   "cell_type": "markdown",
   "metadata": {
    "slideshow": {
     "slide_type": "fragment"
    }
   },
   "source": [
    "- Alternatively, we can use the readline() method to read individual lines of a file. This method reads a file till the newline, including the newline character."
   ]
  },
  {
   "cell_type": "code",
   "execution_count": 21,
   "metadata": {
    "slideshow": {
     "slide_type": "slide"
    }
   },
   "outputs": [
    {
     "name": "stdout",
     "output_type": "stream",
     "text": [
      "my first file\n",
      "\n",
      "This file\n",
      "\n",
      "\n",
      "\n",
      "contains three lines\n",
      "\n"
     ]
    }
   ],
   "source": [
    "print(file.readline())\n",
    "# 'my first file\\n'\n",
    "\n",
    "print(file.readline())\n",
    "# 'This file\\n\\n'\n",
    "\n",
    "print(file.readline())\n",
    "# 'contains three lines\\n'\n",
    "\n",
    "print(file.readline())\n",
    "# ''"
   ]
  },
  {
   "cell_type": "markdown",
   "metadata": {
    "slideshow": {
     "slide_type": "fragment"
    }
   },
   "source": [
    "Lastly, the readlines() method returns a list of remaining lines of the entire file. All these reading methods return empty values when the end of file (EOF) is reached."
   ]
  },
  {
   "cell_type": "code",
   "execution_count": 25,
   "metadata": {
    "slideshow": {
     "slide_type": "slide"
    }
   },
   "outputs": [
    {
     "data": {
      "text/plain": [
       "['my first file\\n', 'This file\\n', '\\n', 'contains three lines\\n']"
      ]
     },
     "execution_count": 25,
     "metadata": {},
     "output_type": "execute_result"
    }
   ],
   "source": [
    "file.readlines()\n",
    "# ['my first file\\n', 'This file\\n', '\\n', 'contains three lines\\n']"
   ]
  },
  {
   "cell_type": "markdown",
   "metadata": {
    "slideshow": {
     "slide_type": "slide"
    }
   },
   "source": [
    "## Python File Methods\n",
    "- There are various methods available with the file object. Some of them have been used in the above examples."
   ]
  },
  {
   "cell_type": "markdown",
   "metadata": {
    "slideshow": {
     "slide_type": "slide"
    }
   },
   "source": [
    "**Here is the complete list of methods in text mode with a brief description:**"
   ]
  },
  {
   "cell_type": "markdown",
   "metadata": {
    "slideshow": {
     "slide_type": "fragment"
    }
   },
   "source": [
    "          Method                         Description\n",
    "    close()                    :  Closes an opened file. It has no effect if the file is already closed.\n",
    "    detach()                   :  Separates the underlying binary buffer from the TextIOBase and returns it.\n",
    "    fileno()                   :  Returns an integer number (file descriptor) of the file.\n",
    "    flush()                    :  Flushes the write buffer of the file stream.\n",
    "    isatty()                   :  Returns True if the file stream is interactive.\n",
    "    read(n)                    :  Reads at most n characters from the file. Reads till end of file if it is negative or                                       None.\n",
    "    readable()                 :  Returns True if the file stream can be read from.\n",
    "    readline(n=-1)             :  Reads and returns one line from the file. Reads in at most n bytes if specified.\n",
    "    readlines(n=-1)            :  Reads and returns a list of lines from the file. Reads in at most n bytes/characters if                                     specified.\n",
    "    seek(offset,from=SEEK_SET) :  Changes the file position to offset bytes, in reference to from (start, current, end).\n",
    "    seekable()                 :  Returns True if the file stream supports random access.\n",
    "    tell()                     :  Returns the current file location.\n",
    "    truncate(size=None)        :  Resizes the file stream to size bytes. If size is not specified, resizes to current                                         location.\n",
    "    writable()                 :  Returns True if the file stream can be written to.\n",
    "    write(s)                   :  Writes the string s to the file and returns the number of characters written.\n",
    "    writelines(lines)          :  Writes a list of lines to the file."
   ]
  },
  {
   "cell_type": "markdown",
   "metadata": {
    "slideshow": {
     "slide_type": "slide"
    }
   },
   "source": [
    "##### Example:\n",
    "   - This Example calculate the persentage of students using the file data.csv where Students name and three subject marks Maths, Science and English is given. By using the os module to show you how the file handling use for accessing a file and how to get some infomation from them. "
   ]
  },
  {
   "cell_type": "code",
   "execution_count": 3,
   "metadata": {
    "slideshow": {
     "slide_type": "fragment"
    }
   },
   "outputs": [
    {
     "name": "stdout",
     "output_type": "stream",
     "text": [
      "shubham : 67.0%\n",
      "shahid : 64.33%\n",
      "tushar : 66.33%\n",
      "rahul : 69.33%\n",
      "isha : 67.0%\n",
      "Simran : 56.0%\n",
      "Manish : 56.0%\n",
      "Ravi : 58.33%\n",
      "Sachin : 60.0%\n"
     ]
    }
   ],
   "source": [
    "import os\n",
    "\n",
    "def calculate_per(filename,path=os.getcwd()):\n",
    "    final_path = os.path.join(path,filename)\n",
    "    if os.path.exists(final_path) and os.path.isfile(final_path):\n",
    "        f = open(final_path)\n",
    "        data = f.read()\n",
    "        f.close()\n",
    "        for i in data.split(\"\\n\")[1:]:\n",
    "            name,marks = i.split(\",\")[0],i.split(\",\")[1:]\n",
    "            per = round(sum(map(int,marks))/3,2)\n",
    "            print(f'{name} : {per}%')\n",
    "    else:\n",
    "        print(\"\\n Invalid path\")\n",
    "        \n",
    "calculate_per(\"data.csv\")"
   ]
  },
  {
   "cell_type": "code",
   "execution_count": null,
   "metadata": {
    "slideshow": {
     "slide_type": "slide"
    }
   },
   "outputs": [],
   "source": [
    "# Do it Yourself\n",
    "\n",
    "Ques:\n",
    "    You have given a file your task to read the instruction carefully and according to the docString create the function to\n",
    "    solve thess Questions. This is quesiton is related to tweet_sort data which you have given a file you need to write a \n",
    "    tweet_sort function to Modify results to be sorted using the comparison function comparison_func and the data in \n",
    "    twitter_data.\n",
    "\n",
    "    \n",
    "# A helper function to use in the sorting step\n",
    "def tweet_sort(twitter_data, results,comparison_func) -> None:\n",
    "    \"\"\"Modify results to be sorted using the comparison function comparison_func \n",
    "    and the data in twitter_data.\n",
    "    \n",
    "    The type Callable[['TwitterverseDict', str, str], int] means a function\n",
    "    that takes three arguments - a TwitterverseDict, and two strings to compare,\n",
    "    and returns an int. \n",
    "    \n",
    "    Add examples below once you have written your own comparison functions to\n",
    "    compare order usernames by name and popularity.\n",
    "    \"\"\"\n",
    "    \n",
    "    # An implementation of Insertion Sort that uses a comparison function\n",
    "    "
   ]
  },
  {
   "cell_type": "code",
   "execution_count": null,
   "metadata": {
    "slideshow": {
     "slide_type": "slide"
    }
   },
   "outputs": [],
   "source": [
    "# Ques:\n",
    "    You have given a file your task to read the instruction carefully and according to the docString instruction create\n",
    "    the function to solve thess Questions. In this test_single_follower function you task to solve these queries like check \n",
    "    that tomCruise, katieH complete names, location, web , bio infomation by creating this function.\n",
    "    \n",
    "\n",
    "def test_single_follower() -> None:  ## \n",
    "    \"\"\"Test all_followers with a user followed by one other user.\n",
    "    'tomCruise': 'name', 'location', 'web', 'bio'. \n",
    "    'katieH':'name', 'location', 'web', 'bio'.\n",
    "    \"\"\"\n",
    "      # Write your function code here\n",
    "\n",
    "    \n",
    "    \n",
    "\n",
    "        "
   ]
  },
  {
   "cell_type": "code",
   "execution_count": null,
   "metadata": {
    "slideshow": {
     "slide_type": "slide"
    }
   },
   "outputs": [],
   "source": [
    "Ques: \n",
    "    You have given a file your task to read the instruction carefully and according to the docString create the function to\n",
    "    solve thess Questions. This question is related to the last biggest_max function this fucntion will help you to find \n",
    "    the length of strings your task is return -1 if string s1 is shorter than string s2, 1 if it is longer, and 0 if they \n",
    "    have equal length.\n",
    "    \n",
    "    \n",
    "def shorter(s1: str, s2: str) -> int:\n",
    "    \"\"\"Return -1 if string s1 is shorter than string s2, 1 if it is longer,\n",
    "    and 0 if they have equal length.\n",
    "    \n",
    "    >>> shorter('cat', 'kitten')\n",
    "    -1\n",
    "    >>> shorter('meow', 'cat')\n",
    "    1\n",
    "    >>> shorter('cat', 'dog')\n",
    "    0\n",
    "    \"\"\"\n",
    "        # Write your function code here\n"
   ]
  },
  {
   "cell_type": "code",
   "execution_count": null,
   "metadata": {
    "slideshow": {
     "slide_type": "slide"
    }
   },
   "outputs": [],
   "source": [
    "Ques: \n",
    "    You have given a file your task to read the instruction carefully and according to the docString create the function to\n",
    "    solve thess Questions. This question is related to the last my_sort function in this function Sort the data list using \n",
    "    the comparison function and you have given some example using this example write the code and complete this function.\n",
    "    \n",
    "    \n",
    "def my_sort(data, cmp) -> None:\n",
    "    \"\"\"Sort the data list using the comparison function cmp.\n",
    "    \n",
    "    Precondition: cmp takes exactly two arguments of the same time as the items\n",
    "    in data.\n",
    "    \n",
    "    >>> L = [\"Once\", \"upon\", \"a\", \"time\", \n",
    "    ... \"there\", \"was\", \"a\", \"curious\", \"girl\"]\n",
    "    >>> # Sort the list using Python's default behaviour. \n",
    "    >>> # It will sort alphabetically, first uppercase, then lowercase letters.\n",
    "    >>> L.sort()\n",
    "    >>> L\n",
    "    ['Once', 'a', 'a', 'curious', 'girl', 'there', 'time', 'upon', 'was']\n",
    "    >>> # Now sort it so that we control how pairs of list items are compared.\n",
    "    >>> # Tell sort to compare using function shorter.  The shorter strings\n",
    "    >>> # will be at the front of the updated list.\n",
    "    >>> my_sort(L, shorter)\n",
    "    >>> L\n",
    "    ['a', 'a', 'was', 'Once', 'girl', 'time', 'upon', 'there', 'curious']\n",
    "    >>> # Now try sorting a list of dictionaries.\n",
    "    >>> L2 = [{\"Myrka\": 23, \"Harbinder\": 18}, {\"Jo\": 2, \"Nate\": 99, \"Mari\": 45}, \n",
    "    ... {\"Reuben\": 54, \"Zoya\": 11, \"Jiaqi\": 9}, {\"Zara\": 2}]\n",
    "    >>> # We actually can't sort a list of dictionaries using Python's default sort. \n",
    "    >>> # How would it decide how to order the dictionaries?\n",
    "    >>> # Uncomment the line below to see the error.\n",
    "    >>> # L2.sort()\n",
    "    >>> # Now tell Python to sort using the biggest_max function.  Dictionaries\n",
    "    >>> # whose maximum key is largest will be at the front of the updated list.\n",
    "    >>> my_sort(L2, biggest_max)\n",
    "    >>> L2\n",
    "    [{'Jo': 2, 'Nate': 99, 'Mari': 45}, \\\n",
    "{'Reuben': 54, 'Zoya': 11, 'Jiaqi': 9}, {'Myrka': 23, 'Harbinder': 18}, \\\n",
    "{'Zara': 2}]\n",
    "    \"\"\" \n",
    "    # Hint: Insertion sort"
   ]
  }
 ],
 "metadata": {
  "celltoolbar": "Slideshow",
  "kernelspec": {
   "display_name": "Python 3",
   "language": "python",
   "name": "python3"
  },
  "language_info": {
   "codemirror_mode": {
    "name": "ipython",
    "version": 3
   },
   "file_extension": ".py",
   "mimetype": "text/x-python",
   "name": "python",
   "nbconvert_exporter": "python",
   "pygments_lexer": "ipython3",
   "version": "3.7.3"
  }
 },
 "nbformat": 4,
 "nbformat_minor": 2
}
