{
 "cells": [
  {
   "cell_type": "markdown",
   "metadata": {
    "slideshow": {
     "slide_type": "slide"
    }
   },
   "source": [
    "## Decorators in Python"
   ]
  },
  {
   "cell_type": "markdown",
   "metadata": {
    "slideshow": {
     "slide_type": "fragment"
    }
   },
   "source": [
    "- In Python, functions are the first class objects, which means that –\n",
    "\n",
    "    1. Functions are objects; they can be referenced to, passed to a variable and returned from other functions as well.\n",
    "    2. Functions can be defined inside another function and can also be passed as argument to another function."
   ]
  },
  {
   "cell_type": "markdown",
   "metadata": {
    "slideshow": {
     "slide_type": "fragment"
    }
   },
   "source": [
    "**Decorators are very powerful and useful tool in Python since it allows programmers to modify the behavior of function or class. Decorators allow us to wrap another function in order to extend the behavior of wrapped function, without permanently modifying it**"
   ]
  },
  {
   "cell_type": "markdown",
   "metadata": {
    "slideshow": {
     "slide_type": "slide"
    }
   },
   "source": [
    "#### Decorators\n",
    "<img src='https://drive.google.com/uc?id=1Pk4BGawWAUN3bzDsyVJCfKkJ6t-Q7EjS' height=400px width=500px> \n",
    "<img src='https://drive.google.com/uc?id=1rWI_AYxppsAiRihWeUbRmhPnYJKEvs09' height=400px width=500px> "
   ]
  },
  {
   "cell_type": "markdown",
   "metadata": {
    "slideshow": {
     "slide_type": "slide"
    }
   },
   "source": [
    "#### Example\n",
    "##### This example is give the idea about how the Decorators is work, In this example addition and substract is preform by using the decorator."
   ]
  },
  {
   "cell_type": "code",
   "execution_count": 8,
   "metadata": {
    "slideshow": {
     "slide_type": "fragment"
    }
   },
   "outputs": [
    {
     "name": "stdout",
     "output_type": "stream",
     "text": [
      "\n",
      " Id of funtion  2090915572048\n",
      "\n",
      " Id of funtion  2090915570416\n",
      "********************************************************************************\n",
      "********************************************************************************\n",
      "                                      -10                                       \n",
      "********************************************************************************\n",
      "********************************************************************************\n",
      "********************************************************************************\n",
      "********************************************************************************\n",
      "                                      1070                                      \n",
      "********************************************************************************\n",
      "********************************************************************************\n"
     ]
    }
   ],
   "source": [
    "# Exmaple\n",
    "## Decorator function\n",
    "def decorator(func):  #func = sub\n",
    "    def funtion(*args):  #args = (10,20)\n",
    "        print(\"*\"*80)\n",
    "        print(\"*\"*80)\n",
    "        result = func(*args)  #sub(10,20)\n",
    "        print(f\"{result}\".center(80))\n",
    "        print(\"*\"*80)\n",
    "        print(\"*\"*80)\n",
    "    print(\"\\n Id of funtion \",id(funtion))\n",
    "    return funtion\n",
    "\n",
    "@decorator\n",
    "def sub(a,b):\n",
    "    return a-b\n",
    "\n",
    "@decorator\n",
    "def add(a,b):\n",
    "    return a+b\n",
    "\n",
    "### Calling\n",
    "sub(10,20)\n",
    "add(990,80)"
   ]
  },
  {
   "cell_type": "markdown",
   "metadata": {
    "slideshow": {
     "slide_type": "slide"
    }
   },
   "source": [
    "#### Example\n",
    "##### This example is give the idea about how the Decorators we can use as multi-time based on our requirements, In this example multiplication and division is preform by using the decorator."
   ]
  },
  {
   "cell_type": "code",
   "execution_count": 9,
   "metadata": {
    "slideshow": {
     "slide_type": "fragment"
    }
   },
   "outputs": [
    {
     "name": "stdout",
     "output_type": "stream",
     "text": [
      "Result : 200\n",
      "Result : None\n",
      "Result : 7\n",
      "Result : None\n"
     ]
    }
   ],
   "source": [
    "def deco(func):\n",
    "    def fun(*args):\n",
    "        result = func(*args)\n",
    "        print(f\"Result : {result}\")\n",
    "    return fun\n",
    "\n",
    "def deco1(func):\n",
    "    def fun(*args):\n",
    "        \n",
    "        result = func(*args)\n",
    "        print(f\"Result : {result}\")\n",
    "    return fun\n",
    "\n",
    "@deco1\n",
    "@deco\n",
    "def add(num1,num2):\n",
    "    return num1*num2\n",
    "\n",
    "@deco1\n",
    "@deco\n",
    "def sub(num1,num2):\n",
    "    return num1//num2\n",
    "\n",
    "add(10,20)\n",
    "sub(23,3)"
   ]
  },
  {
   "cell_type": "markdown",
   "metadata": {
    "slideshow": {
     "slide_type": "slide"
    }
   },
   "source": [
    "#### Example\n",
    "##### This example is give the idea about calculate the cube using the decorator and also find the time take to execute the code ."
   ]
  },
  {
   "cell_type": "code",
   "execution_count": 8,
   "metadata": {
    "slideshow": {
     "slide_type": "fragment"
    }
   },
   "outputs": [
    {
     "name": "stdout",
     "output_type": "stream",
     "text": [
      "################################################################################\n",
      "********************************************************************************\n",
      "The start time is :  1609920874.1434822 sec\n",
      "Result : 999999999999999999997333333333333300000002370370370370429629628927298038408752812071330589519890260631\n",
      "The end time is :  1609920876.1447744 sec\n",
      "\n",
      "Total time taken is :  2.0012922286987305 sec\n",
      "********************************************************************************\n",
      "################################################################################\n"
     ]
    }
   ],
   "source": [
    "import time\n",
    "def intime(func):\n",
    "    def timein(*args):\n",
    "        print(\"#\"*80)\n",
    "        start = time.time()\n",
    "        print(\"*\"*80)\n",
    "        print(\"The start time is : \",start,\"sec\")\n",
    "        result = func(*args)\n",
    "        time.sleep(2)\n",
    "        print(f\"Result : {result}\".center(80))\n",
    "        end = time.time()\n",
    "        print(\"The end time is : \",end,\"sec\")\n",
    "        print(\"\\nTotal time taken is : \",end-start,\"sec\")\n",
    "        print(\"*\"*80)\n",
    "        print(\"#\"*80)\n",
    "    return timein\n",
    "\n",
    "@intime\n",
    "def cube(a):\n",
    "    return a**3\n",
    "\n",
    "cube(9999999999999999999991111111111111)"
   ]
  },
  {
   "cell_type": "markdown",
   "metadata": {
    "slideshow": {
     "slide_type": "slide"
    }
   },
   "source": [
    "#### Example\n",
    "##### This example is give the idea about calculate the factorial using the decorator  ."
   ]
  },
  {
   "cell_type": "code",
   "execution_count": 3,
   "metadata": {
    "slideshow": {
     "slide_type": "fragment"
    }
   },
   "outputs": [
    {
     "name": "stdout",
     "output_type": "stream",
     "text": [
      "3628800\n",
      "Total time taken in :  factorial 2.015852212905884\n"
     ]
    }
   ],
   "source": [
    "# importing libraries \n",
    "import time \n",
    "import math \n",
    "\n",
    "# decorator to calculate duration \n",
    "# taken by any function. \n",
    "def calculate_time(func): \n",
    "    # added arguments inside the inner1, \n",
    "    # if function takes any arguments, \n",
    "    # can be added like this. \n",
    "    def inner1(*args, **kwargs): \n",
    "\n",
    "        # storing time before function execution \n",
    "        begin = time.time() \n",
    "\n",
    "        func(*args, **kwargs) \n",
    "\n",
    "        # storing time after function execution \n",
    "        end = time.time() \n",
    "        print(\"Total time taken in : \", func.__name__, end - begin) \n",
    "\n",
    "    return inner1 \n",
    "\n",
    "\n",
    "\n",
    "# this can be added to any function present, \n",
    "# in this case to calculate a factorial \n",
    "@calculate_time\n",
    "def factorial(num): \n",
    "    # sleep 2 seconds because it takes very less time \n",
    "    # so that you can see the actual difference \n",
    "    time.sleep(2) \n",
    "    print(math.factorial(num)) \n",
    "\n",
    "# calling the function. \n",
    "factorial(10) "
   ]
  },
  {
   "cell_type": "markdown",
   "metadata": {
    "slideshow": {
     "slide_type": "slide"
    }
   },
   "source": [
    "#### Do it Yourself using the decorator concept"
   ]
  },
  {
   "cell_type": "code",
   "execution_count": null,
   "metadata": {
    "slideshow": {
     "slide_type": "fragment"
    }
   },
   "outputs": [],
   "source": [
    "# Ques:\n",
    "    Let's use decorators to build a name directory! You are given some information about N people. Each person has a first\n",
    "    name, last name, age and sex. Print their names in a specific format sorted by their age in ascending order i.e. the \n",
    "    youngest person's name should be printed first. For two people of the same age, print them in the order of their input.\n",
    "\n",
    "    For Henry Davids, the output should be:\n",
    "    Mr. Henry Davids\n",
    "    \n",
    "    For Mary George, the output should be:\n",
    "    Ms. Mary George\n",
    "    \n",
    "# Input Format:\n",
    "    The first line contains the integer N, the number of people.\n",
    "    N lines follow each containing the space separated values of the first name, last name, age and sex, respectively.\n",
    "\n",
    "# Output Format:\n",
    "    Output N names on separate lines in the format described above in ascending order of age.\n",
    "\n",
    "# Sample Input:\n",
    "    3\n",
    "    Mike Thomson 20 M\n",
    "    Robert Bustle 32 M\n",
    "    Andria Bustle 30 F\n",
    "    \n",
    "# Sample Output:\n",
    "    Mr. Mike Thomson\n",
    "    Ms. Andria Bustle\n",
    "    Mr. Robert Bustle\n",
    "    \n",
    "# Concept:\n",
    "    For sorting a nested list based on some parameter, you can use the itemgetter library. You can read more about it here."
   ]
  },
  {
   "cell_type": "code",
   "execution_count": null,
   "metadata": {
    "slideshow": {
     "slide_type": "slide"
    }
   },
   "outputs": [],
   "source": [
    "## Ques:\n",
    "    Let's dive into decorators! You are given N mobile numbers. Sort them in ascending order then print them in the\n",
    "    standard format shown below:\n",
    "\n",
    "    +91 xxxxx xxxxx\n",
    "\n",
    "    The given mobile numbers may have +91, 91 or 0 written before the actual 10 digit number. Alternatively, there may \n",
    "    not be any prefix at all.\n",
    "\n",
    "# Input Format:\n",
    "    The first line of input contains an integer N, the number of mobile phone numbers.\n",
    "    N lines follow each containing a mobile number.\n",
    "\n",
    "# Output Format:\n",
    "    Print N mobile numbers on separate lines in the required format.\n",
    "\n",
    "# Sample Input\n",
    "    3\n",
    "    07895462130\n",
    "    919875641230\n",
    "    9195969878\n",
    "    \n",
    "# Sample Output\n",
    "    +91 78954 62130\n",
    "    +91 91959 69878\n",
    "    +91 98756 41230\n",
    "    \n",
    "# Concept:\n",
    "    - Like most other programming languages, Python has the concept of closures. Extending these closures gives us \n",
    "    decorators, which are an invaluable asset. You can learn about decorators in 12 easy steps here.\n",
    "    - To solve the above question, make a list of the mobile numbers and pass it to a function that sorts the array in\n",
    "    ascending order. Make a decorator that standardizes the mobile numbers and apply it to the function."
   ]
  },
  {
   "cell_type": "code",
   "execution_count": null,
   "metadata": {
    "slideshow": {
     "slide_type": "slide"
    }
   },
   "outputs": [],
   "source": [
    "## Ques: \n",
    "    A person wants to determine the most expensive computer keyboard and USB drive that can be purchased with a give budget.\n",
    "    Given price lists for keyboards and USB drives and a budget, find the cost to buy them. If it is not possible to buy \n",
    "    both items, return -1.\n",
    "\n",
    "#   Note: Find the time taken to execute this program using the decorator and use the sleep 2 second during the execution.\n",
    "\n",
    "\n",
    "Example\n",
    "    b = 60\n",
    "    keyboards = [40, 50, 60]\n",
    "    drives = [5, 8 , 12]\n",
    "\n",
    "\n",
    "    The person can buy a 40 keyboards + 12 USB drive = 52, or a 50 keyboards + 8 USB drive = 58. Choose the latter as the \n",
    "    more expensive option and return 58.\n",
    "\n",
    "# Function Description:\n",
    "    create the getMoneySpent function in the editor.\n",
    "\n",
    "    getMoneySpent has the following parameter(s):\n",
    "        - int keyboards[n]: the keyboard prices\n",
    "        - int drives[m]: the drive prices\n",
    "        - int b: the budget\n",
    "\n",
    "# Returns:\n",
    "    - int: the maximum that can be spent, or -1 if it is not possible to buy both items\n",
    "\n",
    "# Input Format:\n",
    "    The first line contains three space-separated integers b, n, and m, the budget, the number of keyboard models and\n",
    "    the number of USB drive models.\n",
    "    The second line contains n space-separated integers keyboards[i], the prices of each keyboard model.\n",
    "    The third line contains m space-separated integers drives, the prices of the USB drives.\n",
    "\n",
    "\n",
    "# Sample Input:\n",
    "    10 2 3\n",
    "    3 1\n",
    "    5 2 8\n",
    "    \n",
    "# Sample Output:\n",
    "    9\n",
    "    Time Taken: 2.001051902770996 sec\n",
    "    \n",
    "# Explanation:\n",
    "    Buy the 2nd keyboard and the 3rd USB drive for a total cost of 8+1=9.\n",
    "\n",
    "# Sample Input1:\n",
    "    5 1 1\n",
    "    4\n",
    "    5\n",
    "    \n",
    "# Sample Output1:\n",
    "    -1\n",
    "    Time Taken: 2.0123860836029053 sec\n",
    "        \n",
    "# Explanation1:\n",
    "    There is no way to buy one keyboard and one USB drive because 4+5>5, so return -1."
   ]
  },
  {
   "cell_type": "code",
   "execution_count": 8,
   "metadata": {
    "slideshow": {
     "slide_type": "slide"
    }
   },
   "outputs": [],
   "source": [
    "## Ques: \n",
    "    Two friends Anna and Brian, are deciding how to split the bill at a dinner. Each will only pay for the items they \n",
    "    consume. Brian gets the check and calculates Anna's portion. You must determine if his calculation is correct.\n",
    "\n",
    "    For example, assume the bill has the following prices: bill=[2,4,6]. Anna declines to eat item k=bill[2] which costs 6.\n",
    "    If Brian calculates the bill correctly, Anna will pay (2+4)/2=3. If he includes the cost of bill[2], he will calculate\n",
    "    (2+4+6)/2=6. In the second case, he should refund 3 to Anna.\n",
    "    \n",
    "#   Note: Find the time taken to execute this program using the decorator and use the sleep 2 second during the execution.\n",
    "\n",
    "    \n",
    "# Function Description:\n",
    "    create the bonAppetit function in the editor. It should print Bon Appetit if the bill is fairly split. \n",
    "    Otherwise, it should print the integer amount of money that Brian owes Anna.\n",
    "\n",
    "# bonAppetit has the following parameter(s):\n",
    "    bill: an array of integers representing the cost of each item ordered\n",
    "    k: an integer representing the zero-based index of the item Anna doesn't eat\n",
    "    b: the amount of money that Anna contributed to the bill\n",
    "\n",
    "# Input Format:\n",
    "    The first line contains two space-separated integers n and k, the number of items ordered and the 0-based index of the\n",
    "    item that Anna did not eat.\n",
    "    The second line contains n space-separated integers bill[i] where 0<=i<=n.\n",
    "    The third line contains an integer, b, the amount of money that Brian charged Anna for her share of the bill.\n",
    "\n",
    "# Output Format\n",
    "    If Brian did not overcharge Anna, print Bon Appetit on a new line; otherwise, print the difference \n",
    "    (i.e., b_changed - b_actual) that Brian must refund to Anna. This will always be an integer.\n",
    "\n",
    "# Sample Input:\n",
    "    4 1\n",
    "    3 10 2 9\n",
    "    12\n",
    "    \n",
    "# Sample Output:\n",
    "    5\n",
    "    Time taken: 2.001185417175293 sec\n",
    "    \n",
    "# Explanation:\n",
    "    Anna didn't eat item bill[1]=10, but she shared the rest of the items with Brian. The total cost of the shared items is\n",
    "    3+2+9 = 14 and, split in half, the cost per person is b_actual=7. Brian charged her b_changed=12 for her portion of the\n",
    "    bill. We print the amount Anna was overcharged, b_changed - b_actual = 12-7=5, on a new line.\n",
    "\n",
    "# Sample Input1:\n",
    "    4 1\n",
    "    3 10 2 9\n",
    "    7\n",
    "    \n",
    "# Sample Output1:\n",
    "    Bon Appetit\n",
    "    Time taken: 2.0001296997070312 sec\n",
    "\n",
    "# Explanation1:\n",
    "    Anna didn't eat item , but she shared the rest of the items with Brian. The total cost of the shared items is  and,\n",
    "    split in half, the cost per person is . Because , we print Bon Appetit on a new line."
   ]
  }
 ],
 "metadata": {
  "celltoolbar": "Slideshow",
  "kernelspec": {
   "display_name": "Python 3",
   "language": "python",
   "name": "python3"
  },
  "language_info": {
   "codemirror_mode": {
    "name": "ipython",
    "version": 3
   },
   "file_extension": ".py",
   "mimetype": "text/x-python",
   "name": "python",
   "nbconvert_exporter": "python",
   "pygments_lexer": "ipython3",
   "version": "3.7.3"
  }
 },
 "nbformat": 4,
 "nbformat_minor": 2
}
