{
 "cells": [
  {
   "cell_type": "markdown",
   "metadata": {},
   "source": [
    "## Analysis of Algorithms"
   ]
  },
  {
   "cell_type": "markdown",
   "metadata": {},
   "source": [
    "### Why performance analysis?"
   ]
  },
  {
   "cell_type": "markdown",
   "metadata": {},
   "source": [
    "- performance == scale \n",
    "- Imagine a text editor that can load 1000 pages, but can spell check 1 page per minute OR an image editor that takes 1 hour to rotate your image 90 degrees left. So we need to fast performance. "
   ]
  },
  {
   "cell_type": "markdown",
   "metadata": {},
   "source": [
    "### How to Analysis an Algorithms:"
   ]
  },
  {
   "cell_type": "code",
   "execution_count": null,
   "metadata": {},
   "outputs": [],
   "source": [
    "1. Time\n",
    "2. Space\n",
    "3. Network\n",
    "4. Power Consumption\n",
    "5. CPU Registers\n",
    "\n",
    "# We discuss here only Time and Space Analysis"
   ]
  },
  {
   "cell_type": "markdown",
   "metadata": {},
   "source": [
    "### Time Complexity: "
   ]
  },
  {
   "cell_type": "markdown",
   "metadata": {},
   "source": [
    "- Time Complexity analysis means is how much time is take to executed the set of codes."
   ]
  },
  {
   "cell_type": "markdown",
   "metadata": {},
   "source": [
    "### Space Complexity:"
   ]
  },
  {
   "cell_type": "markdown",
   "metadata": {},
   "source": [
    "- Space Complexity analysis means is how much space is take to executed the set of codes."
   ]
  },
  {
   "cell_type": "markdown",
   "metadata": {},
   "source": [
    "### Type of time function:"
   ]
  },
  {
   "cell_type": "markdown",
   "metadata": {},
   "source": [
    "1. O(1) --> Constant\n",
    "2. O(logn) --> Logrithmic\n",
    "3. O(n) --> Linear\n",
    "4. O(n^2) --> Quadratic\n",
    "5. O(n^3) --> Cubic\n",
    "6. O(a^n) --> Exponential ## a --> 1,2,3 ....."
   ]
  },
  {
   "cell_type": "markdown",
   "metadata": {},
   "source": [
    "## Asymptotic Notation:"
   ]
  },
  {
   "cell_type": "markdown",
   "metadata": {},
   "source": [
    "- The main idea of asymptotic analysis is to have a measure of the efficiency of algorithms that don’t depend on machine-specific constants and doesn’t require algorithms to be implemented and time taken by programs to be compared. "
   ]
  },
  {
   "cell_type": "markdown",
   "metadata": {},
   "source": [
    "- Asymptotic notations are mathematical tools to represent the time complexity of algorithms for asymptotic analysis."
   ]
  },
  {
   "cell_type": "markdown",
   "metadata": {},
   "source": [
    "- The following 3 asymptotic notations are mostly used to represent the time complexity of algorithms."
   ]
  },
  {
   "cell_type": "markdown",
   "metadata": {},
   "source": [
    "### 1. Θ Notation:"
   ]
  },
  {
   "cell_type": "markdown",
   "metadata": {},
   "source": [
    "- The theta notation bounds a function from above and below, so it defines exact asymptotic behavior. "
   ]
  },
  {
   "cell_type": "markdown",
   "metadata": {},
   "source": [
    "- A simple way to get Theta notation of an expression is to drop low order terms and ignore leading constants. For example, consider the following expression. \n",
    "    3n^3 + 6n^2 + 6000 = Θ(n^3) "
   ]
  },
  {
   "cell_type": "markdown",
   "metadata": {},
   "source": [
    "<img src='https://drive.google.com/uc?id=1KMqYmceMD1EXdw-mMFkNBQT9JZ9AYLtf'> "
   ]
  },
  {
   "cell_type": "markdown",
   "metadata": {},
   "source": [
    "### 2. Big O Notation: "
   ]
  },
  {
   "cell_type": "markdown",
   "metadata": {},
   "source": [
    "- The Big O notation defines an upper bound of an algorithm, it bounds a function only from above. "
   ]
  },
  {
   "cell_type": "markdown",
   "metadata": {},
   "source": [
    "- For example, consider the case of Insertion Sort. It takes linear time in best case and quadratic time in worst case. We can safely say that the time complexity of Insertion sort is O(n^2). Note that O(n^2) also covers linear time."
   ]
  },
  {
   "cell_type": "markdown",
   "metadata": {},
   "source": [
    "- If we use Θ notation to represent time complexity of Insertion sort, we have to use two statements for best and worst cases: \n",
    "1. The worst case time complexity of Insertion Sort is Θ(n^2). \n",
    "2. The best case time complexity of Insertion Sort is Θ(n)."
   ]
  },
  {
   "cell_type": "markdown",
   "metadata": {},
   "source": [
    "<img src='https://drive.google.com/uc?id=1nK67nW4Yrv6bfAZXnnl-0L0PQkKBFPkc'> "
   ]
  },
  {
   "cell_type": "markdown",
   "metadata": {},
   "source": [
    "### 3. Omega(Ω) Notation: "
   ]
  },
  {
   "cell_type": "markdown",
   "metadata": {},
   "source": [
    "- Just as Big O notation provides an asymptotic upper bound on a function, Ω notation provides an asymptotic lower bound. "
   ]
  },
  {
   "cell_type": "markdown",
   "metadata": {},
   "source": [
    "- Ω Notation can be useful when we have lower bound on time complexity of an algorithm. "
   ]
  },
  {
   "cell_type": "markdown",
   "metadata": {},
   "source": [
    "<img src='https://drive.google.com/uc?id=1mGygQFHirqSIC5NF4C8gbKRTIv9RFsF8'> "
   ]
  },
  {
   "cell_type": "markdown",
   "metadata": {},
   "source": [
    "## General learning Technique in loops:"
   ]
  },
  {
   "cell_type": "markdown",
   "metadata": {},
   "source": [
    "1. start=0; end=N; steps=1, 2, 3       --> O(N)\n",
    "2. start()=N; end=1; steps=-1, -2, -3  --> O(N)\n",
    "\n",
    "3. start(i)=1; end=N; steps=i*2        --> O(logN)  ## base 2\n",
    "4. start(i)=N; end=1; steps=i//2       --> O(logN)  ## base 2\n",
    "\n",
    "5. start(i)=1; end=N; steps=i*3        --> O(logN)  ## base 3 \n",
    "6. start(i)=N; end=1; steps=i//3        --> O(logN) ## base 3 \n",
    "\n",
    "Note: If Some Alogritms is combination of loops then calculate like:\n",
    "\n",
    "    First loop: start=0; end=N; steps=1, 2, 3\n",
    "    second loop: start(i)=1; end=N; steps=i*2 \n",
    "    Then Time Complexity --> n * logn = nlogn"
   ]
  },
  {
   "cell_type": "markdown",
   "metadata": {},
   "source": [
    "- Linear Search running time in seconds on A: O(n)\n",
    "- Binary Search running time in seconds on B: O(logn)"
   ]
  },
  {
   "cell_type": "markdown",
   "metadata": {},
   "source": [
    "### Advantages Of Complexity:"
   ]
  },
  {
   "cell_type": "markdown",
   "metadata": {},
   "source": [
    "- The time complexity of an algorithm is the total amount of time required by an algorithm to complete its execution. \n",
    "- The time taken by any piece of code to run is known as the time complexity of that code. The lesser the time complexity, the faster the execution."
   ]
  },
  {
   "cell_type": "code",
   "execution_count": null,
   "metadata": {},
   "outputs": [],
   "source": [
    "### MCQ Questions Do it Your-self\n",
    "# Ques:\n",
    "    What is the time complexity of following code:\n",
    "\n",
    "\n",
    "int a = 0; \n",
    "for (i = 0; i < N; i++) { \n",
    "    for (j = N; j > i; j--) { \n",
    "        a = a + i + j; \n",
    "    } \n",
    "} \n",
    "\n",
    "\n",
    "Options:\n",
    "    1. O(N)\n",
    "    2. O(N*log(N))\n",
    "    3. O(N * Sqrt(N))\n",
    "    4. O(N*N)"
   ]
  },
  {
   "cell_type": "code",
   "execution_count": null,
   "metadata": {},
   "outputs": [],
   "source": [
    "# Ques:\n",
    "    What is the time complexity of following code:\n",
    "\n",
    "int i, j, k = 0; \n",
    "for (i = n / 2; i <= n; i++) { \n",
    "    for (j = 2; j <= n; j = j * 2) { \n",
    "        k = k + n / 2; \n",
    "    } \n",
    "} \n",
    "\n",
    "Options:\n",
    "    1. O(n)\n",
    "    2. O(nLogn)\n",
    "    3. O(n^2)\n",
    "    4. O(n^2Logn)"
   ]
  },
  {
   "cell_type": "code",
   "execution_count": null,
   "metadata": {},
   "outputs": [],
   "source": [
    "# Ques: \n",
    "    What is the time complexity of following code:\n",
    "\n",
    "int a = 0, i = N;\n",
    "while (i > 0) {\n",
    "    a += i;\n",
    "    i /= 2;\n",
    "}\n",
    "\n",
    "Options:\n",
    "    A. O(N)\n",
    "    B. O(Sqrt(N))\n",
    "    C. O(N / 2)\n",
    "    D. O(log N)"
   ]
  },
  {
   "cell_type": "code",
   "execution_count": null,
   "metadata": {},
   "outputs": [],
   "source": [
    "# Ques:\n",
    "    What is the time, space complexity of following code:\n",
    "\n",
    "int a = 0, b = 0; \n",
    "for (i = 0; i < N; i++) { \n",
    "    a = a + rand(); \n",
    "} \n",
    "for (j = 0; j < M; j++) { \n",
    "    b = b + rand(); \n",
    "} \n",
    "\n",
    "Options:\n",
    "    1. O(N * M) time, O(1) space\n",
    "    2. O(N + M) time, O(N + M) space\n",
    "    3. O(N + M) time, O(1) space\n",
    "    4. O(N * M) time, O(N + M) space"
   ]
  },
  {
   "cell_type": "code",
   "execution_count": null,
   "metadata": {},
   "outputs": [],
   "source": [
    "# Ques:\n",
    "    What is the time, space complexity of following code:\n",
    "        \n",
    "def f():\n",
    "    int a[N + 1][M + 1][K + 1]\n",
    "    sum = 0\n",
    "    for i = 1 to N:\n",
    "        for j = i to M:\n",
    "            for k = j to K:\n",
    "                sum += a[i][j]\n",
    "    print(sum)\n",
    "\n",
    "Options:          ## O --> Big O\n",
    "    A. O(N+M+K)\n",
    "    B. O(N∗M∗K)\n",
    "    C. O(N∗M+K)\n",
    "    D. O(N+M∗K)"
   ]
  }
 ],
 "metadata": {
  "kernelspec": {
   "display_name": "Python 3",
   "language": "python",
   "name": "python3"
  },
  "language_info": {
   "codemirror_mode": {
    "name": "ipython",
    "version": 3
   },
   "file_extension": ".py",
   "mimetype": "text/x-python",
   "name": "python",
   "nbconvert_exporter": "python",
   "pygments_lexer": "ipython3",
   "version": "3.7.3"
  }
 },
 "nbformat": 4,
 "nbformat_minor": 2
}
