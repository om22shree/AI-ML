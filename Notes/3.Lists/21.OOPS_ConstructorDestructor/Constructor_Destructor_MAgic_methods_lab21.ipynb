{
 "cells": [
  {
   "cell_type": "markdown",
   "metadata": {
    "slideshow": {
     "slide_type": "slide"
    }
   },
   "source": [
    "# Constructors in Python"
   ]
  },
  {
   "cell_type": "markdown",
   "metadata": {
    "slideshow": {
     "slide_type": "fragment"
    }
   },
   "source": [
    "- Constructors are generally used for instantiating an object.\n",
    "- The task of constructors is to initialize(assign values) to the data members of the class when an object of class is created.\n",
    "- In Python the \\_\\_init\\_\\_() method is called the constructor and is always called when an object is created.\n",
    "- \\_\\_new\\_\\_() method give physical space to object so that you can use that space for initialization object values/variables.\n",
    "- When you used \\_\\_init\\_\\_() then autometically the \\_\\_new\\_\\_() method is called for space."
   ]
  },
  {
   "cell_type": "markdown",
   "metadata": {
    "slideshow": {
     "slide_type": "slide"
    }
   },
   "source": [
    "### Syntax of constructor declaration in Class:"
   ]
  },
  {
   "cell_type": "code",
   "execution_count": null,
   "metadata": {
    "slideshow": {
     "slide_type": "fragment"
    }
   },
   "outputs": [],
   "source": [
    "def __new__(cls):  ## By Object class\n",
    "    # body of the constructor\n",
    "\n",
    "def __init__(self):\n",
    "    # body of the constructor"
   ]
  },
  {
   "cell_type": "markdown",
   "metadata": {
    "slideshow": {
     "slide_type": "slide"
    }
   },
   "source": [
    "<img src='https://drive.google.com/uc?id=1nWRNPw-7_o8LHHn4Jw6IdpD59m5Tg_oB'> \n",
    "<img src='https://drive.google.com/uc?id=11FLZiJTJmPhZFzhy58KMoIcDB1cAj6rf'>     "
   ]
  },
  {
   "cell_type": "markdown",
   "metadata": {
    "slideshow": {
     "slide_type": "slide"
    }
   },
   "source": [
    "### Types of constructors :"
   ]
  },
  {
   "cell_type": "markdown",
   "metadata": {
    "slideshow": {
     "slide_type": "fragment"
    }
   },
   "source": [
    "#### 1. default constructor :\n",
    "- The default constructor is simple constructor which doesn’t accept any arguments.It’s definition has only one argument which is a reference to the instance being constructed."
   ]
  },
  {
   "cell_type": "markdown",
   "metadata": {
    "slideshow": {
     "slide_type": "fragment"
    }
   },
   "source": [
    "#### 2. parameterized constructor :\n",
    "- Constructor with parameters is known as parameterized constructor.The parameterized constructor take its first argument as a reference to the instance being constructed known as self and the rest of the arguments are provided by the programmer."
   ]
  },
  {
   "cell_type": "markdown",
   "metadata": {
    "slideshow": {
     "slide_type": "slide"
    }
   },
   "source": [
    "# Destructors in Python"
   ]
  },
  {
   "cell_type": "markdown",
   "metadata": {
    "slideshow": {
     "slide_type": "fragment"
    }
   },
   "source": [
    "- Destructors are called when an object gets destroyed. In Python, destructors are not needed as much needed in C++ because Python has a garbage collector that handles memory management automatically.\n",
    "- The \\_\\_del\\_\\_() method is a known as a destructor method in Python. It is called when all references to the object have been deleted i.e when an object is garbage collected."
   ]
  },
  {
   "cell_type": "markdown",
   "metadata": {
    "slideshow": {
     "slide_type": "slide"
    }
   },
   "source": [
    "### Syntax of destructor declaration in Class :"
   ]
  },
  {
   "cell_type": "code",
   "execution_count": null,
   "metadata": {
    "slideshow": {
     "slide_type": "fragment"
    }
   },
   "outputs": [],
   "source": [
    "def __del__(self):\n",
    "  # body of destructor"
   ]
  },
  {
   "cell_type": "markdown",
   "metadata": {
    "slideshow": {
     "slide_type": "fragment"
    }
   },
   "source": [
    "**Note : A reference to objects is also deleted when the object goes out of reference or when the program ends.**"
   ]
  },
  {
   "cell_type": "markdown",
   "metadata": {
    "slideshow": {
     "slide_type": "slide"
    }
   },
   "source": [
    "### Example of Constructor and Destructor:\n",
    "This is the example of Constructor and Destructor with some magical method like \\_\\_repe\\_\\_(),\\_\\_str\\_\\_() . This example show you that how to create a Student class and by using Student class how to create different instantiating an object using constructor. And also give the idea about Destructor which is calling before the object destroy. In This Example Student Name, Age, Phone number is store using reference variable and total is a static variale."
   ]
  },
  {
   "cell_type": "code",
   "execution_count": 12,
   "metadata": {
    "slideshow": {
     "slide_type": "fragment"
    }
   },
   "outputs": [
    {
     "name": "stdout",
     "output_type": "stream",
     "text": [
      "Attribute :  name Value :  shahid\n",
      "Attribute :  age Value :  20\n",
      "Attribute :  phno Value :  987564321\n",
      "Attribute :  name Value :  Sahil\n",
      "Attribute :  age Value :  22\n",
      "Attribute :  phno Value :  9876543210\n",
      "Attribute :  name Value :  Komal\n",
      "Attribute :  age Value :  24\n",
      "Attribute :  phno Value :  9876543210\n",
      "shahid\n",
      "Sahil\n",
      "Komal\n",
      "Deleting :  1842946903176\n",
      "Deleting :  1842946903456\n",
      "Deleting :  1842946903400\n"
     ]
    },
    {
     "ename": "NameError",
     "evalue": "name 's1' is not defined",
     "output_type": "error",
     "traceback": [
      "\u001b[1;31m----------------------------------------------------------------------\u001b[0m",
      "\u001b[1;31mNameError\u001b[0m                            Traceback (most recent call last)",
      "\u001b[1;32m<ipython-input-12-2e48d32cd849>\u001b[0m in \u001b[0;36m<module>\u001b[1;34m\u001b[0m\n\u001b[0;32m     39\u001b[0m \u001b[1;32mdel\u001b[0m \u001b[0ms3\u001b[0m\u001b[1;33m\u001b[0m\u001b[1;33m\u001b[0m\u001b[0m\n\u001b[0;32m     40\u001b[0m \u001b[1;33m\u001b[0m\u001b[0m\n\u001b[1;32m---> 41\u001b[1;33m \u001b[0mprint\u001b[0m\u001b[1;33m(\u001b[0m\u001b[0ms1\u001b[0m\u001b[1;33m)\u001b[0m  \u001b[1;31m### Give Error because reference variable deleted\u001b[0m\u001b[1;33m\u001b[0m\u001b[1;33m\u001b[0m\u001b[0m\n\u001b[0m\u001b[0;32m     42\u001b[0m \u001b[0mprint\u001b[0m\u001b[1;33m(\u001b[0m\u001b[0ms2\u001b[0m\u001b[1;33m)\u001b[0m\u001b[1;33m\u001b[0m\u001b[1;33m\u001b[0m\u001b[0m\n\u001b[0;32m     43\u001b[0m \u001b[0mprint\u001b[0m\u001b[1;33m(\u001b[0m\u001b[0ms3\u001b[0m\u001b[1;33m)\u001b[0m\u001b[1;33m\u001b[0m\u001b[1;33m\u001b[0m\u001b[0m\n",
      "\u001b[1;31mNameError\u001b[0m: name 's1' is not defined"
     ]
    }
   ],
   "source": [
    "class Student:\n",
    "    total = 0\n",
    "    def __init__(self,name,age,phno):\n",
    "        self.name = name\n",
    "        self.age = age\n",
    "        self.phno = phno\n",
    "        Student.total += 1\n",
    "        \n",
    "    def get_attr(self):\n",
    "        for attr,value in self.__dict__.items():\n",
    "            print(\"Attribute : \",attr,\"Value : \",value)\n",
    "            \n",
    "    def get_total(self):\n",
    "        print(\"\\n The total number of students are : \",Student.total)\n",
    "        \n",
    "    def __repr__(self):  ## when console output \n",
    "        return f\"{self.name}\"\n",
    "    \n",
    "    def __str__(self):  ## When print statment used\n",
    "        return f\"{self.name}\"\n",
    "    \n",
    "    def __del__(self):\n",
    "        print(\"Deleting : \",id(self))\n",
    "        del self\n",
    "        \n",
    "s1 = Student(\"shahid\",20,987564321)  ### __init__ will be called\n",
    "s2 = Student(\"Sahil\",22,9876543210)\n",
    "s3 = Student(\"Komal\",24,9876543210)\n",
    "\n",
    "s1.get_attr()  ## call instance method \n",
    "s2.get_attr()\n",
    "s3.get_attr()\n",
    "\n",
    "print(s1)  ### by __str__ method()\n",
    "print(s2)\n",
    "print(s3)\n",
    "\n",
    "del s1  ### delete reference variable\n",
    "del s2\n",
    "del s3\n",
    "\n",
    "print(s1)  ### Give Error because reference variable deleted\n",
    "print(s2)\n",
    "print(s3)"
   ]
  },
  {
   "cell_type": "markdown",
   "metadata": {
    "slideshow": {
     "slide_type": "slide"
    }
   },
   "source": [
    "## Python - Magic Methods"
   ]
  },
  {
   "cell_type": "markdown",
   "metadata": {
    "slideshow": {
     "slide_type": "fragment"
    }
   },
   "source": [
    "- Magic methods in Python are the special methods which add \"magic\" to your class. Magic methods are not meant to be invoked directly by you, but the invocation happens internally from the class on a certain action. For example, when you add two numbers using the + operator, internally, the \\_\\_add\\_\\_() method will be called.\n",
    "\n",
    "- Built-in classes in Python define many magic methods. Use the dir() function to see the number of magic methods inherited by a class. For example, the following lists all the attributes and methods defined in the int class."
   ]
  },
  {
   "cell_type": "markdown",
   "metadata": {
    "slideshow": {
     "slide_type": "slide"
    }
   },
   "source": [
    "### Example of Magic Method "
   ]
  },
  {
   "cell_type": "code",
   "execution_count": 14,
   "metadata": {
    "slideshow": {
     "slide_type": "fragment"
    }
   },
   "outputs": [
    {
     "name": "stdout",
     "output_type": "stream",
     "text": [
      "['__abs__', '__add__', '__and__', '__bool__', '__ceil__', '__class__', '__delattr__', '__dir__', '__divmod__', '__doc__', '__eq__', '__float__', '__floor__', '__floordiv__', '__format__', '__ge__', '__getattribute__', '__getnewargs__', '__gt__', '__hash__', '__index__', '__init__', '__init_subclass__', '__int__', '__invert__', '__le__', '__lshift__', '__lt__', '__mod__', '__mul__', '__ne__', '__neg__', '__new__', '__or__', '__pos__', '__pow__', '__radd__', '__rand__', '__rdivmod__', '__reduce__', '__reduce_ex__', '__repr__', '__rfloordiv__', '__rlshift__', '__rmod__', '__rmul__', '__ror__', '__round__', '__rpow__', '__rrshift__', '__rshift__', '__rsub__', '__rtruediv__', '__rxor__', '__setattr__', '__sizeof__', '__str__', '__sub__', '__subclasshook__', '__truediv__', '__trunc__', '__xor__', 'bit_length', 'conjugate', 'denominator', 'from_bytes', 'imag', 'numerator', 'real', 'to_bytes']\n"
     ]
    }
   ],
   "source": [
    "print(dir(int))  ## Which used Dunder (__) these called magic method.  ## int--> just for example used."
   ]
  },
  {
   "cell_type": "markdown",
   "metadata": {
    "slideshow": {
     "slide_type": "slide"
    }
   },
   "source": [
    "- As you can see above, the int class includes various magic methods surrounded by double underscores. For example, the \\_\\_add\\_\\_ method is a magic method which gets called when we add two numbers using the + operator. Consider the following example."
   ]
  },
  {
   "cell_type": "markdown",
   "metadata": {
    "slideshow": {
     "slide_type": "slide"
    }
   },
   "source": [
    "### Important Magic Methods"
   ]
  },
  {
   "cell_type": "markdown",
   "metadata": {
    "slideshow": {
     "slide_type": "slide"
    }
   },
   "source": [
    "<img src='https://drive.google.com/uc?id=1_ZXFgOJFgeY3pDu9kBKrMWBLiH_y2pbX'> "
   ]
  },
  {
   "cell_type": "markdown",
   "metadata": {
    "slideshow": {
     "slide_type": "slide"
    }
   },
   "source": [
    "<img src='https://drive.google.com/uc?id=1fqEgNS9bxtFKuAF7WPVV7uCZjixnKImL'> "
   ]
  },
  {
   "cell_type": "markdown",
   "metadata": {
    "slideshow": {
     "slide_type": "slide"
    }
   },
   "source": [
    "<img src='https://drive.google.com/uc?id=18wMGu_XB_ahNb6TCZ0fa5qwEJR9zm3u9'> "
   ]
  },
  {
   "cell_type": "markdown",
   "metadata": {
    "slideshow": {
     "slide_type": "slide"
    }
   },
   "source": [
    "<img src='https://drive.google.com/uc?id=1ysRjvZRagkUaHixVPb3-TfoLsW_TjaIp'> "
   ]
  },
  {
   "cell_type": "markdown",
   "metadata": {
    "slideshow": {
     "slide_type": "slide"
    }
   },
   "source": [
    "<img src='https://drive.google.com/uc?id=1xOu9j_iceQuH1h8Ef4J4zXtlTzbz8LiD'> "
   ]
  },
  {
   "cell_type": "markdown",
   "metadata": {
    "slideshow": {
     "slide_type": "slide"
    }
   },
   "source": [
    "<img src='https://drive.google.com/uc?id=1iRf22-X_LZjzyHmpDxB1EyLF8yRkJ4KA'>     "
   ]
  },
  {
   "cell_type": "markdown",
   "metadata": {
    "slideshow": {
     "slide_type": "slide"
    }
   },
   "source": [
    "### Class Magic Methods"
   ]
  },
  {
   "cell_type": "code",
   "execution_count": 16,
   "metadata": {
    "slideshow": {
     "slide_type": "fragment"
    }
   },
   "outputs": [
    {
     "name": "stdout",
     "output_type": "stream",
     "text": [
      "['__class__', '__delattr__', '__dict__', '__dir__', '__doc__', '__eq__', '__format__', '__ge__', '__getattribute__', '__gt__', '__hash__', '__init__', '__init_subclass__', '__le__', '__lt__', '__module__', '__ne__', '__new__', '__reduce__', '__reduce_ex__', '__repr__', '__setattr__', '__sizeof__', '__str__', '__subclasshook__', '__weakref__']\n"
     ]
    }
   ],
   "source": [
    "## Create a class for magic methods\n",
    "class A:pass\n",
    "obj = A()\n",
    "print(dir(obj))"
   ]
  },
  {
   "cell_type": "markdown",
   "metadata": {
    "slideshow": {
     "slide_type": "slide"
    }
   },
   "source": [
    "<img src='https://drive.google.com/uc?id=1t-Zcn76vlPQWPt_3EjlyyReJlRDFweif'>     "
   ]
  },
  {
   "cell_type": "markdown",
   "metadata": {
    "slideshow": {
     "slide_type": "slide"
    }
   },
   "source": [
    "### Example :\n",
    "- This is the of CarGarage class where a company name Mahindra which have some cars available these car models is given and the discount of per car also given. This Example show that how to use the magical method used in the class and calculate the add, sub and multiplication and also give the idea about constructor, destructor and magic methods."
   ]
  },
  {
   "cell_type": "code",
   "execution_count": 42,
   "metadata": {
    "slideshow": {
     "slide_type": "fragment"
    }
   },
   "outputs": [
    {
     "name": "stdout",
     "output_type": "stream",
     "text": [
      "Company Name:  Mahindra \n",
      "\n",
      "Available Cars: \n",
      "XUV500 : 13.84 lac : 1842964712360\n",
      "Marazzo : 11.25 lac : 1842964713256\n",
      "KUV100 NXT : 5.92 lac : 1842964710456\n",
      "Alturas G4 : 28.73 lac : 1842964712136\n",
      "\n",
      "Car Names: \n",
      "XUV500\n",
      "Marazzo\n",
      "KUV100 NXT\n",
      "Alturas G4\n",
      "\n",
      "Total Amount after Discount: \n",
      "XUV500 : 13.148 lac\n",
      "Marazzo : 10.6875 lac\n",
      "KUV100 NXT : 5.624 lac\n",
      "Alturas G4 : 27.2935 lac\n",
      "\n",
      "Total Number of Model are: 4\n",
      "\n",
      "Deleting : 1842964712360\n",
      "Deleting : 1842964713256\n",
      "Deleting : 1842964710456\n",
      "Deleting : 1842964712136\n"
     ]
    }
   ],
   "source": [
    "class CarGarage:\n",
    "    Company = \"Mahindra\"  #class attribute\n",
    "    total = 0\n",
    "    def __init__(self,Mod_name,price):\n",
    "        self.modelName = Mod_name\n",
    "        self.price = price\n",
    "        CarGarage.total += 1\n",
    "        print(f\"{self.modelName} : {self.price} lac : {id(self)}\")\n",
    "    \n",
    "    def __del__(self):\n",
    "        print(\"Deleting :\",id(self))\n",
    "        del self\n",
    "        \n",
    "    def __repr__(self):  ## when console output \n",
    "        return f\"{self.modelName}\"\n",
    "    \n",
    "    def __str__(self):  ## When print statment used\n",
    "        return f\"{self.modelName}\"\n",
    "    \n",
    "    def get_total(self):\n",
    "        print(\"\\n The total number of students is : \",CarGarage.total)\n",
    "    \n",
    "    def discount(self):\n",
    "        discount = (self.price).__sub__((0.05).__mul__(self.price))\n",
    "        print(f'{self.modelName} : {discount} lac')\n",
    "\n",
    "print('Company Name: ',CarGarage.Company,'\\n')\n",
    "print(\"Available Cars: \")\n",
    "obj1 = CarGarage('XUV500', 13.84)  ## Rupees in lacs\n",
    "obj2 = CarGarage('Marazzo', 11.25)\n",
    "obj3 = CarGarage('KUV100 NXT', 5.92)\n",
    "obj4 = CarGarage('Alturas G4', 28.73)\n",
    "\n",
    "print()\n",
    "print(\"Car Names: \")\n",
    "print(obj1)  ### by __str__ method()\n",
    "print(obj2)\n",
    "print(obj3)\n",
    "print(obj4)\n",
    "\n",
    "print()\n",
    "print(\"Total Amount after Discount: \")\n",
    "obj1.discount()  ## Check the discount \n",
    "obj2.discount()\n",
    "obj3.discount()\n",
    "obj4.discount()\n",
    "\n",
    "print()\n",
    "print(\"Total Number of Model are:\",obj1.total) ### Call by reference to static variable\n",
    "\n",
    "print()\n",
    "del obj1  ### delete reference variable\n",
    "del obj2\n",
    "del obj3\n",
    "del obj4\n"
   ]
  },
  {
   "cell_type": "code",
   "execution_count": null,
   "metadata": {
    "slideshow": {
     "slide_type": "slide"
    }
   },
   "outputs": [],
   "source": [
    "# Do it Yourself\n",
    "# Ques: Address Book\n",
    "    In the next two problems, you’ll be building an address book using object oriented programming in Python. To begin,\n",
    "    you’ll define a Person class. You’ll use this class in the next problem to build your address book – each entry in \n",
    "    your address book will be an instance of the Person class.\n",
    "    \n",
    "    To begin, define the __init__ and __str__ methods for the Person class.\n",
    "    Read the Python documentation if needed to help you understand what __init__ and __str__ need to do.\n",
    "    Here’s an example interaction in the Python shell demonstrating how your class should work after implementing these \n",
    "    two methods:\n",
    "    \"\"\"\n",
    "        >>> Emily = Person(“Zhang”, “Emily”,\n",
    "        “5559358150”,\n",
    "        “emzhang@mit.edu”)\n",
    "        >>> print(Emily)\n",
    "        Zhang, Emily -- Phone Number: 5559358150 --\n",
    "        Email\n",
    "        Address(es): emzhang@mit.edu\n",
    "        >>> Wesley = Person(“Graybill”, “Wesley”,\n",
    "        “5551940325”,\n",
    "        [‘wgray496@mit.edu’, ‘wdgraybill@gmail.com’])\n",
    "        >>> print(Wesley)\n",
    "        Graybill, Wesley -- Phone Number: 5551940325 --\n",
    "        Email\n",
    "        Address(es): wgray496@mit.edu,\n",
    "        wdgraybill@gmail.com\n",
    "    \"\"\""
   ]
  },
  {
   "cell_type": "code",
   "execution_count": null,
   "metadata": {
    "slideshow": {
     "slide_type": "slide"
    }
   },
   "outputs": [],
   "source": [
    "# Ques: \n",
    "    - In this problem, you will use your Person class from the previous problem to create an address book for storing the \n",
    "    contacts of your friends and family.\n",
    "    - It should allow you to search the address book for a friend, and return their contact information.\n",
    "    - Begin by defining an __init__ method. Don’t forget about Python's builtin dictionary data type.\n",
    "    - Next, write a method add_contact that allows you to add a new person to the address book.\n",
    "    - Finally, write a method lookup_contact that looks up a contact by last name. The method should accept the last name \n",
    "    as an argument, and print each contact that matches the last name on a new line. As an additional challenge, extend \n",
    "    this method to allow users to optionally specify a first name to narrow down the results when multiple contacts have \n",
    "    the same last name. To learn more about optional arguments in Python, search for terms such as “optional arguments in\n",
    "    Python” and “default arguments in Python”.\n",
    "    \n",
    "    For example, suppose the contact book contains entries for both Ali Kamil, and his wife Sama Kamil. The following is\n",
    "    an example output:\n",
    "    \"\"\" \n",
    "        >>> a = AddressBook()\n",
    "        >>> a.add_person(Person(“Kamil”, “Ali”, … ))\n",
    "        >>> a.add_person(Person(“Kamil”, “Sama”, … ))\n",
    "        >>> a.lookup_contact(“Kamil”)\n",
    "        Kamil, Ali -- Phone Number: …\n",
    "        Kamil, Sama -- Phone Number: …\n",
    "        >>> a.lookup_contact(“Kamil”, “Ali”)\n",
    "        Kamil, Ali -- Phone Number: …\n",
    "    \"\"\""
   ]
  },
  {
   "cell_type": "code",
   "execution_count": null,
   "metadata": {
    "slideshow": {
     "slide_type": "slide"
    }
   },
   "outputs": [],
   "source": [
    "# Ques\n",
    "    - In this problem, You need to create a class which name is Circle. Your task is to using the construtor method in\n",
    "    intialize it with radius variable which value is pass by the object creation time. This variable is used for calculate\n",
    "    the Area of the circle and Circumference inside the class.You need to also create two methods first method is getArea()\n",
    "    function for calculate the area of the circle and print that value. The second method is getCircumference() inside \n",
    "    the class which is used for calculating the Circumference of the circle.\n",
    "    - Create two methods getArea() and getCircumference().\n",
    "    - When we want to print the object then print the statment with the Radius of that object.\n",
    "        eg. The Radius of the object is : XX cm  \n",
    "    - Create Two more Function for this class:\n",
    "        1. Perimeter of semi-circle\n",
    "        2. Area of semi-circle\n",
    "    - After this creating print all the answer then autometically delete these reference variable.  \n",
    "    \n",
    "#     Note: All the calculation done using the magic method...."
   ]
  },
  {
   "cell_type": "code",
   "execution_count": null,
   "metadata": {
    "slideshow": {
     "slide_type": "slide"
    }
   },
   "outputs": [],
   "source": [
    "Ques:\n",
    "    - In this problem, You need to create a class which name is Student. Your task is to using the construtor method you \n",
    "    need intialize StudentName, Roll Number. Your task to create three function:\n",
    "        1. Display - It should display all informations of the student.\n",
    "        2. setAge - It should assign age to student\n",
    "        3. setMarks - It should assign marks to the student in five basic subjects.\n",
    "        4. checkpercentage - It should display the persentage. \n",
    "        5. disGrade - It should display the grade according to percentage:\n",
    "            Percentage >= 90% : Grade A\n",
    "            Percentage >= 80% : Grade B\n",
    "            Percentage >= 70% : Grade C\n",
    "            Percentage >= 60% : Grade D\n",
    "            Percentage >= 40% : Grade E\n",
    "            Percentage < 40% : Grade F\n",
    "        6. printInfo - Complete information about the student is print.\n",
    "                \n",
    "    - When a Object is print then complete information of that Student will print.\n",
    "    \n",
    "#     Note: All the calculation done using the magic method...."
   ]
  }
 ],
 "metadata": {
  "celltoolbar": "Slideshow",
  "kernelspec": {
   "display_name": "Python 3",
   "language": "python",
   "name": "python3"
  },
  "language_info": {
   "codemirror_mode": {
    "name": "ipython",
    "version": 3
   },
   "file_extension": ".py",
   "mimetype": "text/x-python",
   "name": "python",
   "nbconvert_exporter": "python",
   "pygments_lexer": "ipython3",
   "version": "3.7.3"
  }
 },
 "nbformat": 4,
 "nbformat_minor": 2
}
