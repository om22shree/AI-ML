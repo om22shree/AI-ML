{
 "cells": [
  {
   "cell_type": "markdown",
   "metadata": {
    "slideshow": {
     "slide_type": "slide"
    }
   },
   "source": [
    "## Stack in Python"
   ]
  },
  {
   "cell_type": "markdown",
   "metadata": {
    "slideshow": {
     "slide_type": "fragment"
    }
   },
   "source": [
    "- A stack is a linear data structure that stores items in a Last-In/First-Out (LIFO) or First-In/Last-Out (FILO) manner."
   ]
  },
  {
   "cell_type": "markdown",
   "metadata": {
    "slideshow": {
     "slide_type": "fragment"
    }
   },
   "source": [
    "- In stack, a new element is added at one end and an element is removed from that end only. "
   ]
  },
  {
   "cell_type": "markdown",
   "metadata": {
    "slideshow": {
     "slide_type": "fragment"
    }
   },
   "source": [
    "- The insert and delete operations are often called push and pop."
   ]
  },
  {
   "cell_type": "markdown",
   "metadata": {
    "slideshow": {
     "slide_type": "slide"
    }
   },
   "source": [
    "<img src='https://drive.google.com/uc?id=1VE96pwGRyGgKPZm7WfHbaFDhwIQmPCES'> "
   ]
  },
  {
   "cell_type": "markdown",
   "metadata": {
    "slideshow": {
     "slide_type": "slide"
    }
   },
   "source": [
    "### The functions associated with stack which is most used are:"
   ]
  },
  {
   "cell_type": "markdown",
   "metadata": {
    "slideshow": {
     "slide_type": "fragment"
    }
   },
   "source": [
    "empty() – Returns whether the stack is empty – Time Complexity : O(1)"
   ]
  },
  {
   "cell_type": "markdown",
   "metadata": {
    "slideshow": {
     "slide_type": "fragment"
    }
   },
   "source": [
    "size() – Returns the size of the stack – Time Complexity : O(1)"
   ]
  },
  {
   "cell_type": "markdown",
   "metadata": {
    "slideshow": {
     "slide_type": "fragment"
    }
   },
   "source": [
    "top() – Returns a reference to the top most element of the stack – Time Complexity : O(1)"
   ]
  },
  {
   "cell_type": "markdown",
   "metadata": {
    "slideshow": {
     "slide_type": "fragment"
    }
   },
   "source": [
    "push(g) – Adds the element ‘g’ at the top of the stack – Time Complexity : O(1)"
   ]
  },
  {
   "cell_type": "markdown",
   "metadata": {
    "slideshow": {
     "slide_type": "fragment"
    }
   },
   "source": [
    "pop() – Deletes the top most element of the stack – Time Complexity : O(1)"
   ]
  },
  {
   "cell_type": "markdown",
   "metadata": {
    "slideshow": {
     "slide_type": "slide"
    }
   },
   "source": [
    "#### Ques:\n",
    "- In this Python program, we learn about how to create the Stack. In this Stack class all the instance method like get max size, check stack is empty or not, check stack is full or not , push and pop methods are define. The Total Stack Operations are: \n",
    "    1. \\_\\_init\\_\\_\n",
    "    2. check_empty\n",
    "    3. check_full\n",
    "    4. push\n",
    "    5. pop\n",
    "    6. \\_\\_str\\_\\_\n",
    "    7. \\_\\_repr\\_\\_"
   ]
  },
  {
   "cell_type": "code",
   "execution_count": 30,
   "metadata": {
    "slideshow": {
     "slide_type": "slide"
    }
   },
   "outputs": [
    {
     "name": "stdout",
     "output_type": "stream",
     "text": [
      "Check Stack is Empty:  True\n",
      "Stack:  [1, 3, 4, 5, 6]\n",
      "Check Stack is Full:  True\n"
     ]
    }
   ],
   "source": [
    "class Stack:\n",
    "    def __init__(self, max_size=0):\n",
    "        self.__arr = [None for _ in range(max_size)]\n",
    "        self.__max_size = max_size\n",
    "        self.__index = -1\n",
    "    \n",
    "    def get_max_size(self):\n",
    "        \"\"\"\n",
    "            It is used to return the maximum size\n",
    "        \"\"\"\n",
    "        return self.__max_size\n",
    "    \n",
    "    def check_empty(self):\n",
    "        \"\"\"\n",
    "            It will return true if the stack is empty\n",
    "        \"\"\"\n",
    "        if self.__index == -1:\n",
    "            return True\n",
    "        return False\n",
    "    \n",
    "    def check_full(self):\n",
    "        \"\"\"\n",
    "            It will return true if the stack is full\n",
    "        \"\"\"\n",
    "        if self.__index == self.get_max_size() - 1:\n",
    "            return True\n",
    "        return False\n",
    "    \n",
    "    def push(self, ele):\n",
    "        if self.check_full():\n",
    "            return \"Stack is full\"\n",
    "        else:\n",
    "            self.__index += 1\n",
    "            self.__arr[self.__index] = ele\n",
    "            \n",
    "    def pop(self):\n",
    "        if self.check_empty():\n",
    "            return \"Stack is empty\"\n",
    "        else:\n",
    "            self.__index -= 1\n",
    "    \n",
    "    \n",
    "    def __str__(self):\n",
    "        return f\"{self.__arr}\"\n",
    "    \n",
    "    def __repr__(self):\n",
    "        return f\"{self.__arr}\"\n",
    "    \n",
    "stack = Stack(5)\n",
    "print(\"Check Stack is Empty: \",stack.check_empty())\n",
    "stack.push(1)\n",
    "stack.push(2)\n",
    "stack.pop()\n",
    "stack.push(3)\n",
    "stack.push(4)\n",
    "stack.push(5)\n",
    "stack.push(6)\n",
    "print(\"Stack: \",stack)\n",
    "print(\"Check Stack is Full: \", stack.check_full())"
   ]
  },
  {
   "cell_type": "markdown",
   "metadata": {
    "slideshow": {
     "slide_type": "slide"
    }
   },
   "source": [
    "#### All method of list are:"
   ]
  },
  {
   "cell_type": "code",
   "execution_count": 2,
   "metadata": {
    "slideshow": {
     "slide_type": "fragment"
    }
   },
   "outputs": [
    {
     "name": "stdout",
     "output_type": "stream",
     "text": [
      "['__add__', '__class__', '__contains__', '__delattr__', '__delitem__', '__dir__', '__doc__', '__eq__', '__format__', '__ge__', '__getattribute__', '__getitem__', '__gt__', '__hash__', '__iadd__', '__imul__', '__init__', '__init_subclass__', '__iter__', '__le__', '__len__', '__lt__', '__mul__', '__ne__', '__new__', '__reduce__', '__reduce_ex__', '__repr__', '__reversed__', '__rmul__', '__setattr__', '__setitem__', '__sizeof__', '__str__', '__subclasshook__', 'append', 'clear', 'copy', 'count', 'extend', 'index', 'insert', 'pop', 'remove', 'reverse', 'sort']\n"
     ]
    }
   ],
   "source": [
    "stack = []        \n",
    "print(dir(stack))"
   ]
  },
  {
   "cell_type": "markdown",
   "metadata": {
    "slideshow": {
     "slide_type": "fragment"
    }
   },
   "source": [
    "**Note: In python list datatype is just like a Stack all the property in list same work like stack property because list is a buil-in data structure type. In Stack instead of push(), append() is used to add elements to the top of stack while pop() removes the element in LIFO order.**"
   ]
  },
  {
   "cell_type": "markdown",
   "metadata": {
    "slideshow": {
     "slide_type": "slide"
    }
   },
   "source": [
    "### Implementation"
   ]
  },
  {
   "cell_type": "markdown",
   "metadata": {
    "slideshow": {
     "slide_type": "fragment"
    }
   },
   "source": [
    "- There are various ways from which a stack can be implemented in Python."
   ]
  },
  {
   "cell_type": "markdown",
   "metadata": {
    "slideshow": {
     "slide_type": "slide"
    }
   },
   "source": [
    "#### Stack in Python can be implemented using following ways: "
   ]
  },
  {
   "cell_type": "markdown",
   "metadata": {
    "slideshow": {
     "slide_type": "fragment"
    }
   },
   "source": [
    "1. list\n",
    "2. collections.deque\n",
    "3. queue.LifoQueue"
   ]
  },
  {
   "cell_type": "markdown",
   "metadata": {
    "slideshow": {
     "slide_type": "slide"
    }
   },
   "source": [
    "### 1. Implementation using list:"
   ]
  },
  {
   "cell_type": "markdown",
   "metadata": {
    "slideshow": {
     "slide_type": "fragment"
    }
   },
   "source": [
    "- Python’s buil-in data structure list can be used as a stack. Instead of push(), append() is used to add elements to the top of stack while pop() removes the element in LIFO order. "
   ]
  },
  {
   "cell_type": "markdown",
   "metadata": {
    "slideshow": {
     "slide_type": "fragment"
    }
   },
   "source": [
    "- Unfortunately, list has a few shortcomings. The biggest issue is that it can run into speed issue as it grows. The items in list are stored next to each other in memory, if the stack grows bigger than the block of memory that currently hold it, then Python needs to do some memory allocations. This can lead to some append() calls taking much longer than other ones."
   ]
  },
  {
   "cell_type": "markdown",
   "metadata": {
    "slideshow": {
     "slide_type": "slide"
    }
   },
   "source": [
    "### Implementation using collections.deque:"
   ]
  },
  {
   "cell_type": "markdown",
   "metadata": {
    "slideshow": {
     "slide_type": "fragment"
    }
   },
   "source": [
    "- Python stack can be implemented using deque class from collections module. "
   ]
  },
  {
   "cell_type": "markdown",
   "metadata": {
    "slideshow": {
     "slide_type": "fragment"
    }
   },
   "source": [
    "- Deque is preferred over list in the cases where we need quicker append and pop operations from both the ends of the container, as deque provides an O(1) time complexity for append and pop operations as compared to list which provides O(n) time complexity. "
   ]
  },
  {
   "cell_type": "markdown",
   "metadata": {
    "slideshow": {
     "slide_type": "fragment"
    }
   },
   "source": [
    "- The same methods on deque as seen in list are used, append() and pop()."
   ]
  },
  {
   "cell_type": "markdown",
   "metadata": {
    "slideshow": {
     "slide_type": "slide"
    }
   },
   "source": [
    "### Implementation using queue module\n",
    "- Queue module also has a LIFO Queue, which is basically a Stack. Data is inserted into Queue using put() function and get() takes data out from the Queue. "
   ]
  },
  {
   "cell_type": "markdown",
   "metadata": {
    "slideshow": {
     "slide_type": "slide"
    }
   },
   "source": [
    "### There are various functions available in this module: "
   ]
  },
  {
   "cell_type": "markdown",
   "metadata": {
    "slideshow": {
     "slide_type": "fragment"
    }
   },
   "source": [
    "maxsize – Number of items allowed in the queue."
   ]
  },
  {
   "cell_type": "markdown",
   "metadata": {
    "slideshow": {
     "slide_type": "fragment"
    }
   },
   "source": [
    "empty() – Return True if the queue is empty, False otherwise."
   ]
  },
  {
   "cell_type": "markdown",
   "metadata": {
    "slideshow": {
     "slide_type": "fragment"
    }
   },
   "source": [
    "full() – Return True if there are maxsize items in the queue. If the queue was initialized with maxsize=0 (the default), then full() never returns True."
   ]
  },
  {
   "cell_type": "markdown",
   "metadata": {
    "slideshow": {
     "slide_type": "fragment"
    }
   },
   "source": [
    "get() – Remove and return an item from the queue. If queue is empty, wait until an item is available."
   ]
  },
  {
   "cell_type": "markdown",
   "metadata": {
    "slideshow": {
     "slide_type": "fragment"
    }
   },
   "source": [
    "get_nowait() – Return an item if one is immediately available, else raise QueueEmpty."
   ]
  },
  {
   "cell_type": "markdown",
   "metadata": {
    "slideshow": {
     "slide_type": "fragment"
    }
   },
   "source": [
    "put(item) – Put an item into the queue. If the queue is full, wait until a free slot is available before adding the item."
   ]
  },
  {
   "cell_type": "markdown",
   "metadata": {
    "slideshow": {
     "slide_type": "fragment"
    }
   },
   "source": [
    "put_nowait(item) – Put an item into the queue without blocking."
   ]
  },
  {
   "cell_type": "markdown",
   "metadata": {
    "slideshow": {
     "slide_type": "fragment"
    }
   },
   "source": [
    "qsize() – Return the number of items in the queue. If no free slot is immediately available, raise QueueFull."
   ]
  },
  {
   "cell_type": "markdown",
   "metadata": {
    "slideshow": {
     "slide_type": "slide"
    }
   },
   "source": [
    "#### All Methods of Deque"
   ]
  },
  {
   "cell_type": "code",
   "execution_count": 5,
   "metadata": {
    "slideshow": {
     "slide_type": "fragment"
    }
   },
   "outputs": [
    {
     "name": "stdout",
     "output_type": "stream",
     "text": [
      "['__class__', '__delattr__', '__dict__', '__dir__', '__doc__', '__eq__', '__format__', '__ge__', '__getattribute__', '__gt__', '__hash__', '__init__', '__init_subclass__', '__le__', '__lt__', '__module__', '__ne__', '__new__', '__reduce__', '__reduce_ex__', '__repr__', '__setattr__', '__sizeof__', '__str__', '__subclasshook__', '__weakref__', '_get', '_init', '_put', '_qsize', 'empty', 'full', 'get', 'get_nowait', 'join', 'put', 'put_nowait', 'qsize', 'task_done']\n"
     ]
    }
   ],
   "source": [
    "from queue import LifoQueue\n",
    "print(dir(LifoQueue))"
   ]
  },
  {
   "cell_type": "markdown",
   "metadata": {
    "slideshow": {
     "slide_type": "slide"
    }
   },
   "source": [
    "### Implementation using singly linked list"
   ]
  },
  {
   "cell_type": "markdown",
   "metadata": {
    "slideshow": {
     "slide_type": "fragment"
    }
   },
   "source": [
    "- The linked list has two methods addHead(item) and removeHead() that run in constant time. These two methods are suitable to implement a stack. "
   ]
  },
  {
   "cell_type": "markdown",
   "metadata": {
    "slideshow": {
     "slide_type": "fragment"
    }
   },
   "source": [
    "getSize()– Get the number of items in the stack."
   ]
  },
  {
   "cell_type": "markdown",
   "metadata": {
    "slideshow": {
     "slide_type": "fragment"
    }
   },
   "source": [
    "isEmpty() – Return True if the stack is empty, False otherwise."
   ]
  },
  {
   "cell_type": "markdown",
   "metadata": {
    "slideshow": {
     "slide_type": "slide"
    }
   },
   "source": [
    "peek() – Return the top item in the stack. If the stack is empty, raise an exception."
   ]
  },
  {
   "cell_type": "markdown",
   "metadata": {
    "slideshow": {
     "slide_type": "fragment"
    }
   },
   "source": [
    "push(value) – Push a value into the head of the stack."
   ]
  },
  {
   "cell_type": "markdown",
   "metadata": {
    "slideshow": {
     "slide_type": "subslide"
    }
   },
   "source": [
    "pop() – Remove and return a value in the head of the stack. If the stack is empty, raise an exception."
   ]
  },
  {
   "cell_type": "markdown",
   "metadata": {},
   "source": [
    "#### Example:\n",
    "- This is the Example which is demonstrate stack implementation using a linked list. In this example we learn how to create the node class, Stack class where in the Stack class have multiple instance methods like getSize, isEmpty, peek, push, pop. These method is responsible so that this class work like a stack. In this Driver code is print that how the element is inserted by using the for loop and also remove using pop instance method. In the End Print the remaining element in the stack."
   ]
  },
  {
   "cell_type": "code",
   "execution_count": 4,
   "metadata": {
    "slideshow": {
     "slide_type": "slide"
    }
   },
   "outputs": [
    {
     "name": "stdout",
     "output_type": "stream",
     "text": [
      "Stack: 10->9->8->7->6->5->4->3->2->\n",
      "Pop: 10\n",
      "Pop: 9\n",
      "Pop: 8\n",
      "Pop: 7\n",
      "Pop: 6\n",
      "Stack: 5->4->3->2->\n"
     ]
    }
   ],
   "source": [
    "# Python program to demonstrate stack implementation using a linked list. \n",
    "## node class\n",
    "class Node:\n",
    "    def __init__(self, value):\n",
    "        self.value = value\n",
    "        self.next = None\n",
    "\n",
    "class Stack:\n",
    "    # Initializing a stack. Use a dummy node, which is easier for handling edge cases. \n",
    "    def __init__(self):\n",
    "        self.head = Node(\"head\")\n",
    "        self.size = 0\n",
    "\n",
    "    # String representation of the stack\n",
    "    def __str__(self):\n",
    "        cur = self.head.next\n",
    "        out = \"\"\n",
    "        while cur:\n",
    "            out += str(cur.value) + \"->\"\n",
    "            cur = cur.next\n",
    "        return out[:-3] \n",
    "\n",
    "    # Get the current size of the stack\n",
    "    def getSize(self):\n",
    "        return self.size\n",
    "\n",
    "    # Check if the stack is empty\n",
    "    def isEmpty(self):\n",
    "        return self.size == 0\n",
    "\n",
    "    # Get the top item of the stack\n",
    "    def peek(self):\n",
    "        # Sanitary check to see if we \n",
    "        # are peeking an empty stack. \n",
    "        if self.isEmpty():\n",
    "            raise Exception(\"Peeking from an empty stack\")\n",
    "        return self.head.next.value\n",
    "\n",
    "    # Push a value into the stack. \n",
    "    def push(self, value):\n",
    "        node = Node(value)\n",
    "        node.next = self.head.next\n",
    "        self.head.next = node\n",
    "        self.size += 1\n",
    "\n",
    "    # Remove a value from the stack and return. \n",
    "    def pop(self):\n",
    "        if self.isEmpty():\n",
    "            raise Exception(\"Popping from an empty stack\")\n",
    "        remove = self.head.next\n",
    "        self.head.next = self.head.next.next\n",
    "        self.size -= 1\n",
    "        return remove.value\n",
    "\n",
    "# Driver Code\n",
    "stack = Stack()\n",
    "for i in range(1, 11):\n",
    "    stack.push(i)\n",
    "print(f\"Stack: {stack}\")\n",
    "\n",
    "for _ in range(1, 6):\n",
    "    remove = stack.pop()\n",
    "    print(f\"Pop: {remove}\")\n",
    "print(f\"Stack: {stack}\")\n"
   ]
  },
  {
   "cell_type": "code",
   "execution_count": null,
   "metadata": {
    "slideshow": {
     "slide_type": "slide"
    }
   },
   "outputs": [],
   "source": [
    "## Do it YourSelf\n",
    "# Ques:\n",
    "    A bracket is considered to be any one of the following characters: (, ), {, }, [, or ].\n",
    "    Two brackets are considered to be a matched pair if the an opening bracket (i.e., (, [, or {) occurs to the left of a \n",
    "    closing bracket (i.e., ), ], or }) of the exact same type. There are three types of matched pairs of brackets: [], {}, \n",
    "    and ().\n",
    "\n",
    "    A matching pair of brackets is not balanced if the set of brackets it encloses are not matched. \n",
    "    For example,\n",
    "        {[(])} is not balanced because the contents in between { and } are not balanced. The pair of square brackets \n",
    "        encloses a single, unbalanced opening bracket, (, and the pair of parentheses encloses a single, unbalanced closing\n",
    "        square bracket, ].\n",
    "\n",
    "    By this logic, we say a sequence of brackets is balanced if the following conditions are met:\n",
    "\n",
    "    It contains no unmatched brackets.\n",
    "    The subset of brackets enclosed within the confines of a matched pair of brackets is also a matched pair of brackets.\n",
    "    Given N strings of brackets, determine whether each sequence of brackets is balanced. If a string is balanced, return\n",
    "    YES. Otherwise, return NO.\n",
    "\n",
    "# Function Description\n",
    "    Create the function/stack isBalanced in the editor below. It must return a string: YES if the sequence is balanced or\n",
    "    NO if it is not.\n",
    "\n",
    "    isBalanced has the following parameter(s):\n",
    "        s: a string of brackets\n",
    "\n",
    "# Input Format:\n",
    "    The first line contains a single integer N, the number of strings.\n",
    "    Each of the next N lines contains a single string S, a sequence of brackets.\n",
    "\n",
    "# Output Format:\n",
    "    For each string, return YES or NO.\n",
    "\n",
    "# Sample Input:\n",
    "    3\n",
    "    {[()]}\n",
    "    {[(])}\n",
    "    {{[[(())]]}}\n",
    "  \n",
    "# Sample Output:\n",
    "    YES\n",
    "    NO\n",
    "    YES\n",
    "    Explanation\n",
    "\n",
    "    The string {[()]} meets both criteria for being a balanced string, so we print YES on a new line.\n",
    "    The string {[(])} is not balanced because the brackets enclosed by the matched pair { and } are not balanced: [(]).\n",
    "    The string {{[[(())]]}} meets both criteria for being a balanced string, so we print YES on a new line."
   ]
  },
  {
   "cell_type": "code",
   "execution_count": null,
   "metadata": {
    "slideshow": {
     "slide_type": "slide"
    }
   },
   "outputs": [],
   "source": [
    "# Ques: \n",
    "    You have an empty sequence, and you will be given N queries. Each query is one of these three types:\n",
    "\n",
    "    1 x - Push the element x into the stack.\n",
    "    2 - Delete the element present at the top of the stack.\n",
    "    3 - Print the maximum element in the stack.\n",
    "    \n",
    "    Perform these quesries and print the resulted stack\n",
    "    \n",
    "# Input Format:\n",
    "    The first line of input contains an integer, N. The next N lines each contain an above mentioned query. (It is guaranteed that each query is valid.)\n",
    "\n",
    "# Output Format:\n",
    "    For each type 3 query, print the maximum element in the stack on a new line.\n",
    "\n",
    "# Sample Input:\n",
    "    10\n",
    "    1 97\n",
    "    2\n",
    "    1 20\n",
    "    2\n",
    "    1 26\n",
    "    1 20\n",
    "    2\n",
    "    3\n",
    "    1 91\n",
    "    3\n",
    "    \n",
    "# Sample Output:\n",
    "    26\n",
    "    91"
   ]
  },
  {
   "cell_type": "code",
   "execution_count": null,
   "metadata": {
    "slideshow": {
     "slide_type": "slide"
    }
   },
   "outputs": [],
   "source": [
    "## Ques:\n",
    "    Alexa has two stacks of non-negative integers, stack A=[a_0, a_1,... a_(n-1)] and stack B=[b_0, b_1,... b_(m-1)] where\n",
    "    index 0 denotes the top of the stack. Alexa challenges Nick to play the following game:\n",
    "    - In each move, Nick can remove one integer from the top of either stack A or stack B.\n",
    "    - Nick keeps a running sum of the integers he removes from the two stacks.\n",
    "    - Nick is disqualified from the game if, at any point, his running sum becomes greater than some integer X given\n",
    "        at the beginning of the game.\n",
    "    - Nick's final score is the total number of integers he has removed from the two stacks.\n",
    "\n",
    "    Given A, B, and X for G games, find the maximum possible score Nick can achieve (i.e., the maximum number of integers \n",
    "    he can remove without being disqualified) during each game and print it on a new line.\n",
    "\n",
    "# Input Format:\n",
    "    - The first line contains an integer, G(the number of games). The 3.G subsequent lines describe each game in the \n",
    "    following format:\n",
    "        - The first line contains three space-separated integers describing the respective values of N (the number of integers \n",
    "        in stack A), M(the number of integers in stack B), and X(the number that the sum of the integers removed from the two \n",
    "        stacks cannot exceed).\n",
    "        - The second line contains N space-separated integers describing the respective values of a_0, a_1,... a_(n-1).\n",
    "        - The third line contains M space-separated integers describing the respective values of b_0, b_1,... b_(m-1).\n",
    "\n",
    "# Subtasks:\n",
    "    1<=N, M<=100 for 50% of the maximum score.\n",
    "\n",
    "# Output Format\n",
    "    For each of the G games, print an integer on a new line denoting the maximum possible score Nick can achieve without \n",
    "    being disqualified.\n",
    "\n",
    "# Sample Input:\n",
    "    1\n",
    "    5 4 10\n",
    "    4 2 4 6 1\n",
    "    2 1 8 5\n",
    "    \n",
    "Sample Output:\n",
    "    4\n",
    "    \n",
    "Explanation:\n",
    "    The two stacks initially look like this:\n",
    "    The image below depicts the integers Nick should choose to remove from the stacks. We print 4 as our answer, because\n",
    "    that is the maximum number of integers that can be removed from the two stacks without the sum exceeding X=10.\n",
    "    (There can be multiple ways to remove the integers from the stack, the image shows just one of them.)\n",
    "    # See The picture"
   ]
  },
  {
   "cell_type": "markdown",
   "metadata": {
    "slideshow": {
     "slide_type": "slide"
    }
   },
   "source": [
    "<img src='https://drive.google.com/uc?id=1PE-iVJXuP0fCMWjpONhRsbfgPtnAtVoR'> \n",
    "<img src='https://drive.google.com/uc?id=1g_ypP0byT-kU29Lx_yUb2EO2J_Fqwly-'> "
   ]
  },
  {
   "cell_type": "code",
   "execution_count": null,
   "metadata": {
    "slideshow": {
     "slide_type": "slide"
    }
   },
   "outputs": [],
   "source": [
    "# Ques:\n",
    "    You are given a stack of N integers such that the first element represents the top of the stack and the last element \n",
    "    represents the bottom of the stack. You need to pop at least one element from the stack. At any one moment, you can \n",
    "    convert stack into a queue. The bottom of the stack represents the front of the queue. You cannot convert the queue \n",
    "    back into a stack. Your task is to remove exactly K elements such that the sum of the K removed elements is maximised.\n",
    "\n",
    "# Input format:     \n",
    "    The first line consists of two space-separated integers N and K.\n",
    "    The second line consists of N space-separated integers denoting the elements of the stack.\n",
    "\n",
    "# Output format:\n",
    "    Print the maximum possible sum of the K removed elements\n",
    "\n",
    "# SAMPLE INPUT:\n",
    "    10 5\n",
    "    10 9 1 2 3 4 5 6 7 8\n",
    "\n",
    "# SAMPLE OUTPUT: \n",
    "    40\n",
    "\n",
    "# Explanation:\n",
    "    Pop two elements from the stack. i.e {10,9}\n",
    "    Then convert the stack into queue and remove first three elements from the queue. i.e {8,7,6}.\n",
    "    The maximum possible sum is 10+9+8+7+6 = 40"
   ]
  }
 ],
 "metadata": {
  "celltoolbar": "Slideshow",
  "kernelspec": {
   "display_name": "Python 3",
   "language": "python",
   "name": "python3"
  },
  "language_info": {
   "codemirror_mode": {
    "name": "ipython",
    "version": 3
   },
   "file_extension": ".py",
   "mimetype": "text/x-python",
   "name": "python",
   "nbconvert_exporter": "python",
   "pygments_lexer": "ipython3",
   "version": "3.7.3"
  }
 },
 "nbformat": 4,
 "nbformat_minor": 2
}
