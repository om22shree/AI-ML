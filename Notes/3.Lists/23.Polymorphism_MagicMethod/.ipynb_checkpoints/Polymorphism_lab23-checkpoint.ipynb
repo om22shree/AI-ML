{
 "cells": [
  {
   "cell_type": "markdown",
   "metadata": {
    "slideshow": {
     "slide_type": "slide"
    }
   },
   "source": [
    "# Polymorphism"
   ]
  },
  {
   "cell_type": "markdown",
   "metadata": {
    "slideshow": {
     "slide_type": "slide"
    }
   },
   "source": [
    "## What is Polymorphism?"
   ]
  },
  {
   "cell_type": "markdown",
   "metadata": {
    "slideshow": {
     "slide_type": "fragment"
    }
   },
   "source": [
    "- Polymorphism contains two words \"poly\" and \"morphs\". Poly means many, and morph means shape.  "
   ]
  },
  {
   "cell_type": "markdown",
   "metadata": {
    "slideshow": {
     "slide_type": "fragment"
    }
   },
   "source": [
    "- By polymorphism, we understand that one task can be performed in different ways. "
   ]
  },
  {
   "cell_type": "markdown",
   "metadata": {
    "slideshow": {
     "slide_type": "fragment"
    }
   },
   "source": [
    "- It means that the same function name can be used for different types."
   ]
  },
  {
   "cell_type": "markdown",
   "metadata": {
    "slideshow": {
     "slide_type": "fragment"
    }
   },
   "source": [
    "- For example:- you have a class animal, and all animals speak. But they speak differently. Here, the \"speak\" behavior is polymorphic in a sense and depends on the animal. So, the abstract \"animal\" concept does not actually \"speak\", but specific animals (like dogs and cats) have a concrete implementation of the action \"speak\". "
   ]
  },
  {
   "cell_type": "markdown",
   "metadata": {
    "slideshow": {
     "slide_type": "slide"
    }
   },
   "source": [
    "<img src='https://drive.google.com/uc?id=1bVl7uZMRVQ7u_fF_B-gBGf-NjdHNv_2o' height=500 width=500> "
   ]
  },
  {
   "cell_type": "markdown",
   "metadata": {
    "slideshow": {
     "slide_type": "slide"
    }
   },
   "source": [
    "<img src='https://drive.google.com/uc?id=1Y8UR5pcT3HbgRL2umFavCqQ7K57SGXVc' height=500 width=500> "
   ]
  },
  {
   "cell_type": "markdown",
   "metadata": {
    "slideshow": {
     "slide_type": "slide"
    }
   },
   "source": [
    "## Types of Polymorphism"
   ]
  },
  {
   "cell_type": "markdown",
   "metadata": {
    "slideshow": {
     "slide_type": "fragment"
    }
   },
   "source": [
    "#### 1. Overloading:\n",
    "\t- Operator Overloading  --> Supported Python\n",
    "\t- Method Overloading\t  --> Not Supported Python (No need in Pyhon, multiple ways to do this thing in Python)\n",
    "\t- Constructor Overloading --> Not Supported Python (C++, java supported)"
   ]
  },
  {
   "cell_type": "markdown",
   "metadata": {
    "slideshow": {
     "slide_type": "fragment"
    }
   },
   "source": [
    "#### 2. Overriding: \n",
    "\t- Method overriding --> Supported Python\n",
    "\t- constructor overriding --> Supported Python"
   ]
  },
  {
   "cell_type": "markdown",
   "metadata": {
    "slideshow": {
     "slide_type": "slide"
    }
   },
   "source": [
    "### 1. Overloading :"
   ]
  },
  {
   "cell_type": "markdown",
   "metadata": {
    "slideshow": {
     "slide_type": "fragment"
    }
   },
   "source": [
    "- Method overloading is a type of polymorphism in which we can define a number of methods with the same name but with a different number of parameters as well as parameters can be of different types. This is known as Overloading."
   ]
  },
  {
   "cell_type": "markdown",
   "metadata": {
    "slideshow": {
     "slide_type": "fragment"
    }
   },
   "source": [
    "- Python support only Operator Overloading. E.g: String addition(+), String multiplication(x) etc."
   ]
  },
  {
   "cell_type": "markdown",
   "metadata": {
    "slideshow": {
     "slide_type": "fragment"
    }
   },
   "source": [
    "- In Python method overloading and Constructor overloading not supported. When we try to method overloading then it only take last method as working."
   ]
  },
  {
   "cell_type": "markdown",
   "metadata": {
    "slideshow": {
     "slide_type": "slide"
    }
   },
   "source": [
    "<img src='https://drive.google.com/uc?id=1P4RBHaKjzwzFhou-8Zjd37qY9hrIo1Wa' height=500 width=500> "
   ]
  },
  {
   "cell_type": "markdown",
   "metadata": {
    "slideshow": {
     "slide_type": "slide"
    }
   },
   "source": [
    "### Operator Overloading:"
   ]
  },
  {
   "cell_type": "markdown",
   "metadata": {
    "slideshow": {
     "slide_type": "fragment"
    }
   },
   "source": [
    "- \"This different behaviour of a single operator for different types of operands is called Operator Overloading.\" "
   ]
  },
  {
   "cell_type": "markdown",
   "metadata": {
    "slideshow": {
     "slide_type": "fragment"
    }
   },
   "source": [
    "- Operator overloading is a compile-time polymorphism in which the operator is overloaded to provide the special meaning to the user-defined data type."
   ]
  },
  {
   "cell_type": "markdown",
   "metadata": {
    "slideshow": {
     "slide_type": "fragment"
    }
   },
   "source": [
    "- \"Same built-in operator or function shows different behavior for objects of different classes, this is called Operator Overloading.\""
   ]
  },
  {
   "cell_type": "markdown",
   "metadata": {
    "slideshow": {
     "slide_type": "fragment"
    }
   },
   "source": [
    "- Each operator can be used in a different way for different types of operands. For example, operator + is used to add two integers as well as join two strings and merge two lists. It is achievable because ‘+’ operator is overloaded by int class and str class."
   ]
  },
  {
   "cell_type": "markdown",
   "metadata": {
    "slideshow": {
     "slide_type": "slide"
    }
   },
   "source": [
    "- The magic method are the responsible for operator overloading. \n",
    "- All magic methods :\n",
    "          https://www.python-course.eu/python3_magic_methods.php"
   ]
  },
  {
   "cell_type": "markdown",
   "metadata": {
    "slideshow": {
     "slide_type": "slide"
    }
   },
   "source": [
    "<img src='https://drive.google.com/uc?id=19fcywlpbslhR2HPtbRmTDJfKWBh_6mwF'> "
   ]
  },
  {
   "cell_type": "markdown",
   "metadata": {
    "slideshow": {
     "slide_type": "slide"
    }
   },
   "source": [
    "<img src='https://drive.google.com/uc?id=1ewzd7-6Jrb-eoA0h0DWZ8nOFqlMDfbkf'> "
   ]
  },
  {
   "cell_type": "markdown",
   "metadata": {
    "slideshow": {
     "slide_type": "slide"
    }
   },
   "source": [
    "<img src='https://drive.google.com/uc?id=1bFGnwCH3TXPOhOlmViz0jWtbtjg8agj8'> "
   ]
  },
  {
   "cell_type": "markdown",
   "metadata": {
    "slideshow": {
     "slide_type": "slide"
    }
   },
   "source": [
    "<img src='https://drive.google.com/uc?id=1dmy2t1_nL7F98rrEzK0S8sEzlU32_FbP'> "
   ]
  },
  {
   "cell_type": "markdown",
   "metadata": {
    "slideshow": {
     "slide_type": "slide"
    }
   },
   "source": [
    "### Example: \n",
    "- In this python example, give the idea about how the Operator overloading work.This is a example of Order fruits where the person order his fruit and we add into the cart when the order in change then how the original cart is changing this is show with the example of operator overloading. "
   ]
  },
  {
   "cell_type": "code",
   "execution_count": 6,
   "metadata": {
    "slideshow": {
     "slide_type": "fragment"
    }
   },
   "outputs": [
    {
     "name": "stdout",
     "output_type": "stream",
     "text": [
      "First order change:  ['banana', 'apple', 'orange']\n",
      "Original Order:  ['banana', 'apple']\n",
      "Changing the original Order:  ['banana', 'apple', 'mango']\n"
     ]
    }
   ],
   "source": [
    "class Order:\n",
    "    def __init__(self, cart, customer):\n",
    "        self.cart = list(cart)\n",
    "        self.customer = customer\n",
    "\n",
    "    def __add__(self, other):\n",
    "        new_cart = self.cart.copy()\n",
    "        new_cart.append(other)\n",
    "        return Order(new_cart, self.customer)\n",
    "\n",
    "order = Order(['banana', 'apple'], 'Real Python')\n",
    "\n",
    "print(\"First order change: \",(order + 'orange').cart)  # New Order instance\n",
    "# ['banana', 'apple', 'orange']\n",
    "print(\"Original Order: \",order.cart)  # Original instance unchanged\n",
    "# ['banana', 'apple']\n",
    "\n",
    "order = order + 'mango'  # Changing the original instance\n",
    "print(\"Changing the original Order: \",order.cart)\n",
    "# ['banana', 'apple', 'mango']"
   ]
  },
  {
   "cell_type": "markdown",
   "metadata": {
    "slideshow": {
     "slide_type": "slide"
    }
   },
   "source": [
    "### 2. Overriding :"
   ]
  },
  {
   "cell_type": "markdown",
   "metadata": {
    "slideshow": {
     "slide_type": "fragment"
    }
   },
   "source": [
    "- In Python method overriding occurs by simply defining in the child class a method with the same name of a method in the parent class."
   ]
  },
  {
   "cell_type": "markdown",
   "metadata": {
    "slideshow": {
     "slide_type": "fragment"
    }
   },
   "source": [
    "- Method overriding is an ability of any object-oriented programming language that allows a subclass or child class to provide a specific implementation of a method that is already provided by one of its super-classes or parent classes."
   ]
  },
  {
   "cell_type": "markdown",
   "metadata": {
    "slideshow": {
     "slide_type": "fragment"
    }
   },
   "source": [
    "- When a method in a subclass has the same name, same parameters or signature and same return type(or sub-type) as a method in its super-class, then the method in the subclass is said to override the method in the super-class."
   ]
  },
  {
   "cell_type": "markdown",
   "metadata": {
    "slideshow": {
     "slide_type": "slide"
    }
   },
   "source": [
    "<img src='https://drive.google.com/uc?id=1EY5bH6anWXeFMvdjcG56ycTgZV-jsdSa' height=500 width=500> "
   ]
  },
  {
   "cell_type": "markdown",
   "metadata": {
    "slideshow": {
     "slide_type": "slide"
    }
   },
   "source": [
    "### In Python Two Types of Overriding:"
   ]
  },
  {
   "cell_type": "markdown",
   "metadata": {
    "slideshow": {
     "slide_type": "fragment"
    }
   },
   "source": [
    "### 1. Method overriding:\n",
    "    - When same method is define in parent class and child class. "
   ]
  },
  {
   "cell_type": "markdown",
   "metadata": {
    "slideshow": {
     "slide_type": "fragment"
    }
   },
   "source": [
    "### 2. Constructor overriding:\n",
    "    - When the Constructor is define in parent class as well as child class."
   ]
  },
  {
   "cell_type": "markdown",
   "metadata": {
    "slideshow": {
     "slide_type": "slide"
    }
   },
   "source": [
    "#### Example:\n",
    "- In this pyhton example, we learn about how the Method Overriding and Constructor Overriding perform. In this example two class is given Parent and Child class in both class two common Constructor and Methods is given when the object is create of child class then which method is called that is known as method overriding, When constructor is called then its called Constructor Overriding. This example show us both the overriding concept."
   ]
  },
  {
   "cell_type": "code",
   "execution_count": 8,
   "metadata": {
    "slideshow": {
     "slide_type": "fragment"
    }
   },
   "outputs": [
    {
     "name": "stdout",
     "output_type": "stream",
     "text": [
      "Inside Parent Constructor\n",
      "Inside Child Constructor\n"
     ]
    }
   ],
   "source": [
    "# Python program to demonstrate method overriding/Constructor Overriding\n",
    "# Defining parent class \n",
    "class Parent(): \n",
    "    # Constructor \n",
    "    def __init__(self): \n",
    "        self.value = \"Inside Parent Constructor\"\n",
    "\n",
    "    # Parent's show method \n",
    "    def show(self): \n",
    "        print(self.value) \n",
    "\n",
    "# Defining child class \n",
    "class Child(Parent): \n",
    "    # Constructor \n",
    "    def __init__(self): \n",
    "        self.value = \"Inside Child Constructor\"\n",
    "\n",
    "    # Child's show method \n",
    "    def show(self): \n",
    "        print(self.value) \n",
    "\n",
    "\n",
    "# Driver's code \n",
    "obj1 = Parent() \n",
    "obj2 = Child() \n",
    "\n",
    "obj1.show() \n",
    "obj2.show() "
   ]
  },
  {
   "cell_type": "markdown",
   "metadata": {
    "slideshow": {
     "slide_type": "slide"
    }
   },
   "source": [
    "## Access Specifiers:"
   ]
  },
  {
   "cell_type": "markdown",
   "metadata": {
    "slideshow": {
     "slide_type": "fragment"
    }
   },
   "source": [
    "1. private --> Access within that class only"
   ]
  },
  {
   "cell_type": "markdown",
   "metadata": {
    "slideshow": {
     "slide_type": "fragment"
    }
   },
   "source": [
    "2. public --> Access outside the class and everywhere "
   ]
  },
  {
   "cell_type": "markdown",
   "metadata": {
    "slideshow": {
     "slide_type": "fragment"
    }
   },
   "source": [
    "3. protected --> Access those attributes inside the class and the class which has inherited"
   ]
  },
  {
   "cell_type": "markdown",
   "metadata": {
    "slideshow": {
     "slide_type": "slide"
    }
   },
   "source": [
    "#### Example\n",
    "- In this Python example, this program to illustrate access modifiers of a class. In this example two class are given Student and Sub Class. In the Student Class some importent variable is given like Name, RollNo, Age. So we want to protect the data for this we can use the access modifiers where we only give the necessary information to child class so they can use this infomation. The sensitive information protect by using access modifiers. Here suppose Age is Sensitive info. So the Inherite class cannot use this innformation."
   ]
  },
  {
   "cell_type": "code",
   "execution_count": 11,
   "metadata": {
    "slideshow": {
     "slide_type": "fragment"
    }
   },
   "outputs": [
    {
     "name": "stdout",
     "output_type": "stream",
     "text": [
      "Public Data Member:  Billy\n",
      "Protected Data Member:  1002\n",
      "Private Data Member:  23\n",
      "Object is accessing protected member: 1002\n"
     ]
    }
   ],
   "source": [
    "# program to illustrate access modifiers of a class \n",
    "# super class \n",
    "class Student: \n",
    "    # public data member \n",
    "    Name = None\n",
    "\n",
    "    # protected data member \n",
    "    _RollNo = None\n",
    "\n",
    "    # private data member \n",
    "    __Age = None\n",
    "\n",
    "    # constructor \n",
    "    def __init__(self, var1, var2, var3): \n",
    "        self.Name = var1 \n",
    "        self._RollNo = var2 \n",
    "        self.__Age = var3 \n",
    "\n",
    "    # public member function \n",
    "    def displayPublicMembers(self): \n",
    "        # accessing public data members \n",
    "        print(\"Public Data Member: \", self.Name) \n",
    "\n",
    "    # protected member function \n",
    "    def _displayProtectedMembers(self): \n",
    "        # accessing protected data members \n",
    "        print(\"Protected Data Member: \", self._RollNo) \n",
    "\n",
    "    # private member function \n",
    "    def __displayPrivateMembers(self): \n",
    "        # accessing private data members \n",
    "        print(\"Private Data Member: \", self.__Age) \n",
    "\n",
    "    # public member function \n",
    "    def accessPrivateMembers(self):\n",
    "        # accessing private memeber function \n",
    "        self.__displayPrivateMembers() \n",
    "\n",
    "# derived class \n",
    "class Sub(Student): \n",
    "    # constructor \n",
    "    def __init__(self, var1, var2, var3): \n",
    "        Student.__init__(self, var1, var2, var3) \n",
    "\n",
    "    # public member function \n",
    "    def accessProtectedMemebers(self):\n",
    "        # accessing protected member functions of super class \n",
    "        self._displayProtectedMembers() \n",
    "\n",
    "# creating objects of the derived class\t \n",
    "obj = Sub(\"Billy\", 1002, 23) \n",
    "\n",
    "# calling public member functions of the class \n",
    "obj.displayPublicMembers() \n",
    "obj.accessProtectedMemebers() \n",
    "obj.accessPrivateMembers() \n",
    "\n",
    "# Object can access protected member \n",
    "print(\"Object is accessing protected member:\", obj._RollNo) \n",
    "\n",
    "# object can not access private member, so it will generate Attribute error \n",
    "#print(obj.__Age) \n"
   ]
  },
  {
   "cell_type": "code",
   "execution_count": null,
   "metadata": {
    "slideshow": {
     "slide_type": "slide"
    }
   },
   "outputs": [],
   "source": [
    "## Do it Yourself\n",
    "# Ques:\n",
    "    This question related to the list property in which addition Overloading. We know that when one list is add from othe\n",
    "    list then the element should appended and When the multiply by the number then element are repeated in the list in \n",
    "    append format. But Bittu is a person who don't want to append two list's. Bittu wants when you add the two list then\n",
    "    this two list perform the addition each other. Second Bittu want when the multiply a list with given number then it\n",
    "    should not repeat again and again. You Task to create a class which help to solve the Bittu problem. \n",
    "    \n",
    "    Condition which is in this class:\n",
    "        1. When the list1 != list2 then those element add which have same index rest are same.\n",
    "            E.g. List1 = [1, 2, 3, 4, 5], List2 = [1, 2, 3, 4, 5, 6]\n",
    "                finalList = [2, 4, 6, 8, 10, 6] \n",
    "                \n",
    "        2. When the list multiply by the number the each number of the list multiply by that number.\n",
    "            E.g. list = [1, 2, 3, 4, 5],  Number = 5\n",
    "                finalList = [5, 10, 15, 20, 25]\n",
    "                \n",
    "        3. First List1 is empty the print secont list2 same for vice-versa.\n",
    "    \n",
    "# Input Format:\n",
    "    - First Enter the length of list1,list2\n",
    "    - The Input of both list items by the User.\n",
    "    - Enter the positive number by the user.\n",
    "    \n",
    "# Output Format:\n",
    "    - Print The Final List in the above given Example.\n",
    "       E.g: Final_List by Addition : [2, 4, 6, 8, 10, 6]\n",
    "            Final_List by Multiply : [5, 10, 15, 20, 25]"
   ]
  },
  {
   "cell_type": "code",
   "execution_count": null,
   "metadata": {
    "slideshow": {
     "slide_type": "slide"
    }
   },
   "outputs": [],
   "source": [
    "# Ques:\n",
    "    This Question is related to the String Overloading. We all know that when we add two string then addition of that \n",
    "    string is just a combine/joint string. But Chintu is a person who don't want the joint string of two string's. Chintu \n",
    "    want that when we add two string then each latter add from each other by the ASCII value. You Task to create a class \n",
    "    which help to solve the Chintu problem. Your task to create a class in which instance variables and instance method.\n",
    "    During the object creation the string must be pass by the help of constructor the value should be assign to instance \n",
    "    variable then calculate the Final String.\n",
    "    \n",
    "    Condition which is in this class:\n",
    "        1. When the string1 length != string2 length then those element add which have same index rest are same.\n",
    "            E.g. String1 = \"grras\" , String2 = \"students\"\n",
    "                final_String = 'zlmexnts'\n",
    "                'g' + 's' = 'z'  ## In ASCII\n",
    "                'r' + 't' = 'l'\n",
    "                'r' + 'u' = 'm'\n",
    "                'a' + 'd' = 'e'\n",
    "                's' + 'e' = 'x'\n",
    "                remaining 'nts' same prints.\n",
    "                \n",
    "                \n",
    "        2. if the addition of ASCII value is grater then 26 then find modulas(%) of that value then print the latter. \n",
    "        3. All Strings are small letter.\n",
    "        \n",
    "# Input Format:\n",
    "    - The Input of both String pass by the user when the user create objects/ object referance variables.\n",
    "    \n",
    "# Output Format:\n",
    "    - Print The Final List in the above given Example.\n",
    "       E.g: final_String = 'zlmexnts'"
   ]
  },
  {
   "cell_type": "markdown",
   "metadata": {
    "slideshow": {
     "slide_type": "slide"
    }
   },
   "source": [
    "<!-- https://drive.google.com/file/d/1HAYgr4EC3PmnrYW88F2sOoAslz18Ben9/view?usp=sharing -->\n",
    "<img src='https://drive.google.com/uc?id=1HAYgr4EC3PmnrYW88F2sOoAslz18Ben9' height=500 width=500> "
   ]
  },
  {
   "cell_type": "code",
   "execution_count": null,
   "metadata": {
    "slideshow": {
     "slide_type": "slide"
    }
   },
   "outputs": [],
   "source": [
    "# Ques:\n",
    "    - This Qestion is related to the Overriding Concept. In this question you have given a diagram. According to diagram \n",
    "    you need to create a Texi Class where given some variable which are instance variable these variable are private. \n",
    "    So for the access them create some instance methods which will help you to set and get these value. You need to create\n",
    "    one more class with name Vehicle accoding to diagram and all properties are apply which is shown is diagram. Also \n",
    "    create two referance valriable/ Objects like v1 and v2 When you call them then it should print all the infomation which\n",
    "    is in the diagram is given. \n",
    "    # For Example:   ## When we call then\n",
    "        v1 = Vehicle(\"i20 Active\", \"4\", \"SX\", \"Bronze\")\n",
    "        print(v1.vehicleInfo())\n",
    "        print(v1.getModel()) # Vehicle has no method getModel() but it is accessible via Vehicle class\n",
    "\n",
    "        v2 = Vehicle(\"Fortuner\", \"7\", \"MT2755\", \"White\")\n",
    "        print(v2.vehicleInfo())\n",
    "        print(v2.getModel()) # Vehicle has no method getModel() but it is accessible via Vehicle class\n",
    "        \n",
    "    # Output Should:\n",
    "        i20 Active SX in Bronze with 4 seats\n",
    "        i20 Active\n",
    "        Fortuner MT2755 in White with 7 seats\n",
    "        Fortuner\n",
    "        \n",
    "# Input Format:\n",
    "    - When the Object is create the it should pass all the value this shown in the example.\n",
    "    \n",
    "# Output Formate:\n",
    "    - The standard output is shown in the given Example."
   ]
  },
  {
   "cell_type": "code",
   "execution_count": null,
   "metadata": {},
   "outputs": [],
   "source": [
    "# Ques:  ## Operator Overloading\n",
    "    In this challenge, you are given two complex numbers, and you have to print the result of their addition, subtraction,\n",
    "    multiplication, division and modulus operations.\n",
    "\n",
    "    The real and imaginary precision part should be correct up to two decimal places.\n",
    "\n",
    "# Input Format\n",
    "    - One line of input: The real and imaginary part of a number separated by a space.\n",
    "\n",
    "# Output Format\n",
    "    - For two complex numbers C and D, the output should be in the following sequence on separate lines:\n",
    "        - C + D\n",
    "        - C - D\n",
    "        - C * D\n",
    "        - C / D\n",
    "        - mod(C)\n",
    "        - mod(D)\n",
    "\n",
    "    For complex numbers with non-zero real (A) and complex part(B), the output should be in the following format: A + Bi\n",
    "    Replace the plus symbol (+) with a minus symbol (-) when B<0.\n",
    "\n",
    "    For complex numbers with a zero complex part i.e. real numbers, the output should be: A + 0.00i\n",
    "    For complex numbers where the real part is zero and the complex part(B) is non-zero, the output should be: 0.00 + Bi\n",
    "\n",
    "# Sample Input:\n",
    "    2 1\n",
    "    5 6\n",
    "    \n",
    "# Sample Output:\n",
    "    - C + D : 7.00+7.00i\n",
    "    - C - D : -3.00-5.00i\n",
    "    - C * D : 4.00+17.00i\n",
    "    - C / D : 0.26-0.11i\n",
    "    - mod(C) : 2.24+0.00i\n",
    "    - mod(D) : 7.81+0.00i"
   ]
  },
  {
   "cell_type": "code",
   "execution_count": null,
   "metadata": {
    "slideshow": {
     "slide_type": "slide"
    }
   },
   "outputs": [],
   "source": [
    "# Try to solve without run this MCQ code.\n",
    "\n",
    "# Ques:\n",
    "    What will be the output of the following Python code?\n",
    "\n",
    "class A:\n",
    "    def __str__(self):\n",
    "        return '1'\n",
    "class B(A):\n",
    "    def __init__(self):\n",
    "        super().__init__()\n",
    "class C(B):\n",
    "    def __init__(self):\n",
    "        super().__init__()\n",
    "def main():\n",
    "    obj1 = B()\n",
    "    obj2 = A()\n",
    "    obj3 = C()\n",
    "    print(obj1, obj2,obj3)\n",
    "main()\n",
    "\n",
    "# Options\n",
    "    a) 1 1 1\n",
    "    b) 1 2 3\n",
    "    c) ‘1’ ‘1’ ‘1’\n",
    "    d) An exception is thrown\n",
    "    \n",
    "    \n",
    "    \n",
    "Ques:\n",
    "    What will be the output of the following Python code?\n",
    "\n",
    "class Demo:\n",
    "    def __init__(self):\n",
    "        self.x = 1\n",
    "    def change(self):\n",
    "        self.x = 10\n",
    "class Demo_derived(Demo):\n",
    "    def change(self):\n",
    "        self.x=self.x+1\n",
    "        return self.x\n",
    "def main():\n",
    "    obj = Demo_derived()\n",
    "    print(obj.change())\n",
    "\n",
    "main()\n",
    "\n",
    "# Options:\n",
    "    a) 11\n",
    "    b) 2\n",
    "    c) 1\n",
    "    d) An exception is thrown"
   ]
  }
 ],
 "metadata": {
  "celltoolbar": "Slideshow",
  "kernelspec": {
   "display_name": "Python 3",
   "language": "python",
   "name": "python3"
  },
  "language_info": {
   "codemirror_mode": {
    "name": "ipython",
    "version": 3
   },
   "file_extension": ".py",
   "mimetype": "text/x-python",
   "name": "python",
   "nbconvert_exporter": "python",
   "pygments_lexer": "ipython3",
   "version": "3.7.3"
  }
 },
 "nbformat": 4,
 "nbformat_minor": 2
}
