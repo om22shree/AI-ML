{
 "cells": [
  {
   "cell_type": "markdown",
   "metadata": {
    "slideshow": {
     "slide_type": "slide"
    }
   },
   "source": [
    "# Python OOPs Concepts"
   ]
  },
  {
   "cell_type": "markdown",
   "metadata": {
    "slideshow": {
     "slide_type": "slide"
    }
   },
   "source": [
    "<img src='https://drive.google.com/uc?id=16s8lUON40oNSAztP3OVcrOySGZhe_k5D'> "
   ]
  },
  {
   "cell_type": "markdown",
   "metadata": {
    "slideshow": {
     "slide_type": "slide"
    }
   },
   "source": [
    "### Object Oriented Programming"
   ]
  },
  {
   "cell_type": "markdown",
   "metadata": {
    "slideshow": {
     "slide_type": "fragment"
    }
   },
   "source": [
    "- Python is a multi-paradigm programming language. It supports different programming approaches."
   ]
  },
  {
   "cell_type": "markdown",
   "metadata": {
    "slideshow": {
     "slide_type": "fragment"
    }
   },
   "source": [
    "- One of the popular approaches to solve a programming problem is by creating objects. This is known as Object-Oriented Programming (OOP)."
   ]
  },
  {
   "cell_type": "markdown",
   "metadata": {
    "slideshow": {
     "slide_type": "slide"
    }
   },
   "source": [
    "#### An object has two characteristics:"
   ]
  },
  {
   "cell_type": "markdown",
   "metadata": {
    "slideshow": {
     "slide_type": "fragment"
    }
   },
   "source": [
    "1. attributes"
   ]
  },
  {
   "cell_type": "markdown",
   "metadata": {
    "slideshow": {
     "slide_type": "fragment"
    }
   },
   "source": [
    "2. behavior"
   ]
  },
  {
   "cell_type": "markdown",
   "metadata": {
    "slideshow": {
     "slide_type": "slide"
    }
   },
   "source": [
    "#### Let's take an example:"
   ]
  },
  {
   "cell_type": "markdown",
   "metadata": {
    "slideshow": {
     "slide_type": "fragment"
    }
   },
   "source": [
    "- A parrot is can be an object,as it has the following properties:"
   ]
  },
  {
   "cell_type": "markdown",
   "metadata": {
    "slideshow": {
     "slide_type": "fragment"
    }
   },
   "source": [
    "1. name, age, color as attributes"
   ]
  },
  {
   "cell_type": "markdown",
   "metadata": {
    "slideshow": {
     "slide_type": "fragment"
    }
   },
   "source": [
    "2. singing, dancing as behavior"
   ]
  },
  {
   "cell_type": "markdown",
   "metadata": {
    "slideshow": {
     "slide_type": "slide"
    }
   },
   "source": [
    "- The concept of OOP in Python focuses on creating reusable code. This concept is also known as DRY (Don't Repeat Yourself)."
   ]
  },
  {
   "cell_type": "markdown",
   "metadata": {
    "slideshow": {
     "slide_type": "slide"
    }
   },
   "source": [
    "#### Major principles of object-oriented programming system are given below."
   ]
  },
  {
   "cell_type": "markdown",
   "metadata": {
    "slideshow": {
     "slide_type": "fragment"
    }
   },
   "source": [
    "1. Class\n",
    "2. Object\n",
    "3. Method\n",
    "4. Inheritance\n",
    "5. Polymorphism\n",
    "6. Data Abstraction\n",
    "7. Encapsulation"
   ]
  },
  {
   "cell_type": "markdown",
   "metadata": {
    "slideshow": {
     "slide_type": "slide"
    }
   },
   "source": [
    "### 1. Class\n",
    "- A class is a blueprint for the object.\n",
    "- The class can be defined as a collection of objects. It is a logical entity that has some specific attributes and methods.\n",
    "- example: if you have an employee class, then it should contain an attribute and method, i.e. an email id, name, age, salary, etc."
   ]
  },
  {
   "cell_type": "markdown",
   "metadata": {
    "slideshow": {
     "slide_type": "slide"
    }
   },
   "source": [
    "### syntax"
   ]
  },
  {
   "cell_type": "code",
   "execution_count": null,
   "metadata": {
    "slideshow": {
     "slide_type": "fragment"
    }
   },
   "outputs": [],
   "source": [
    "class ClassName:\n",
    "    <statement-1>     \n",
    "    .     \n",
    "    .      \n",
    "    <statement-N> \n",
    "\n",
    "obj = ClassName()  #object create and initialize"
   ]
  },
  {
   "cell_type": "markdown",
   "metadata": {
    "slideshow": {
     "slide_type": "slide"
    }
   },
   "source": [
    "### 2. Object"
   ]
  },
  {
   "cell_type": "markdown",
   "metadata": {
    "slideshow": {
     "slide_type": "fragment"
    }
   },
   "source": [
    "- An object (instance) is an instantiation of a class. When class is defined, only the description for the object is defined. Therefore, no memory or storage is allocated.\n",
    "- It may be any real-world object like the mouse, keyboard, chair, table, pen, etc.\n",
    "- Everything in Python is an object, and almost everything has attributes and methods. All functions have a built-in attribute __doc __, which returns the docstring defined in the function source code."
   ]
  },
  {
   "cell_type": "markdown",
   "metadata": {
    "slideshow": {
     "slide_type": "slide"
    }
   },
   "source": [
    "##### Example:\n",
    "    - This is example of class and object, where display a Car model Name and year in which this car model launch."
   ]
  },
  {
   "cell_type": "code",
   "execution_count": 4,
   "metadata": {
    "slideshow": {
     "slide_type": "fragment"
    }
   },
   "outputs": [
    {
     "name": "stdout",
     "output_type": "stream",
     "text": [
      "Toyota 2016\n"
     ]
    }
   ],
   "source": [
    "class Car:  \n",
    "    def __init__(self,modelname, year):  \n",
    "        self.modelname = modelname\n",
    "        self.year = year\n",
    "        \n",
    "    def display(self):  \n",
    "        print(self.modelname,self.year)  \n",
    "\n",
    "obj = Car(\"Toyota\", 2016)  \n",
    "obj.display()"
   ]
  },
  {
   "cell_type": "markdown",
   "metadata": {
    "slideshow": {
     "slide_type": "slide"
    }
   },
   "source": [
    "### All methods which is present in class by default object class"
   ]
  },
  {
   "cell_type": "code",
   "execution_count": 5,
   "metadata": {
    "slideshow": {
     "slide_type": "fragment"
    }
   },
   "outputs": [
    {
     "name": "stdout",
     "output_type": "stream",
     "text": [
      "All Methods:  ['__class__', '__delattr__', '__dict__', '__dir__', '__doc__', '__eq__', '__format__', '__ge__', '__getattribute__', '__gt__', '__hash__', '__init__', '__init_subclass__', '__le__', '__lt__', '__module__', '__ne__', '__new__', '__reduce__', '__reduce_ex__', '__repr__', '__setattr__', '__sizeof__', '__str__', '__subclasshook__', '__weakref__', 'display', 'modelname', 'year']\n"
     ]
    }
   ],
   "source": [
    "print(\"All Methods: \",dir(obj))"
   ]
  },
  {
   "cell_type": "markdown",
   "metadata": {
    "slideshow": {
     "slide_type": "slide"
    }
   },
   "source": [
    "### 3. Method\n",
    "- The method is a function that is associated with an object. In Python, a method is not unique to class instances. Any object type can have methods."
   ]
  },
  {
   "cell_type": "markdown",
   "metadata": {
    "slideshow": {
     "slide_type": "slide"
    }
   },
   "source": [
    "### 4. Inheritance\n",
    "- Inheritance is the most important aspect of object-oriented programming, which simulates the real-world concept of inheritance. It specifies that the child object acquires all the properties and behaviors of the parent object.\n",
    "- By using inheritance, we can create a class which uses all the properties and behavior of another class. The new class is known as a derived class or child class, and the one whose properties are acquired is known as a base class or parent class.\n",
    "- It provides the re-usability of the code."
   ]
  },
  {
   "cell_type": "markdown",
   "metadata": {
    "slideshow": {
     "slide_type": "slide"
    }
   },
   "source": [
    "### 5. Polymorphism\n",
    "- Polymorphism contains two words \"poly\" and \"morphs\". Poly means many, and morph means shape. By polymorphism, we understand that one task can be performed in different ways. For example - you have a class animal, and all animals speak. But they speak differently. Here, the \"speak\" behavior is polymorphic in a sense and depends on the animal. So, the abstract \"animal\" concept does not actually \"speak\", but specific animals (like dogs and cats) have a concrete implementation of the action \"speak\".\n"
   ]
  },
  {
   "cell_type": "markdown",
   "metadata": {
    "slideshow": {
     "slide_type": "slide"
    }
   },
   "source": [
    "### 6. Encapsulation\n",
    "- Encapsulation is also an essential aspect of object-oriented programming. It is used to restrict access to methods and variables. In encapsulation, code and data are wrapped together within a single unit from being modified by accident."
   ]
  },
  {
   "cell_type": "markdown",
   "metadata": {
    "slideshow": {
     "slide_type": "slide"
    }
   },
   "source": [
    "### 7. Data Abstraction\n",
    "- Data abstraction and encapsulation both are often used as synonyms. Both are nearly synonyms because data abstraction is achieved through encapsulation.\n",
    "\n",
    "- Abstraction is used to hide internal details and show only functionalities. Abstracting something means to give names to things so that the name captures the core of what a function or a whole program does."
   ]
  },
  {
   "cell_type": "markdown",
   "metadata": {
    "slideshow": {
     "slide_type": "slide"
    }
   },
   "source": [
    "#### Example:\n",
    "- This is example of college class where used seter and geter methods. This example is related to store information about student like Student Name, ID and Age and also find the total numbers of students."
   ]
  },
  {
   "cell_type": "code",
   "execution_count": 16,
   "metadata": {
    "slideshow": {
     "slide_type": "fragment"
    }
   },
   "outputs": [
    {
     "name": "stdout",
     "output_type": "stream",
     "text": [
      "id = 1\n",
      "name = Rahul\n",
      "age = 22\n",
      "Id of object is :  1278591402952 \n",
      "\n",
      "id = 2\n",
      "name = Manish\n",
      "age = 23\n",
      "Id of object is :  1278591403232 \n",
      "\n",
      "id = 3\n",
      "name = Suresh\n",
      "age = 21\n",
      "Id of object is :  1278591403456 \n",
      "\n",
      "The total number of students is :  3\n"
     ]
    }
   ],
   "source": [
    "class College:\n",
    "    branch = \"Computer Science\"  #class attribute\n",
    "    total = 0\n",
    "    def set_values(self,name,sid,age):\n",
    "        self.id = sid\n",
    "        self.name = name\n",
    "        self.age = age\n",
    "        College.total += 1\n",
    "    \n",
    "    def get_attr(self):\n",
    "        for attr,value in self.__dict__.items():\n",
    "            print(attr,\"=\",value)\n",
    "        print(\"Id of object is : \",id(self),\"\\n\")\n",
    "        \n",
    "    @staticmethod   \n",
    "    def get_total(cls):\n",
    "        print(\"The total number of students is : \",College.total)\n",
    "        \n",
    "\n",
    "s1 = College()\n",
    "s2 = College()\n",
    "s3 = College()\n",
    "s1.set_values(\"Rahul\",1,22)\n",
    "s2.set_values(\"Manish\",2,23)\n",
    "s3.set_values(\"Suresh\",3,21)\n",
    "s1.get_attr()\n",
    "s2.get_attr()\n",
    "s3.get_attr()\n",
    "College.get_total()"
   ]
  },
  {
   "cell_type": "markdown",
   "metadata": {
    "slideshow": {
     "slide_type": "slide"
    }
   },
   "source": [
    "## Self in Python class"
   ]
  },
  {
   "cell_type": "markdown",
   "metadata": {
    "slideshow": {
     "slide_type": "fragment"
    }
   },
   "source": [
    "- self represents the instance of the class."
   ]
  },
  {
   "cell_type": "markdown",
   "metadata": {
    "slideshow": {
     "slide_type": "fragment"
    }
   },
   "source": [
    "- By using the “self” keyword we can access the attributes and methods of the class in python."
   ]
  },
  {
   "cell_type": "markdown",
   "metadata": {
    "slideshow": {
     "slide_type": "fragment"
    }
   },
   "source": [
    "- It binds the attributes with the given arguments."
   ]
  },
  {
   "cell_type": "markdown",
   "metadata": {
    "slideshow": {
     "slide_type": "fragment"
    }
   },
   "source": [
    "- The reason you need to use self. is because Python does not use the @ syntax to refer to instance attributes. "
   ]
  },
  {
   "cell_type": "markdown",
   "metadata": {
    "slideshow": {
     "slide_type": "slide"
    }
   },
   "source": [
    "- Python decided to do methods in a way that makes the instance to which the method belongs be passed automatically, but not received automatically: the first parameter of methods is the instance the method is called."
   ]
  },
  {
   "cell_type": "markdown",
   "metadata": {
    "slideshow": {
     "slide_type": "fragment"
    }
   },
   "source": [
    "**Self is a convention and not a real python keyword**"
   ]
  },
  {
   "cell_type": "markdown",
   "metadata": {},
   "source": [
    "#### Example: Withod Self \n",
    "    - This is a example of withod self using if we create a class the we can access the class methods like setValue(), displayCount() and displayEmployee(). but when multiple enteries is comming then this is not working this is work for only one class and by using the class name we can access the all variable and class methods. This is example show that Employee Name , Salay, and Employee Count."
   ]
  },
  {
   "cell_type": "code",
   "execution_count": 2,
   "metadata": {
    "slideshow": {
     "slide_type": "fragment"
    }
   },
   "outputs": [
    {
     "name": "stdout",
     "output_type": "stream",
     "text": [
      "Name :  Zara , Salary:  2000\n",
      "Total Employee 1\n"
     ]
    }
   ],
   "source": [
    "class Employee:\n",
    "    'Common base class for all employees'\n",
    "    empCount = 0  # class attributes\n",
    "\n",
    "    def setValue(name, salary):\n",
    "        Employee.name = name\n",
    "        Employee.salary = salary\n",
    "        Employee.empCount += 1\n",
    "   \n",
    "    def displayCount():\n",
    "        print (\"Total Employee %d\" % Employee.empCount)\n",
    "\n",
    "    def displayEmployee():\n",
    "        print (\"Name : \", Employee.name,  \", Salary: \", Employee.salary)\n",
    "        \n",
    "Employee.setValue(\"Zara\", 2000)\n",
    "Employee.displayEmployee()\n",
    "Employee.displayCount()"
   ]
  },
  {
   "cell_type": "markdown",
   "metadata": {
    "slideshow": {
     "slide_type": "slide"
    }
   },
   "source": [
    "**Note: When we need to seperate copy of the class or blueprint then create class referance variable which have seperate memory.**"
   ]
  },
  {
   "cell_type": "markdown",
   "metadata": {
    "slideshow": {
     "slide_type": "slide"
    }
   },
   "source": [
    "#### Example: With Self\n",
    "- This is the Example of self where create multiple instance variable for the Dog class. In this class one constructor and two instance methods is given first is description which print the name and age and second is speak which print what dog say. In this example creat four instance referance variable miles, buddy, jack and jim which is used to describe in Dog class."
   ]
  },
  {
   "cell_type": "code",
   "execution_count": 6,
   "metadata": {
    "slideshow": {
     "slide_type": "slide"
    }
   },
   "outputs": [
    {
     "name": "stdout",
     "output_type": "stream",
     "text": [
      "Dog species:  Canis familiaris\n",
      "Miles is 4 years old\n",
      "Miles says Woof Woof\n",
      "Miles says Bow Wow\n",
      "\n",
      "Buddy is 9 years old\n",
      "Buddy says Woof Woof\n",
      "Buddy says Bow Wow\n",
      "\n",
      "Jack is 3 years old\n",
      "Jack says Woof Woof\n",
      "Jack says Bow Wow\n",
      "\n",
      "Jim is 5 years old\n",
      "Jim says Woof Woof\n",
      "Jim says Bow Wow\n"
     ]
    }
   ],
   "source": [
    "class Dog:\n",
    "    species = \"Canis familiaris\"\n",
    "\n",
    "    def __init__(self, name, age):\n",
    "        self.name = name\n",
    "        self.age = age\n",
    "\n",
    "    # Instance method\n",
    "    def description(self):\n",
    "        return f\"{self.name} is {self.age} years old\"\n",
    "\n",
    "    # Another instance method\n",
    "    def speak(self, sound):\n",
    "        return f\"{self.name} says {sound}\"\n",
    "    \n",
    "print(\"Dog species: \", Dog.species)\n",
    "miles = Dog(\"Miles\", 4)   ## miles: instance referance variable\n",
    "print(miles.description())\n",
    "print(miles.speak(\"Woof Woof\"))\n",
    "print(miles.speak(\"Bow Wow\"))\n",
    "print()\n",
    "\n",
    "buddy = Dog(\"Buddy\", 9)\n",
    "print(buddy.description())\n",
    "print(buddy.speak(\"Woof Woof\"))\n",
    "print(buddy.speak(\"Bow Wow\"))\n",
    "print()\n",
    "\n",
    "jack = Dog(\"Jack\", 3)\n",
    "print(jack.description())\n",
    "print(jack.speak(\"Woof Woof\"))\n",
    "print(jack.speak(\"Bow Wow\"))\n",
    "print()\n",
    "\n",
    "jim = Dog(\"Jim\", 5)\n",
    "print(jim.description())\n",
    "print(jim.speak(\"Woof Woof\"))\n",
    "print(jim.speak(\"Bow Wow\"))"
   ]
  },
  {
   "cell_type": "code",
   "execution_count": null,
   "metadata": {
    "slideshow": {
     "slide_type": "slide"
    }
   },
   "outputs": [],
   "source": [
    "# Do it YourSelf\n",
    "# Ques:\n",
    "    In this question, The problem is two person Ram and Shyam which is calculate the temperature of each other. But the \n",
    "    main problem is Ram only understand the Celsius temperature and Shyam is only understand the Fahrenheit temperature so\n",
    "    you task to solve this problem using the creating a class where both persons are understand the temperature of each \n",
    "    other. Create a class with name Temperature and in this temperature class create two methods first convert the Celsius\n",
    "    temperature into Fahrenheit and second method convert the Fahrenheit to Celsius.  \n",
    "\n",
    "    Create a Temperature class. Make two methods :\n",
    "        1. convertFahrenheit - It will take celsius and will print it into Fahrenheit.\n",
    "        2. convertCelsius - It will take Fahrenheit and will convert it into Celsius.\n",
    "        \n",
    "# Input Format:\n",
    "    - Enter the tempreatue in kelvin(k). It is a positive float type value. \n",
    "    \n",
    "# Output Format:\n",
    "    - Print Both the converted temperatures Celsius into Fahrenheit and Fahrenheit to Celsius."
   ]
  },
  {
   "cell_type": "code",
   "execution_count": null,
   "metadata": {
    "slideshow": {
     "slide_type": "slide"
    }
   },
   "outputs": [],
   "source": [
    "#Ques:\n",
    "    In this question, The probelm we need to solve the queries of Bittu. The problem is Bittu is very creative child which\n",
    "    have several queries like if we give a time in hour and minute format then his queries are:\n",
    "        1. What is the time in only minutes.\n",
    "        2. What is the time in only seconds.\n",
    "        3. If two time is enter the what is the total of them.\n",
    "    So Your task is to create a class which solve the all queries of Bittu.\n",
    "    \n",
    "    Create a Time class and initialize it with hours and minutes.\n",
    "    1. Make a method addTime which should take two time object and add them. \n",
    "        E.g.-\n",
    "            (2 hour and 50 min)+(1 hr and 20 min) is (4 hr and 10 min)\n",
    "    2. Make a method displayTime which should print the time.\n",
    "    3. Make a method DisplayMinute which should display the total minutes in the Time. \n",
    "        E.g.- \n",
    "            (1 hr 2 min) should display 62 minute.\n",
    "    4. Make a method DisplaySecond which should display the total second in the Time.\n",
    "        E.g.-\n",
    "            (1 hr 2 min) should display 3720 seconds.\n",
    "            \n",
    "Input Format:\n",
    "    - Enter the time in hour and minute format for two times by the user.\n",
    "    \n",
    "Output Format:\n",
    "    - Display all the time in different-2 format. "
   ]
  },
  {
   "cell_type": "code",
   "execution_count": null,
   "metadata": {
    "slideshow": {
     "slide_type": "slide"
    }
   },
   "outputs": [],
   "source": [
    "# Ques:\n",
    "    In this challenge, you are given two complex numbers, and you have to print the result of their addition, subtraction,\n",
    "    multiplication, division and modulus operations.\n",
    "\n",
    "    The real and imaginary precision part should be correct up to two decimal places.\n",
    "\n",
    "# Input Format\n",
    "    - One line of input: The real and imaginary part of a number separated by a space.\n",
    "\n",
    "# Output Format\n",
    "    - For two complex numbers C and D, the output should be in the following sequence on separate lines:\n",
    "        - C + D\n",
    "        - C - D\n",
    "        - C * D\n",
    "        - C / D\n",
    "        - mod(C)\n",
    "        - mod(D)\n",
    "\n",
    "    For complex numbers with non-zero real (A) and complex part(B), the output should be in the following format: A + Bi\n",
    "    Replace the plus symbol (+) with a minus symbol (-) when B<0.\n",
    "\n",
    "    For complex numbers with a zero complex part i.e. real numbers, the output should be: A + 0.00i\n",
    "    For complex numbers where the real part is zero and the complex part(B) is non-zero, the output should be: 0.00 + Bi\n",
    "\n",
    "# Sample Input:\n",
    "    2 1\n",
    "    5 6\n",
    "    \n",
    "# Sample Output:\n",
    "    - C + D : 7.00+7.00i\n",
    "    - C - D : -3.00-5.00i\n",
    "    - C * D : 4.00+17.00i\n",
    "    - C / D : 0.26-0.11i\n",
    "    - mod(C) : 2.24+0.00i\n",
    "    - mod(D) : 7.81+0.00i"
   ]
  },
  {
   "cell_type": "code",
   "execution_count": null,
   "metadata": {
    "slideshow": {
     "slide_type": "slide"
    }
   },
   "outputs": [],
   "source": [
    "## Ques:\n",
    "    In this question, The Problem is we need to convert the length into the Centi-meter and Inches. We have to need a input\n",
    "    by the user which give the value in the meter so over task to create two methods first which convert meter to \n",
    "    centi-meter and second which convert the meter to inches. \n",
    "    \n",
    "    Create a lengthConvertor class. Make two methods :\n",
    "        1. convertCM - It will take meter values and convert into Centi-meter and also print it.\n",
    "        2. convertInches - It will take meter values and convert into Inches and also print it.\n",
    "        \n",
    "# Input Format:\n",
    "    - Enter the length value in the meter format.\n",
    "    \n",
    "# Output Format:\n",
    "    - Display the converted values in seperated line.\n",
    "    E.g.-\n",
    "        Lenght : XX meter\n",
    "        Length in Centi-meter : XX cm\n",
    "        Lenght in Inches : XX inch"
   ]
  }
 ],
 "metadata": {
  "celltoolbar": "Slideshow",
  "kernelspec": {
   "display_name": "Python 3",
   "language": "python",
   "name": "python3"
  },
  "language_info": {
   "codemirror_mode": {
    "name": "ipython",
    "version": 3
   },
   "file_extension": ".py",
   "mimetype": "text/x-python",
   "name": "python",
   "nbconvert_exporter": "python",
   "pygments_lexer": "ipython3",
   "version": "3.7.3"
  }
 },
 "nbformat": 4,
 "nbformat_minor": 2
}
