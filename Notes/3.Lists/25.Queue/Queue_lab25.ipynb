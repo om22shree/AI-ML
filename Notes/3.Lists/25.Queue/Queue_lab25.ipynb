{
 "cells": [
  {
   "cell_type": "markdown",
   "metadata": {
    "slideshow": {
     "slide_type": "slide"
    }
   },
   "source": [
    "## Queue in Python"
   ]
  },
  {
   "cell_type": "markdown",
   "metadata": {
    "slideshow": {
     "slide_type": "fragment"
    }
   },
   "source": [
    "- Like stack, queue is a linear data structure that stores items in First In First Out (FIFO) manner. "
   ]
  },
  {
   "cell_type": "markdown",
   "metadata": {
    "slideshow": {
     "slide_type": "fragment"
    }
   },
   "source": [
    "- In a queue the least recently added item is removed first. "
   ]
  },
  {
   "cell_type": "markdown",
   "metadata": {
    "slideshow": {
     "slide_type": "fragment"
    }
   },
   "source": [
    "- A good example of queue is any queue of consumers for a resource where the consumer that came first is served first."
   ]
  },
  {
   "cell_type": "markdown",
   "metadata": {
    "slideshow": {
     "slide_type": "slide"
    }
   },
   "source": [
    "<img src='https://drive.google.com/uc?id=1uSwfIG1D-g__WIrhFM2v5jkevvfz4gt9'> "
   ]
  },
  {
   "cell_type": "markdown",
   "metadata": {
    "slideshow": {
     "slide_type": "slide"
    }
   },
   "source": [
    "### Operations associated with queue are: "
   ]
  },
  {
   "cell_type": "markdown",
   "metadata": {
    "slideshow": {
     "slide_type": "fragment"
    }
   },
   "source": [
    "Enqueue: Adds an item to the queue. If the queue is full, then it is said to be an Overflow condition – Time Complexity : O(1)"
   ]
  },
  {
   "cell_type": "markdown",
   "metadata": {
    "slideshow": {
     "slide_type": "fragment"
    }
   },
   "source": [
    "Dequeue: Removes an item from the queue. The items are popped in the same order in which they are pushed. If the queue is empty, then it is said to be an Underflow condition – Time Complexity : O(1)"
   ]
  },
  {
   "cell_type": "markdown",
   "metadata": {
    "slideshow": {
     "slide_type": "fragment"
    }
   },
   "source": [
    "Front: Get the front item from queue – Time Complexity : O(1)"
   ]
  },
  {
   "cell_type": "markdown",
   "metadata": {
    "slideshow": {
     "slide_type": "fragment"
    }
   },
   "source": [
    "Rear: Get the last item from queue – Time Complexity : O(1)"
   ]
  },
  {
   "cell_type": "markdown",
   "metadata": {
    "slideshow": {
     "slide_type": "slide"
    }
   },
   "source": [
    "### Implementation"
   ]
  },
  {
   "cell_type": "markdown",
   "metadata": {
    "slideshow": {
     "slide_type": "fragment"
    }
   },
   "source": [
    "- There are various ways to implement a queue in Python. This article covers the implementation of queue using data structures and modules from Python library.\n"
   ]
  },
  {
   "cell_type": "markdown",
   "metadata": {
    "slideshow": {
     "slide_type": "slide"
    }
   },
   "source": [
    "#### Queue in Python can be implemented by the following ways:"
   ]
  },
  {
   "cell_type": "markdown",
   "metadata": {
    "slideshow": {
     "slide_type": "fragment"
    }
   },
   "source": [
    "1. list\n",
    "2. collections.deque\n",
    "3. queue.Queue"
   ]
  },
  {
   "cell_type": "markdown",
   "metadata": {
    "slideshow": {
     "slide_type": "slide"
    }
   },
   "source": [
    "### 1. Implementation using list"
   ]
  },
  {
   "cell_type": "markdown",
   "metadata": {
    "slideshow": {
     "slide_type": "fragment"
    }
   },
   "source": [
    "- List is a Python’s built-in data structure that can be used as a queue. `"
   ]
  },
  {
   "cell_type": "markdown",
   "metadata": {
    "slideshow": {
     "slide_type": "fragment"
    }
   },
   "source": [
    "- Instead of enqueue() and dequeue(), append() and pop() function is used."
   ]
  },
  {
   "cell_type": "markdown",
   "metadata": {
    "slideshow": {
     "slide_type": "fragment"
    }
   },
   "source": [
    "- However, lists are quite slow for this purpose because inserting or deleting an element at the beginning requires shifting all of the other elements by one, requiring O(n) time."
   ]
  },
  {
   "cell_type": "markdown",
   "metadata": {
    "slideshow": {
     "slide_type": "slide"
    }
   },
   "source": [
    "### Implementation using collections.deque"
   ]
  },
  {
   "cell_type": "markdown",
   "metadata": {
    "slideshow": {
     "slide_type": "fragment"
    }
   },
   "source": [
    "- Queue in Python can be implemented using deque class from the collections module."
   ]
  },
  {
   "cell_type": "markdown",
   "metadata": {
    "slideshow": {
     "slide_type": "fragment"
    }
   },
   "source": [
    "- Deque is preferred over list in the cases where we need quicker append and pop operations from both the ends of container, as deque provides an O(1) time complexity for append and pop operations as compared to list which provides O(n) time complexity. "
   ]
  },
  {
   "cell_type": "markdown",
   "metadata": {
    "slideshow": {
     "slide_type": "fragment"
    }
   },
   "source": [
    "- Instead of enqueue and deque, append() and popleft() functions are used."
   ]
  },
  {
   "cell_type": "markdown",
   "metadata": {
    "slideshow": {
     "slide_type": "slide"
    }
   },
   "source": [
    "#### Ques:\n",
    "- In this Python program, we learn about how to create the Queue. In this Queue class all the instance method like get max size, check stack is empty or not, check stack is full or not , enqueue and dequeue methods are define. The Total Queue Operations are: \n",
    "    1. \\_\\_init\\_\\_\n",
    "    2. is_empty\n",
    "    3. is_full\n",
    "    4. enqueue\n",
    "    5. dequeue\n",
    "    6. \\_\\_str\\_\\_\n",
    "    7. \\_\\_repr\\_\\_"
   ]
  },
  {
   "cell_type": "code",
   "execution_count": 3,
   "metadata": {
    "slideshow": {
     "slide_type": "fragment"
    }
   },
   "outputs": [
    {
     "name": "stdout",
     "output_type": "stream",
     "text": [
      "Check Stack is Empty:  True\n",
      "Queue is full\n",
      "Stack:  [None, 2, 3, 4, 5]\n",
      "Check Stack is Full:  True\n"
     ]
    }
   ],
   "source": [
    "class Queue:\n",
    "    def __init__(self,max_size=0):\n",
    "        self.__arr = [None for _ in range(max_size)]\n",
    "        self.__max_size = max_size\n",
    "        self.__rear = -1\n",
    "        self.__front = -1\n",
    "        \n",
    "    def get_max_size(self):\n",
    "        \"\"\"\n",
    "            It is used to return the maximum size\n",
    "        \"\"\"\n",
    "        return self.__max_size\n",
    "    \n",
    "    def is_empty(self):\n",
    "        \"\"\"\n",
    "            It will return true if the queue is empty\n",
    "        \"\"\"\n",
    "        if self.__rear == -1:\n",
    "            return True\n",
    "        return False\n",
    "    \n",
    "    def is_full(self):\n",
    "        \"\"\"\n",
    "            It will return true if the queue is full\n",
    "        \"\"\"\n",
    "        if self.__rear == self.get_max_size() - 1:\n",
    "            return True\n",
    "        return False\n",
    "    \n",
    "    def enqueue(self,ele):\n",
    "        if self.is_full():\n",
    "            return \"Queue is full\"\n",
    "        else:\n",
    "            self.__rear += 1\n",
    "            self.__arr[self.__rear] = ele\n",
    "            \n",
    "    def dequeue(self):\n",
    "        if self.is_empty():\n",
    "            return \"Queue is empty\"\n",
    "        else:\n",
    "            self.__front += 1\n",
    "            self.__arr[self.__front] = None\n",
    "            \n",
    "    def __str__(self):\n",
    "        return f\"{self.__arr}\"\n",
    "    \n",
    "    def __repr__(self):\n",
    "        return f\"{self.__arr}\"\n",
    "\n",
    "que = Queue(5)\n",
    "print(\"Check Stack is Empty: \",que.is_empty())\n",
    "que.enqueue(1)\n",
    "que.enqueue(2)\n",
    "que.dequeue()\n",
    "que.enqueue(3)\n",
    "que.enqueue(4)\n",
    "que.enqueue(5)\n",
    "print(que.enqueue(6))\n",
    "print(\"Stack: \",que)\n",
    "print(\"Check Stack is Full: \", que.is_full())"
   ]
  },
  {
   "cell_type": "markdown",
   "metadata": {
    "slideshow": {
     "slide_type": "slide"
    }
   },
   "source": [
    "### Implementation using queue.Queue"
   ]
  },
  {
   "cell_type": "markdown",
   "metadata": {
    "slideshow": {
     "slide_type": "fragment"
    }
   },
   "source": [
    "- Queue is built-in module of Python which is used to implement a queue. queue.Queue(maxsize) initializes a variable to a maximum size of maxsize. A maxsize of zero ‘0’ means a infinite queue. This Queue follows FIFO rule. "
   ]
  },
  {
   "cell_type": "markdown",
   "metadata": {
    "slideshow": {
     "slide_type": "slide"
    }
   },
   "source": [
    "#### There are various functions available in this module: "
   ]
  },
  {
   "cell_type": "markdown",
   "metadata": {
    "slideshow": {
     "slide_type": "slide"
    }
   },
   "source": [
    "maxsize – Number of items allowed in the queue."
   ]
  },
  {
   "cell_type": "markdown",
   "metadata": {
    "slideshow": {
     "slide_type": "fragment"
    }
   },
   "source": [
    "empty() – Return True if the queue is empty, False otherwise."
   ]
  },
  {
   "cell_type": "markdown",
   "metadata": {
    "slideshow": {
     "slide_type": "fragment"
    }
   },
   "source": [
    "full() – Return True if there are maxsize items in the queue. If the queue was initialized with maxsize=0 (the default), then full() never returns True."
   ]
  },
  {
   "cell_type": "markdown",
   "metadata": {
    "slideshow": {
     "slide_type": "fragment"
    }
   },
   "source": [
    "get() – Remove and return an item from the queue. If queue is empty, wait until an item is available."
   ]
  },
  {
   "cell_type": "markdown",
   "metadata": {
    "slideshow": {
     "slide_type": "fragment"
    }
   },
   "source": [
    "get_nowait() – Return an item if one is immediately available, else raise QueueEmpty."
   ]
  },
  {
   "cell_type": "markdown",
   "metadata": {
    "slideshow": {
     "slide_type": "slide"
    }
   },
   "source": [
    "put(item) – Put an item into the queue. If the queue is full, wait until a free slot is available before adding the item."
   ]
  },
  {
   "cell_type": "markdown",
   "metadata": {
    "slideshow": {
     "slide_type": "fragment"
    }
   },
   "source": [
    "put_nowait(item) – Put an item into the queue without blocking. If no free slot is immediately available, raise QueueFull."
   ]
  },
  {
   "cell_type": "markdown",
   "metadata": {
    "slideshow": {
     "slide_type": "fragment"
    }
   },
   "source": [
    "qsize() – Return the number of items in the queue."
   ]
  },
  {
   "cell_type": "code",
   "execution_count": null,
   "metadata": {
    "slideshow": {
     "slide_type": "slide"
    }
   },
   "outputs": [],
   "source": [
    "## Do it Yourself\n",
    "# Ques:\n",
    "    A queue is an abstract data type that maintains the order in which elements were added to it, allowing the oldest\n",
    "    elements to be removed from the front and new elements to be added to the rear. This is called a First-In-First-Out\n",
    "    (FIFO) data structure because the first element added to the queue (i.e., the one that has been waiting the longest)\n",
    "    is always the first one to be removed.\n",
    "\n",
    "    A basic queue has the following operations:\n",
    "    Enqueue: add a new element to the end of the queue.\n",
    "    Dequeue: remove the element from the front of the queue and return it.\n",
    "    \n",
    "    In this challenge, you must first implement a queue using two stacks. Then process Q queries, where each query is one \n",
    "    of the following 3 types:\n",
    "        1 x: Enqueue element X into the end of the queue.\n",
    "        2: Dequeue the element at the front of the queue.\n",
    "        3: Print the element at the front of the queue.\n",
    "            \n",
    "# Input Format:\n",
    "    The first line contains a single integer, Q, denoting the number of queries.\n",
    "    Each line I of the Q subsequent lines contains a single query in the form described in the problem statement above. All three queries start with an integer denoting the query type, but only query 1 is followed by an additional space-separated value, X, denoting the value to be enqueued.\n",
    "\n",
    "# Output Format:\n",
    "    For each query of type 3, print the value of the element at the front of the queue on a new line.\n",
    "\n",
    "# Sample Input\n",
    "    10\n",
    "    1 42\n",
    "    2\n",
    "    1 14\n",
    "    3\n",
    "    1 28\n",
    "    3\n",
    "    1 60\n",
    "    1 78\n",
    "    2\n",
    "    2\n",
    "    \n",
    "# Sample Output\n",
    "    14\n",
    "    14\n",
    "    \n",
    "# Explanation\n",
    "    We perform the following sequence of actions:\n",
    "        Enqueue 42; queue={42}.\n",
    "        Dequeue the value at the head of the queue, 42; queue={}.\n",
    "        Enqueue 14; queue={14}.\n",
    "        Print the value at the head of the queue, 14; queue={14}.\n",
    "        Enqueue 28; queue={14, 28}.\n",
    "        Print the value at the head of the queue, 14; queue={14, 28}.\n",
    "        Enqueue 60; queue={14, 28, 60}.\n",
    "        Enqueue 78; queue={14, 28, 60, 78}.\n",
    "        Dequeue the value at the head of the queue, 14; queue={28, 60, 78}.\n",
    "        Dequeue the value at the head of the queue, 28; queue={60, 78}."
   ]
  },
  {
   "cell_type": "code",
   "execution_count": null,
   "metadata": {
    "slideshow": {
     "slide_type": "slide"
    }
   },
   "outputs": [],
   "source": [
    "# Ques:\n",
    "    Your task is to construct a tower in N days by following these conditions:\n",
    "\n",
    "    - Every day you are provided with one disk of distinct size.\n",
    "    - The disk with larger sizes should be placed at the bottom of the tower.\n",
    "    - The disk with smaller sizes should be placed at the top of the tower.\n",
    "    - The order in which tower must be constructed is as follows:\n",
    "\n",
    "    You cannot put a new disk on the top of the tower until all the larger disks that are given to you get placed.\n",
    "    Print N lines denoting the disk sizes that can be put on the tower on the i^(th) day.\n",
    "\n",
    "# Input format:\n",
    "    First line: N denoting the total number of disks that are given to you in the N subsequent days\n",
    "    Second line: N integers in which the i^(th) integers denote the size of the disks that are given to you on the i^(th) day\n",
    "    Note: All the disk sizes are distinct integers in the range of 1 to N.\n",
    "\n",
    "# Output format\n",
    "    Print N lines. In the i^(th) line, print the size of disks that can be placed on the top of the tower in descending order of the disk sizes.\n",
    "    If on the i^(th) day no disks can be placed, then leave that line empty.\n",
    "\n",
    "# SAMPLE INPUT \n",
    "    5\n",
    "    4 5 1 2 3\n",
    "\n",
    "# SAMPLE OUTPUT \n",
    "    5 4\n",
    "    3 2 1\n",
    "\n",
    "# Explanation\n",
    "    - On the first day, the disk of size 4 is given. But you cannot put the disk on the bottom of the tower as a disk of \n",
    "    size 5 is still remaining.\n",
    "    - On the second day, the disk of size 5 will be given so now disk of sizes 5 and 4 can be placed on the tower. \n",
    "    - On the third and fourth day, disks cannot be placed on the tower as the disk of 3 needs to be given yet. Therefore,\n",
    "    these lines are empty. \n",
    "    - On the fifth day, all the disks of sizes 3, 2, and 1 can be placed on the top of the tower."
   ]
  },
  {
   "cell_type": "code",
   "execution_count": null,
   "metadata": {
    "slideshow": {
     "slide_type": "slide"
    }
   },
   "outputs": [],
   "source": [
    "# Ques:\n",
    "    - You own a club on eerie planet. The day on this planet comprises of H hours. You appointed C crew members to handle the\n",
    "    huge crowd that you get, being the best club on the planet. Each member of the crew has fixed number of duty hours to\n",
    "    work. There can be multiple or no crew members at work at any given hour of the day.\n",
    "    \n",
    "    - Being on weird planet, the rules of this club cannot be normal. Each member of the crew only allows people who are \n",
    "    taller than him to enter the club when he is at work.\n",
    "    \n",
    "    - Given the schedule of work and heights of the crew members, you have to answer Q queries. Each query specifies the \n",
    "    time of entry and height of a person who is visiting the club. You have to answer if the person will be allowed to \n",
    "    enter the club or not.\n",
    "\n",
    "# Input:\n",
    "    First line of the input contains 3 integers, H,C,Q. Representing number of hours in a day, number of crew members and number of queries respectively.\n",
    "    Next C lines follow, where each line contains 3 integers, h_i, S_i, E_i representing height of the crew member and start and end hour of his/her work schedule. He/she works for hours [S_i, E_i], both inclusive.\n",
    "    Next Q lines follow, each containing 2 integers, h_i, t_i representing height and time (in hour) of the person trying to enter the club.\n",
    "\n",
    "# Output:\n",
    "    Q lines, each line containing \"YES\" or \"NO\", without the quotes, answering if the person will be allowed to enter the\n",
    "    club or not.\n",
    "\n",
    "\n",
    "# SAMPLE INPUT \n",
    "    10 1 5\n",
    "    50 2 6\n",
    "    10 1\n",
    "    10 2\n",
    "    50 5\n",
    "    51 6\n",
    "    100 10\n",
    "    \n",
    "# SAMPLE OUTPUT \n",
    "    YES\n",
    "    NO\n",
    "    NO\n",
    "    YES\n",
    "    YES\n",
    "    \n",
    "# Explanation\n",
    "    During the first hour, there is no crew member and hence person is allowed.\n",
    "    During hours 2 and 5, person is not taller than crew member, hence is not allowed to enter.\n",
    "    4th person is taller than the crew member at work and hence person is allowed.\n",
    "    During the 10th hour, there is no crew member and hence person is allowed."
   ]
  },
  {
   "cell_type": "code",
   "execution_count": null,
   "metadata": {
    "slideshow": {
     "slide_type": "slide"
    }
   },
   "outputs": [],
   "source": [
    "# Ques:\n",
    "    The Monk is trying to explain to its users that even a single unit of time can be extremely important and to \n",
    "    demonstrate this particular fact he gives them a challenging task.\n",
    "\n",
    "    There are N processes to be completed by you, the chosen one, since you're Monk's favorite student. All the processes\n",
    "    have a unique number assigned to them from 1 to N.\n",
    "\n",
    "    Now, you are given two things:\n",
    "        The calling order in which all the processes are called.\n",
    "        The ideal order in which all the processes should have been executed.\n",
    "        Now, let us demonstrate this by an example. Let's say that there are 3 processes, the calling order of the \n",
    "        processes is: 3 - 2 - 1. The ideal order is: 1 - 3 - 2, i.e., process number 3 will only be executed after process\n",
    "        number 1 has been completed; process number 2 will only be executed after process number 3 has been \n",
    "        executed.\n",
    "\n",
    "        Iteration $1: Since the ideal order has process 1 to be executed firstly, the calling ordered is changed, i.e.,\n",
    "            the first element has to be pushed to the last place. Changing the position of the element takes 1 unit of time\n",
    "            The new calling order is: 2 - 1 - 3. Time taken in step 1: 1.\n",
    "\n",
    "        Iteration $2: Since the ideal order has process 1 to be executed firstly, the calling ordered has to be changed\n",
    "            again, i.e., the first element has to be pushed to the last place. The new calling order is: 1 - 3 - 2. Time\n",
    "            taken in step 2: 1.\n",
    "\n",
    "        Iteration $3: Since the first element of the calling order is same as the ideal order, that process will be \n",
    "            executed. And it will be thus popped out. Time taken in step #3: 1.\n",
    "\n",
    "        Iteration $4: Since the new first element of the calling order is same as the ideal order, that process will be\n",
    "            executed. Time taken in step 4: 1.\n",
    "\n",
    "        Iteration $5: Since the last element of the calling order is same as the ideal order, that process will be executed\n",
    "            Time taken in step 5: 1.\n",
    "\n",
    "        Total time taken: 5 units.\n",
    "\n",
    "    PS: Executing a process takes 1 unit of time. Changing the position takes 1 unit of time.\n",
    "\n",
    "# Input format:\n",
    "    The first line a number N, denoting the number of processes. The second line contains the calling order of the\n",
    "    processes. The third line contains the ideal order of the processes.\n",
    "\n",
    "# Output format:\n",
    "    Print the total time taken for the entire queue of processes to be executed.\n",
    "\n",
    "# Constraints: \n",
    "    1<=N<=100\n",
    "\n",
    "# SAMPLE INPUT \n",
    "    3\n",
    "    3 2 1\n",
    "    1 3 2\n",
    "\n",
    "# SAMPLE OUTPUT \n",
    "    5"
   ]
  }
 ],
 "metadata": {
  "celltoolbar": "Slideshow",
  "kernelspec": {
   "display_name": "Python 3",
   "language": "python",
   "name": "python3"
  },
  "language_info": {
   "codemirror_mode": {
    "name": "ipython",
    "version": 3
   },
   "file_extension": ".py",
   "mimetype": "text/x-python",
   "name": "python",
   "nbconvert_exporter": "python",
   "pygments_lexer": "ipython3",
   "version": "3.7.3"
  }
 },
 "nbformat": 4,
 "nbformat_minor": 2
}
